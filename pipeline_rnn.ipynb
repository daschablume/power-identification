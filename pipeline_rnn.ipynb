{
  "cells": [
    {
      "cell_type": "code",
      "execution_count": 1,
      "metadata": {
        "id": "0h4tdvqsOEPZ",
        "colab": {
          "base_uri": "https://localhost:8080/"
        },
        "outputId": "c712a488-b2f1-4721-d55b-4c4e4b3a05fd"
      },
      "outputs": [
        {
          "output_type": "stream",
          "name": "stdout",
          "text": [
            "Device: cuda\n",
            "Tesla T4\n"
          ]
        }
      ],
      "source": [
        "import torch\n",
        "import torch.nn as nn\n",
        "from torch.utils.data import DataLoader\n",
        "from tqdm import tqdm\n",
        "from utils import PositionalEncoder, load_data, split_data\n",
        "from models import TrainConfig, RNNClassifier\n",
        "\n",
        "if torch.cuda.is_available():\n",
        "    for i in range(torch.cuda.device_count()):\n",
        "        print(\"Device: cuda\")\n",
        "        print(torch.cuda.get_device_name(i))\n",
        "else:\n",
        "    print(\"Device: cpu\")"
      ]
    },
    {
      "cell_type": "code",
      "execution_count": 4,
      "metadata": {
        "colab": {
          "base_uri": "https://localhost:8080/"
        },
        "id": "hjuDVvbUOSt0",
        "outputId": "cd648194-87ec-4fbf-c73c-7f0744aaa5b0"
      },
      "outputs": [
        {
          "output_type": "stream",
          "name": "stdout",
          "text": [
            "Drive already mounted at /content/drive; to attempt to forcibly remount, call drive.mount(\"/content/drive\", force_remount=True).\n"
          ]
        }
      ],
      "source": [
        "# Use this if running on Colab\n",
        "# from google.colab import drive\n",
        "# drive.mount('/content/drive')\n",
        "# base_dir = \"/content/drive/MyDrive/data/power\"\n",
        "\n",
        "# Use this if running locally\n",
        "base_dir = \"data/power\""
      ]
    },
    {
      "cell_type": "code",
      "execution_count": 5,
      "metadata": {
        "colab": {
          "base_uri": "https://localhost:8080/"
        },
        "id": "UAoCz_MqOEPc",
        "outputId": "1ef01292-4f44-41e6-8e36-59f3b672860b"
      },
      "outputs": [
        {
          "output_type": "stream",
          "name": "stdout",
          "text": [
            "Load power-gb-train.tsv...\n",
            "Load power-ua-train.tsv...\n"
          ]
        }
      ],
      "source": [
        "# Load packages\n",
        "file_list = [\n",
        "    'power-gb-train.tsv',\n",
        "    'power-ua-train.tsv',\n",
        "    # 'power-fr-train.tsv',\n",
        "    # 'power-nl-train.tsv',\n",
        "]\n",
        "\n",
        "full_data = load_data(folder_path=base_dir, file_list=file_list,text_head='text_en')\n",
        "train_dev_raw, test_raw = split_data(full_data, test_size=0.2, random_state=0)\n",
        "train_raw, dev_raw = split_data(train_dev_raw, test_size=0.2, random_state=0)\n"
      ]
    },
    {
      "cell_type": "code",
      "execution_count": 6,
      "metadata": {
        "colab": {
          "base_uri": "https://localhost:8080/",
          "height": 69
        },
        "id": "T16XsA0YOEPc",
        "outputId": "885a7921-da2a-457f-d0aa-a7abb1f53415"
      },
      "outputs": [
        {
          "output_type": "stream",
          "name": "stdout",
          "text": [
            "Prepare data encoder...\n"
          ]
        },
        {
          "output_type": "execute_result",
          "data": {
            "text/plain": [
              "PositionalEncoder(tokenizer=<function PositionalEncoder.build_tokenizer.<locals>.simple_tokenizer at 0x7be3307a8700>,\n",
              "                  vocabulary={'': 1, '!': 35750, '\"': 4889, '#': 29827,\n",
              "                              '$': 38672, '%': 19980, '&': 37335, \"'\": 15775,\n",
              "                              '(': 18616, ')': 35907, '*': 63933, '+': 74135,\n",
              "                              ',': 41420, '-': 51957, '.': 4941, '/': 10797,\n",
              "                              '0': 25155, '00': 56687, '000': 60635,\n",
              "                              '0000': 69559, '000th': 10113, '001': 21561,\n",
              "                              '002': 51, '0023': 52214, '0025': 34485,\n",
              "                              '0026': 59473, '0029': 29450, '004': 44360,\n",
              "                              '0040': 67933, '005': 52866, ...})"
            ],
            "text/html": [
              "<style>#sk-container-id-1 {color: black;background-color: white;}#sk-container-id-1 pre{padding: 0;}#sk-container-id-1 div.sk-toggleable {background-color: white;}#sk-container-id-1 label.sk-toggleable__label {cursor: pointer;display: block;width: 100%;margin-bottom: 0;padding: 0.3em;box-sizing: border-box;text-align: center;}#sk-container-id-1 label.sk-toggleable__label-arrow:before {content: \"▸\";float: left;margin-right: 0.25em;color: #696969;}#sk-container-id-1 label.sk-toggleable__label-arrow:hover:before {color: black;}#sk-container-id-1 div.sk-estimator:hover label.sk-toggleable__label-arrow:before {color: black;}#sk-container-id-1 div.sk-toggleable__content {max-height: 0;max-width: 0;overflow: hidden;text-align: left;background-color: #f0f8ff;}#sk-container-id-1 div.sk-toggleable__content pre {margin: 0.2em;color: black;border-radius: 0.25em;background-color: #f0f8ff;}#sk-container-id-1 input.sk-toggleable__control:checked~div.sk-toggleable__content {max-height: 200px;max-width: 100%;overflow: auto;}#sk-container-id-1 input.sk-toggleable__control:checked~label.sk-toggleable__label-arrow:before {content: \"▾\";}#sk-container-id-1 div.sk-estimator input.sk-toggleable__control:checked~label.sk-toggleable__label {background-color: #d4ebff;}#sk-container-id-1 div.sk-label input.sk-toggleable__control:checked~label.sk-toggleable__label {background-color: #d4ebff;}#sk-container-id-1 input.sk-hidden--visually {border: 0;clip: rect(1px 1px 1px 1px);clip: rect(1px, 1px, 1px, 1px);height: 1px;margin: -1px;overflow: hidden;padding: 0;position: absolute;width: 1px;}#sk-container-id-1 div.sk-estimator {font-family: monospace;background-color: #f0f8ff;border: 1px dotted black;border-radius: 0.25em;box-sizing: border-box;margin-bottom: 0.5em;}#sk-container-id-1 div.sk-estimator:hover {background-color: #d4ebff;}#sk-container-id-1 div.sk-parallel-item::after {content: \"\";width: 100%;border-bottom: 1px solid gray;flex-grow: 1;}#sk-container-id-1 div.sk-label:hover label.sk-toggleable__label {background-color: #d4ebff;}#sk-container-id-1 div.sk-serial::before {content: \"\";position: absolute;border-left: 1px solid gray;box-sizing: border-box;top: 0;bottom: 0;left: 50%;z-index: 0;}#sk-container-id-1 div.sk-serial {display: flex;flex-direction: column;align-items: center;background-color: white;padding-right: 0.2em;padding-left: 0.2em;position: relative;}#sk-container-id-1 div.sk-item {position: relative;z-index: 1;}#sk-container-id-1 div.sk-parallel {display: flex;align-items: stretch;justify-content: center;background-color: white;position: relative;}#sk-container-id-1 div.sk-item::before, #sk-container-id-1 div.sk-parallel-item::before {content: \"\";position: absolute;border-left: 1px solid gray;box-sizing: border-box;top: 0;bottom: 0;left: 50%;z-index: -1;}#sk-container-id-1 div.sk-parallel-item {display: flex;flex-direction: column;z-index: 1;position: relative;background-color: white;}#sk-container-id-1 div.sk-parallel-item:first-child::after {align-self: flex-end;width: 50%;}#sk-container-id-1 div.sk-parallel-item:last-child::after {align-self: flex-start;width: 50%;}#sk-container-id-1 div.sk-parallel-item:only-child::after {width: 0;}#sk-container-id-1 div.sk-dashed-wrapped {border: 1px dashed gray;margin: 0 0.4em 0.5em 0.4em;box-sizing: border-box;padding-bottom: 0.4em;background-color: white;}#sk-container-id-1 div.sk-label label {font-family: monospace;font-weight: bold;display: inline-block;line-height: 1.2em;}#sk-container-id-1 div.sk-label-container {text-align: center;}#sk-container-id-1 div.sk-container {/* jupyter's `normalize.less` sets `[hidden] { display: none; }` but bootstrap.min.css set `[hidden] { display: none !important; }` so we also need the `!important` here to be able to override the default hidden behavior on the sphinx rendered scikit-learn.org. See: https://github.com/scikit-learn/scikit-learn/issues/21755 */display: inline-block !important;position: relative;}#sk-container-id-1 div.sk-text-repr-fallback {display: none;}</style><div id=\"sk-container-id-1\" class=\"sk-top-container\"><div class=\"sk-text-repr-fallback\"><pre>PositionalEncoder(tokenizer=&lt;function PositionalEncoder.build_tokenizer.&lt;locals&gt;.simple_tokenizer at 0x7be3307a8700&gt;,\n",
              "                  vocabulary={&#x27;&#x27;: 1, &#x27;!&#x27;: 35750, &#x27;&quot;&#x27;: 4889, &#x27;#&#x27;: 29827,\n",
              "                              &#x27;$&#x27;: 38672, &#x27;%&#x27;: 19980, &#x27;&amp;&#x27;: 37335, &quot;&#x27;&quot;: 15775,\n",
              "                              &#x27;(&#x27;: 18616, &#x27;)&#x27;: 35907, &#x27;*&#x27;: 63933, &#x27;+&#x27;: 74135,\n",
              "                              &#x27;,&#x27;: 41420, &#x27;-&#x27;: 51957, &#x27;.&#x27;: 4941, &#x27;/&#x27;: 10797,\n",
              "                              &#x27;0&#x27;: 25155, &#x27;00&#x27;: 56687, &#x27;000&#x27;: 60635,\n",
              "                              &#x27;0000&#x27;: 69559, &#x27;000th&#x27;: 10113, &#x27;001&#x27;: 21561,\n",
              "                              &#x27;002&#x27;: 51, &#x27;0023&#x27;: 52214, &#x27;0025&#x27;: 34485,\n",
              "                              &#x27;0026&#x27;: 59473, &#x27;0029&#x27;: 29450, &#x27;004&#x27;: 44360,\n",
              "                              &#x27;0040&#x27;: 67933, &#x27;005&#x27;: 52866, ...})</pre><b>In a Jupyter environment, please rerun this cell to show the HTML representation or trust the notebook. <br />On GitHub, the HTML representation is unable to render, please try loading this page with nbviewer.org.</b></div><div class=\"sk-container\" hidden><div class=\"sk-item\"><div class=\"sk-estimator sk-toggleable\"><input class=\"sk-toggleable__control sk-hidden--visually\" id=\"sk-estimator-id-1\" type=\"checkbox\" checked><label for=\"sk-estimator-id-1\" class=\"sk-toggleable__label sk-toggleable__label-arrow\">PositionalEncoder</label><div class=\"sk-toggleable__content\"><pre>PositionalEncoder(tokenizer=&lt;function PositionalEncoder.build_tokenizer.&lt;locals&gt;.simple_tokenizer at 0x7be3307a8700&gt;,\n",
              "                  vocabulary={&#x27;&#x27;: 1, &#x27;!&#x27;: 35750, &#x27;&quot;&#x27;: 4889, &#x27;#&#x27;: 29827,\n",
              "                              &#x27;$&#x27;: 38672, &#x27;%&#x27;: 19980, &#x27;&amp;&#x27;: 37335, &quot;&#x27;&quot;: 15775,\n",
              "                              &#x27;(&#x27;: 18616, &#x27;)&#x27;: 35907, &#x27;*&#x27;: 63933, &#x27;+&#x27;: 74135,\n",
              "                              &#x27;,&#x27;: 41420, &#x27;-&#x27;: 51957, &#x27;.&#x27;: 4941, &#x27;/&#x27;: 10797,\n",
              "                              &#x27;0&#x27;: 25155, &#x27;00&#x27;: 56687, &#x27;000&#x27;: 60635,\n",
              "                              &#x27;0000&#x27;: 69559, &#x27;000th&#x27;: 10113, &#x27;001&#x27;: 21561,\n",
              "                              &#x27;002&#x27;: 51, &#x27;0023&#x27;: 52214, &#x27;0025&#x27;: 34485,\n",
              "                              &#x27;0026&#x27;: 59473, &#x27;0029&#x27;: 29450, &#x27;004&#x27;: 44360,\n",
              "                              &#x27;0040&#x27;: 67933, &#x27;005&#x27;: 52866, ...})</pre></div></div></div></div></div>"
            ]
          },
          "metadata": {},
          "execution_count": 6
        }
      ],
      "source": [
        "\n",
        "print(\"Prepare data encoder...\")\n",
        "train_encoder = PositionalEncoder()\n",
        "train_encoder.fit(train_raw.texts)"
      ]
    },
    {
      "cell_type": "code",
      "execution_count": 7,
      "metadata": {
        "colab": {
          "base_uri": "https://localhost:8080/"
        },
        "id": "qmKV1p_6OEPc",
        "outputId": "b3e42164-8c44-49c4-9324-8dfa7f8e78c8"
      },
      "outputs": [
        {
          "output_type": "stream",
          "name": "stderr",
          "text": [
            "\rEpoch 1:   0%|          | 0/567 [00:00<?, ?batch/s]/content/utils.py:94: UserWarning: Sparse CSR tensor support is in beta state. If you miss a functionality in the sparse tensor support, please submit a feature request to https://github.com/pytorch/pytorch/issues. (Triggered internally at ../aten/src/ATen/SparseCsrTensorImpl.cpp:53.)\n",
            "  tokens_sparse = torch.sparse_csr_tensor(crow, col, token_val, size=mat_size, dtype=torch.long)\n",
            "Epoch 1: 100%|██████████| 567/567 [01:50<00:00,  5.12batch/s, batch_accuracy=0.703, loss=66.4]\n",
            "Epoch 2: 100%|██████████| 567/567 [01:53<00:00,  4.99batch/s, batch_accuracy=0.676, loss=63.5]\n",
            "Epoch 3: 100%|██████████| 567/567 [01:50<00:00,  5.15batch/s, batch_accuracy=0.73, loss=62.5]\n",
            "Epoch 4: 100%|██████████| 567/567 [01:51<00:00,  5.08batch/s, batch_accuracy=0.73, loss=62.2]\n",
            "Epoch 5: 100%|██████████| 567/567 [01:50<00:00,  5.15batch/s, batch_accuracy=0.757, loss=61.4]\n",
            "Epoch 6: 100%|██████████| 567/567 [01:49<00:00,  5.17batch/s, batch_accuracy=0.811, loss=46.4]\n",
            "Epoch 7: 100%|██████████| 567/567 [01:50<00:00,  5.14batch/s, batch_accuracy=0.973, loss=66]\n",
            "Epoch 8: 100%|██████████| 567/567 [01:50<00:00,  5.13batch/s, batch_accuracy=0.919, loss=81.9]\n",
            "Epoch 9: 100%|██████████| 567/567 [01:50<00:00,  5.15batch/s, batch_accuracy=0.838, loss=56.8]\n",
            "Epoch 10: 100%|██████████| 567/567 [01:49<00:00,  5.17batch/s, batch_accuracy=0.946, loss=66.4]\n"
          ]
        }
      ],
      "source": [
        "train_dataloader = DataLoader(train_raw, batch_size=50, shuffle=True)\n",
        "test_dataloader = DataLoader(test_raw, batch_size=50, shuffle=True)\n",
        "\n",
        "# Prepare baseline config\n",
        "train_config = TrainConfig(\n",
        "    optimizer_params = {'lr': 0.01},\n",
        "    num_epochs       = 10,\n",
        "    early_stop       = False,\n",
        "    violation_limit  = 5\n",
        ")\n",
        "\n",
        "# Train baseline model\n",
        "baseline_lstm = RNNClassifier(\n",
        "    rnn_network         = nn.LSTM,\n",
        "    word_embedding_dim  = 32,\n",
        "    hidden_dim          = 64,\n",
        "    bidirectional       = False,\n",
        "    dropout             = 0,\n",
        "    encoder             = train_encoder,\n",
        "    device              = 'cuda'\n",
        ")\n",
        "\n",
        "# TODO: Ask Fredrik if this is truly the case\n",
        "# This is slow because LSTM reads in one word in the sentence at a time. The maximum \"sentence\" length of a batch can be 1000,\n",
        "# so it does at least 1000 matrix multiplication per batch\n",
        "baseline_lstm.fit(train_dataloader, train_config, no_progress_bar=False)\n",
        "\n"
      ]
    },
    {
      "cell_type": "code",
      "source": [
        "# Train baseline model\n",
        "baseline_gru = RNNClassifier(\n",
        "    rnn_network         = nn.GRU,\n",
        "    word_embedding_dim  = 32,\n",
        "    hidden_dim          = 64,\n",
        "    bidirectional       = False,\n",
        "    dropout             = 0,\n",
        "    encoder             = train_encoder,\n",
        "    device              = 'cuda'\n",
        ")\n",
        "\n",
        "baseline_gru.fit(train_dataloader, train_config, no_progress_bar=False)\n"
      ],
      "metadata": {
        "colab": {
          "base_uri": "https://localhost:8080/"
        },
        "id": "NLAtVsu26rqp",
        "outputId": "97a48479-8bd1-43cc-9c29-b2e5dc0f4d2b"
      },
      "execution_count": 10,
      "outputs": [
        {
          "output_type": "stream",
          "name": "stderr",
          "text": [
            "Epoch 1: 100%|██████████| 567/567 [01:51<00:00,  5.08batch/s, batch_accuracy=0.73, loss=62]\n",
            "Epoch 2: 100%|██████████| 567/567 [01:51<00:00,  5.08batch/s, batch_accuracy=0.703, loss=59.1]\n",
            "Epoch 3: 100%|██████████| 567/567 [01:51<00:00,  5.07batch/s, batch_accuracy=0.703, loss=62.5]\n",
            "Epoch 4: 100%|██████████| 567/567 [01:52<00:00,  5.06batch/s, batch_accuracy=0.757, loss=58.4]\n",
            "Epoch 5: 100%|██████████| 567/567 [01:51<00:00,  5.06batch/s, batch_accuracy=0.514, loss=65.3]\n",
            "Epoch 6: 100%|██████████| 567/567 [01:51<00:00,  5.11batch/s, batch_accuracy=0.514, loss=53.7]\n",
            "Epoch 7: 100%|██████████| 567/567 [01:50<00:00,  5.11batch/s, batch_accuracy=0.622, loss=67.6]\n",
            "Epoch 8: 100%|██████████| 567/567 [01:51<00:00,  5.09batch/s, batch_accuracy=0.757, loss=62.7]\n",
            "Epoch 9: 100%|██████████| 567/567 [01:53<00:00,  4.98batch/s, batch_accuracy=0.486, loss=54.6]\n",
            "Epoch 10: 100%|██████████| 567/567 [01:52<00:00,  5.06batch/s, batch_accuracy=0.784, loss=66.5]\n"
          ]
        }
      ]
    },
    {
      "cell_type": "code",
      "execution_count": 11,
      "metadata": {
        "id": "C9-wJiBEOEPc",
        "colab": {
          "base_uri": "https://localhost:8080/"
        },
        "outputId": "c8b1fea5-875f-488e-9f39-b35d2655bc68"
      },
      "outputs": [
        {
          "output_type": "stream",
          "name": "stderr",
          "text": [
            "100%|██████████| 181/181 [00:24<00:00,  7.33batch/s]\n"
          ]
        },
        {
          "output_type": "stream",
          "name": "stdout",
          "text": [
            "Last train accuracy: 94.6%. Test accuracy 70.9%\n"
          ]
        },
        {
          "output_type": "stream",
          "name": "stderr",
          "text": [
            "100%|██████████| 181/181 [00:24<00:00,  7.46batch/s]"
          ]
        },
        {
          "output_type": "stream",
          "name": "stdout",
          "text": [
            "Last train accuracy: 78.4%. Test accuracy 58.9%\n"
          ]
        },
        {
          "output_type": "stream",
          "name": "stderr",
          "text": [
            "\n"
          ]
        }
      ],
      "source": [
        "\n",
        "def evaluate_model(\n",
        "        model: nn.Module | RNNClassifier,\n",
        "        test_dataloader,\n",
        "        train_encoder\n",
        "    ) -> float:\n",
        "    \"\"\"Evaluate the model on an inputs-targets set, using accuracy metric.\n",
        "\n",
        "    Parameters\n",
        "    ----------\n",
        "    model : nn.Module\n",
        "        Should be one of the two custom RNN taggers we defined.\n",
        "    inputs : torch.Tensor\n",
        "    targets : torch.Tensor\n",
        "    pad_tag_idx : int\n",
        "        Index of the <PAD> tag in the tagset to be ignored when calculating accuracy\n",
        "\n",
        "    Returns\n",
        "    -------\n",
        "    float\n",
        "        Accuracy metric (ignored the <PAD> tag)\n",
        "    \"\"\"\n",
        "    corrects = []\n",
        "    total_dpoints = 0\n",
        "    for ids, speakers, raw_inputs, raw_targets in tqdm(test_dataloader, unit=\"batch\"):\n",
        "\n",
        "        batch_encoder = PositionalEncoder(vocabulary=train_encoder.vocabulary)\n",
        "        inputs = batch_encoder.fit_transform(raw_inputs)\n",
        "        targets = torch.as_tensor(raw_targets, dtype=torch.float).to(model.device)  # nn.CrossEntropyLoss() require target to be float\n",
        "\n",
        "        # Make prediction\n",
        "        scores = model(inputs.to(model.device))\n",
        "        pred = scores > 0.5\n",
        "        correct = (pred == targets).sum().item()\n",
        "        corrects.append(correct)\n",
        "        total_dpoints += len(inputs)\n",
        "\n",
        "    accuracy = sum(corrects) / total_dpoints\n",
        "\n",
        "    return accuracy\n",
        "\n",
        "# Evaluate  model\n",
        "baseline_lstm_acc = evaluate_model(baseline_lstm, test_dataloader, train_encoder)\n",
        "print(f\"Last train accuracy: {baseline_lstm.training_accuracy_[-1] * 100:.1f}%. Test accuracy {baseline_lstm_acc * 100:.1f}%\")\n",
        "\n",
        "baseline_lstm_gru = evaluate_model(baseline_gru, test_dataloader, train_encoder)\n",
        "print(f\"Last train accuracy: {baseline_gru.training_accuracy_[-1] * 100:.1f}%. Test accuracy {baseline_lstm_gru * 100:.1f}%\")\n",
        "\n"
      ]
    },
    {
      "cell_type": "code",
      "source": [],
      "metadata": {
        "id": "v1eHyn2RDfGW"
      },
      "execution_count": null,
      "outputs": []
    }
  ],
  "metadata": {
    "accelerator": "GPU",
    "colab": {
      "gpuType": "T4",
      "provenance": []
    },
    "kernelspec": {
      "display_name": "Python 3",
      "name": "python3"
    },
    "language_info": {
      "codemirror_mode": {
        "name": "ipython",
        "version": 3
      },
      "file_extension": ".py",
      "mimetype": "text/x-python",
      "name": "python",
      "nbconvert_exporter": "python",
      "pygments_lexer": "ipython3",
      "version": "3.11.5"
    }
  },
  "nbformat": 4,
  "nbformat_minor": 0
}