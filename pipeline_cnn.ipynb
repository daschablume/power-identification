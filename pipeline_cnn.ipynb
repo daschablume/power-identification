{
  "cells": [
    {
      "cell_type": "code",
      "execution_count": 1,
      "metadata": {
        "colab": {
          "base_uri": "https://localhost:8080/"
        },
        "id": "Q1U1kcW1BC9D",
        "outputId": "8572812e-57c8-4ddf-bf09-57c40c8a792a"
      },
      "outputs": [
        {
          "output_type": "stream",
          "name": "stdout",
          "text": [
            "Tesla T4\n",
            "Device: cuda\n"
          ]
        }
      ],
      "source": [
        "import os.path\n",
        "import torch\n",
        "import torch.nn as nn\n",
        "from torch.utils.data import Dataset\n",
        "\n",
        "from tqdm import tqdm\n",
        "import numpy as np\n",
        "\n",
        "from utils import RawDataset, EncodedDataset, load_data, split_data\n",
        "\n",
        "if torch.cuda.is_available():\n",
        "    device = torch.device(\"cuda\")\n",
        "    for i in range(torch.cuda.device_count()):\n",
        "        print(torch.cuda.get_device_name(i))\n",
        "else:\n",
        "    device = torch.device(\"cpu\")\n",
        "print(\"Device:\", device)"
      ]
    },
    {
      "cell_type": "markdown",
      "metadata": {
        "id": "HHUqUIsXcN0C"
      },
      "source": [
        "Loading the data set"
      ]
    },
    {
      "cell_type": "code",
      "execution_count": 2,
      "metadata": {
        "colab": {
          "base_uri": "https://localhost:8080/"
        },
        "id": "POLZbQsjFPXR",
        "outputId": "a6b9b4c4-c2c7-452a-eaa9-bd313faa90df"
      },
      "outputs": [
        {
          "output_type": "stream",
          "name": "stdout",
          "text": [
            "Mounted at /content/drive\n"
          ]
        }
      ],
      "source": [
        "# Use this if using Colab\n",
        "from google.colab import drive\n",
        "drive.mount('/content/drive')\n",
        "base_dir = \"/content/drive/MyDrive/data/power\"\n",
        "\n",
        "# Use this if running locally\n",
        "# base_dir = \"data/power/\""
      ]
    },
    {
      "cell_type": "code",
      "execution_count": 3,
      "metadata": {
        "colab": {
          "base_uri": "https://localhost:8080/"
        },
        "id": "fqPJ3hfLEhMR",
        "outputId": "7b6f85c5-eba8-4f8f-ebaa-e85e70b322c4"
      },
      "outputs": [
        {
          "output_type": "stream",
          "name": "stdout",
          "text": [
            "Load power-gb-train.tsv...\n",
            "Load power-ua-train.tsv...\n"
          ]
        }
      ],
      "source": [
        "\n",
        "\n",
        "full_data = load_data(base_dir, [\"power-gb-train.tsv\", \"power-ua-train.tsv\"], text_head='text_en')\n",
        "\n",
        "training_raw, test_raw = split_data(full_data, test_size=0.2, random_state=0)\n",
        "\n",
        "\n",
        "class ParliamentData(Dataset):\n",
        "    def __init__(self, data: RawDataset, transform: None):\n",
        "        self.texts = data.texts\n",
        "        self.labels = data.labels\n",
        "        self._transform = transform\n",
        "\n",
        "    def __getitem__(self, index: int):\n",
        "        ret = {'text': self.texts[index], 'label': self.labels[index]}\n",
        "        if self._transform is None:\n",
        "            return ret\n",
        "        else:\n",
        "            return self._transform(ret)\n",
        "\n",
        "    def __len__(self):\n",
        "        return len(self.labels)\n"
      ]
    },
    {
      "cell_type": "markdown",
      "metadata": {
        "id": "9BYFgGwjdJEN"
      },
      "source": [
        "Create vocabulary"
      ]
    },
    {
      "cell_type": "code",
      "execution_count": 4,
      "metadata": {
        "colab": {
          "base_uri": "https://localhost:8080/"
        },
        "id": "sCRyRnCPdJKG",
        "outputId": "6ae86405-984a-4847-92ab-b4434c7ba96a"
      },
      "outputs": [
        {
          "output_type": "stream",
          "name": "stdout",
          "text": [
            "Loading training data...done\n",
            "Loading test data...done\n",
            "Found 78231 tokens in the dataset\n"
          ]
        }
      ],
      "source": [
        "from nltk.tokenize import wordpunct_tokenize\n",
        "\n",
        "class Tokenize(object):\n",
        "    def __call__(self, data):\n",
        "        text, label = data['text'], data['label']\n",
        "        return {'text': [word.lower() for word in wordpunct_tokenize(text)],\n",
        "                'label': label}\n",
        "\n",
        "training_data = ParliamentData(training_raw, Tokenize())\n",
        "test_data = ParliamentData(test_raw, Tokenize())\n",
        "\n",
        "print(\"Loading training data...\", end=\"\")\n",
        "dataset_vocab = set()\n",
        "for sample in training_data:\n",
        "    sample_tokens = set(sample['text'])\n",
        "    dataset_vocab.update(sample_tokens)\n",
        "print(\"done\")\n",
        "\n",
        "print(\"Loading test data...\", end=\"\")\n",
        "for sample in test_data:\n",
        "    sample_tokens = set(sample['text'])\n",
        "    dataset_vocab.update(sample_tokens)\n",
        "print(\"done\")\n",
        "\n",
        "print(\"Found %i tokens in the dataset\" % len(dataset_vocab))"
      ]
    },
    {
      "cell_type": "markdown",
      "metadata": {
        "id": "xY73LU6XbFxI"
      },
      "source": [
        "## Word embedding\n",
        "\n",
        "We need a word embedding"
      ]
    },
    {
      "cell_type": "code",
      "execution_count": 6,
      "metadata": {
        "colab": {
          "base_uri": "https://localhost:8080/"
        },
        "id": "yMShKdhDbGJK",
        "outputId": "2bce3cd9-c22d-47d5-8e08-c01e99569371"
      },
      "outputs": [
        {
          "output_type": "stream",
          "name": "stdout",
          "text": [
            "Drive already mounted at /content/drive; to attempt to forcibly remount, call drive.mount(\"/content/drive\", force_remount=True).\n",
            "mkdir: cannot create directory ‘.vector_cache’: File exists\n"
          ]
        }
      ],
      "source": [
        "from google.colab import drive\n",
        "\n",
        "drive.mount('/content/drive')\n",
        "base_glove = \"/content/drive/MyDrive/data/glove/\"\n",
        "assert os.path.exists(base_glove)\n",
        "\n",
        "!mkdir .vector_cache\n",
        "!cp /content/drive/MyDrive/data/glove/glove.6B.zip .vector_cache/\n"
      ]
    },
    {
      "cell_type": "code",
      "execution_count": 7,
      "metadata": {
        "colab": {
          "base_uri": "https://localhost:8080/",
          "height": 609
        },
        "id": "3pv7EtNybCTE",
        "outputId": "59a05508-5f48-4022-9d31-ca891fbd534f"
      },
      "outputs": [
        {
          "output_type": "stream",
          "name": "stderr",
          "text": [
            "100%|█████████▉| 399999/400000 [00:28<00:00, 13837.85it/s]\n"
          ]
        },
        {
          "output_type": "stream",
          "name": "stdout",
          "text": [
            "400000 words in GloVe\n",
            "78231 words in the dataset\n",
            "60350 overlapping words\n"
          ]
        },
        {
          "output_type": "display_data",
          "data": {
            "text/plain": [
              "<Figure size 600x600 with 1 Axes>"
            ],
            "image/png": "[encoded data removed]"
          },
          "metadata": {}
        }
      ],
      "source": [
        "from torchtext.vocab import GloVe\n",
        "glove = GloVe(name='6B', dim=100)\n",
        "print(\"%i words in GloVe\" % len(glove.itos))\n",
        "print(\"%i words in the dataset\" % len(dataset_vocab))\n",
        "print(\"%i overlapping words\" % len(dataset_vocab.intersection(set(glove.itos))))\n",
        "\n",
        "import matplotlib.pyplot as plt\n",
        "from scipy.optimize import minimize_scalar\n",
        "\n",
        "a = np.linspace(0, 2*np.pi, 100)\n",
        "r1 = np.sqrt(len(glove.itos)/np.pi)\n",
        "r2 = np.sqrt(len(dataset_vocab)/np.pi)\n",
        "A = np.random.uniform(-r2, r2, size=(int(1000*(4/np.pi)), 2))\n",
        "A = A[np.sqrt(np.sum(A**2, axis=1))<=r2, :]\n",
        "p  = len(dataset_vocab.intersection(set(glove.itos)))/len(dataset_vocab)\n",
        "def f(d):\n",
        "    B = A.copy()\n",
        "    B[:, 1] += d\n",
        "    return np.abs(p-np.sum(np.sqrt(np.sum(B**2, axis=1))<=r1)/B.shape[0])\n",
        "\n",
        "d = minimize_scalar(f, bounds=(r1-r2, r1+r2), method='bounded').x\n",
        "\n",
        "plt.figure(figsize=(4, 4), dpi=150)\n",
        "plt.plot(r1*np.cos(a), r1*np.sin(a))\n",
        "plt.text(0, 0, \"GloVe\", fontsize=14, horizontalalignment='center', verticalalignment='center')\n",
        "plt.plot(d+r2*np.cos(a), r2*np.sin(a))\n",
        "plt.text(d, 0, \"Dataset\", fontsize=14, horizontalalignment='center', verticalalignment='center')\n",
        "# A[:, 0] += d\n",
        "# plt.scatter(A[:, 0], A[:, 1], s=3, c=np.sqrt(np.sum(A**2, axis=1))<=r1, marker='.', cmap='tab10')\n",
        "plt.title(\"Vocabularies\")\n",
        "plt.xticks([])\n",
        "plt.yticks([])\n",
        "plt.axis('equal')\n",
        "plt.show()"
      ]
    },
    {
      "cell_type": "markdown",
      "metadata": {
        "id": "A-mFGsHydG3A"
      },
      "source": [
        "The dataset vocabulary does not overlap completely with the embedding vocabulary."
      ]
    },
    {
      "cell_type": "code",
      "execution_count": 8,
      "metadata": {
        "colab": {
          "base_uri": "https://localhost:8080/"
        },
        "id": "4nEq99_zjdTD",
        "outputId": "8bb3d28e-168e-4f1f-e1a5-ac9de5132e35"
      },
      "outputs": [
        {
          "output_type": "execute_result",
          "data": {
            "text/plain": [
              "Embedding(60352, 100)"
            ]
          },
          "metadata": {},
          "execution_count": 8
        }
      ],
      "source": [
        "embedding_vocab = dataset_vocab.intersection(set(glove.itos))\n",
        "\n",
        "idx2token = ['<UNK>', '<PAD>']\n",
        "idx2token.extend(embedding_vocab)\n",
        "\n",
        "token2idx = {w:i for i, w in enumerate(idx2token)}\n",
        "\n",
        "glove.unk_init = lambda _: torch.zeros(glove.dim)\n",
        "embedding_vectors = torch.stack([glove[w] for w in idx2token])\n",
        "\n",
        "embedding = nn.Embedding(num_embeddings=embedding_vectors.size(0),\n",
        "                         embedding_dim=embedding_vectors.size(1),\n",
        "                         padding_idx=token2idx['<PAD>']).from_pretrained(embedding_vectors)\n",
        "embedding"
      ]
    },
    {
      "cell_type": "code",
      "execution_count": 9,
      "metadata": {
        "colab": {
          "base_uri": "https://localhost:8080/"
        },
        "id": "tYSFS-VyX9Zg",
        "outputId": "dc35d577-2534-41ac-97ca-77810da9f8de"
      },
      "outputs": [
        {
          "output_type": "stream",
          "name": "stdout",
          "text": [
            "{'text': tensor([ 8341,  5271,  3275, 42688,  1540,   787, 43496,  4491, 20159, 24390,\n",
            "        34105, 31479, 25192, 13861, 60271, 58362, 42998, 20159, 30072,  5271,\n",
            "        41718, 29683, 26134, 42998, 20159, 35360, 13387, 35288,  3275, 42688,\n",
            "         1540,   787, 43496, 33595,  3032, 20159, 25014, 16287, 20579, 36074,\n",
            "        32963, 13956, 22483, 27089, 10284, 38404, 14522, 29683, 26134, 42998,\n",
            "         5936,   383, 20159, 27589, 31479, 29965, 37634, 20579,  1534, 32963,\n",
            "        10853, 51307, 35288,  3275, 42688, 36925,  1540,   787, 43496, 15046,\n",
            "        20159, 59308, 25449,   688,  6176,   121, 31479,  3275, 25971,  1540,\n",
            "          787, 43496, 32963,  9156,  5852, 13956, 22483, 53954,  2805,  3275,\n",
            "        35288, 22671, 59083, 29683,  2836,  5271,  3275, 25971, 58826, 27089,\n",
            "        30736, 16785, 35288]), 'label': tensor([0])}\n"
          ]
        }
      ],
      "source": [
        "class Encode(object):\n",
        "    def __init__(self, token2idx):\n",
        "        self._token2idx = token2idx\n",
        "        self._vocab = set(token2idx.keys())\n",
        "\n",
        "    def __call__(self, data):\n",
        "        tokens, label = data['text'], data['label']\n",
        "        tokens = [token if token in embedding_vocab else '<UNK>' for token in tokens]\n",
        "        encoded = [token2idx[token] for token in tokens]\n",
        "        return {'text': encoded, 'label': label}\n",
        "\n",
        "class ToTensor(object):\n",
        "    def __call__(self, data):\n",
        "        text, label = data['text'], data['label']\n",
        "        return {'text': torch.LongTensor(text),\n",
        "                'label': torch.LongTensor([label])}\n",
        "\n",
        "from torchvision import transforms\n",
        "\n",
        "training_data = ParliamentData(training_raw,\n",
        "                                transform=transforms.Compose([Tokenize(),\n",
        "                                                              Encode(token2idx),\n",
        "                                                              ToTensor()]))\n",
        "print(training_data[0])"
      ]
    },
    {
      "cell_type": "code",
      "execution_count": 10,
      "metadata": {
        "id": "V0GbmgWIDLoT"
      },
      "outputs": [],
      "source": [
        "# Collate function determine the shape of each batch in the loader\n",
        "# This function returns a dictionary of {labels, text}, where values are a tensor of the length equal to the batch size\n",
        "def collate_with_padding(batch):\n",
        "    ret = {'label': torch.cat([sample['label'] for sample in batch])}\n",
        "    max_length = np.max([sample['text'].size(0) for sample in batch])\n",
        "    vectors = list()\n",
        "    for sample in batch:\n",
        "        # If a text is less than max length, add padding. Else, add the text\n",
        "        if sample['text'].size(0) < max_length:\n",
        "            vectors.append(torch.cat([sample['text'], torch.ones(max_length-sample['text'].size(0))*token2idx['<PAD>']]))\n",
        "        else:\n",
        "            vectors.append(sample['text'])\n",
        "\n",
        "      # A value of the text is a list of tokens. stack them into a tensor of length equal to the batch size\n",
        "    ret['text'] = torch.stack(vectors).long()\n",
        "    return ret\n",
        "\n",
        "dataloader = torch.utils.data.DataLoader(training_data, batch_size=64, shuffle=True, num_workers=0, collate_fn=collate_with_padding, pin_memory=True)\n",
        "# d = list(dataloader)[0]\n"
      ]
    },
    {
      "cell_type": "code",
      "execution_count": 14,
      "metadata": {
        "id": "-mhJGmAbAen-"
      },
      "outputs": [],
      "source": [
        "class PowerClassification(nn.Module):\n",
        "    def __init__(self, embedding, n_epochs=20, learning_rate=1, verbose=False):\n",
        "        super(PowerClassification, self).__init__()\n",
        "        self.n_epochs_ = n_epochs\n",
        "        self.verbose = verbose\n",
        "        # Define layers\n",
        "        self._embedding = embedding\n",
        "        self._conv3 = nn.Sequential(nn.Conv1d(self._embedding.embedding_dim, 100, kernel_size=3, padding=0),\n",
        "                                    nn.ReLU(),\n",
        "                                    nn.AdaptiveMaxPool1d(1))\n",
        "        self._conv4 = nn.Sequential(nn.Conv1d(self._embedding.embedding_dim, 100, kernel_size=4, padding=0),\n",
        "                                    nn.ReLU(),\n",
        "                                    nn.AdaptiveMaxPool1d(1))\n",
        "        self._conv5 = nn.Sequential(nn.Conv1d(self._embedding.embedding_dim, 100, kernel_size=5, padding=0),\n",
        "                                    nn.ReLU(),\n",
        "                                    nn.AdaptiveMaxPool1d(1))\n",
        "        self._dropout = nn.Dropout(0.5)\n",
        "        self._fc = nn.Sequential(nn.Linear(3*100, 2),\n",
        "                                nn.LogSoftmax(dim=1))\n",
        "        # Define optimiser and loss\n",
        "        self.learning_rate_ = learning_rate\n",
        "        self.optimizer_ = torch.optim.SGD(self.parameters(), lr=self.learning_rate_)\n",
        "        self.loss_function_ = nn.NLLLoss()\n",
        "        # For making nice plots\n",
        "        self.training_loss_ = list()\n",
        "        self.training_accuracy_ = list()\n",
        "\n",
        "        if torch.cuda.is_available():\n",
        "            self.to('cuda')\n",
        "\n",
        "\n",
        "    def forward(self, X):\n",
        "        # \"\"\"Forward pass, this is used for making predictions.\"\"\"\n",
        "        x = self._embedding(X)\n",
        "        x = x.transpose(1, 2)\n",
        "        c3 = self._conv3(x)\n",
        "        c4 = self._conv4(x)\n",
        "        c5 = self._conv5(x)\n",
        "        x = torch.cat([c3, c4, c5], dim=1)\n",
        "        x = x.view(x.size(0), -1)\n",
        "        x = self._dropout(x)\n",
        "        x = self._fc(x)\n",
        "        return x\n",
        "\n",
        "\n",
        "    def fit(self, X, y=None):\n",
        "        \"\"\"Train the model\"\"\"\n",
        "        for epoch in range(self.n_epochs_):\n",
        "            if isinstance(X, torch.utils.data.dataloader.DataLoader):\n",
        "                for batch in tqdm(X, desc=\"Training epoch %i\" % epoch):\n",
        "                    self._fit(batch['text'], batch['label'])\n",
        "            else:\n",
        "                self._fit(X, y)\n",
        "\n",
        "            if self.verbose:\n",
        "                if self.n_epochs_ < 50 or (epoch % 50) == 0:\n",
        "                    print(\"Epoch %2i: Loss %.7f\" % (epoch, self._loss.item()))\n",
        "\n",
        "\n",
        "    def _fit(self, X, y):\n",
        "        \"\"\"A single step in the training\"\"\"\n",
        "        if torch.cuda.is_available():\n",
        "            X = X.cuda()\n",
        "            y = y.cuda()\n",
        "\n",
        "        self.zero_grad()              # Reset gradients\n",
        "        forward_pass_output = self(X) # Forward pass\n",
        "        self._loss = self.loss_function_(forward_pass_output, y) # Calculate loss\n",
        "        self._loss.backward()         # Backward pass\n",
        "        self.optimizer_.step()        # Run the optimizer one step\n",
        "        # Store values for user feedback\n",
        "        self.training_loss_.append(self._loss.item())\n",
        "        self.training_accuracy_.append(self.score(X, y))\n",
        "\n",
        "\n",
        "    def predict(self, X):\n",
        "        \"\"\"Predict labels\"\"\"\n",
        "        return np.asarray(np.argmax(self.predict_proba(X), axis=1), dtype=int)\n",
        "\n",
        "\n",
        "    def predict_proba(self, X):\n",
        "        \"\"\"Predict label probabilities\"\"\"\n",
        "        if torch.cuda.is_available():\n",
        "            X = X.cuda()\n",
        "        with torch.no_grad():         # Disable gradient calculations\n",
        "            model.eval()                # Disable dropout\n",
        "            x = self(X)                 # Forward pass without dropout\n",
        "            model.train()               # Enable dropout again, we need it during training\n",
        "\n",
        "            if torch.cuda.is_available():\n",
        "                x = x.cpu()\n",
        "\n",
        "        return np.exp(x.detach().numpy())\n",
        "\n",
        "\n",
        "    def score(self, X, y):\n",
        "        \"\"\"Get the accuracy of the model given the data\"\"\"\n",
        "        if torch.cuda.is_available():\n",
        "            y = y.cpu()\n",
        "        return np.sum(self.predict(X)==y.numpy())/len(y)\n",
        "\n",
        "model = PowerClassification(embedding=embedding, n_epochs=3, verbose=True, learning_rate=.1)"
      ]
    },
    {
      "cell_type": "code",
      "execution_count": 15,
      "metadata": {
        "colab": {
          "base_uri": "https://localhost:8080/"
        },
        "id": "9kJQDjjnm0n9",
        "outputId": "e373d26c-432b-4808-ca12-5b4c632fdace"
      },
      "outputs": [
        {
          "output_type": "stream",
          "name": "stderr",
          "text": [
            "Training epoch 0: 100%|██████████| 556/556 [00:57<00:00,  9.74it/s]\n"
          ]
        },
        {
          "output_type": "stream",
          "name": "stdout",
          "text": [
            "Epoch  0: Loss 0.5848358\n"
          ]
        },
        {
          "output_type": "stream",
          "name": "stderr",
          "text": [
            "Training epoch 1: 100%|██████████| 556/556 [00:53<00:00, 10.47it/s]\n"
          ]
        },
        {
          "output_type": "stream",
          "name": "stdout",
          "text": [
            "Epoch  1: Loss 0.4843262\n"
          ]
        },
        {
          "output_type": "stream",
          "name": "stderr",
          "text": [
            "Training epoch 2: 100%|██████████| 556/556 [00:53<00:00, 10.31it/s]"
          ]
        },
        {
          "output_type": "stream",
          "name": "stdout",
          "text": [
            "Epoch  2: Loss 0.4550712\n"
          ]
        },
        {
          "output_type": "stream",
          "name": "stderr",
          "text": [
            "\n"
          ]
        }
      ],
      "source": [
        "model.fit(dataloader)"
      ]
    },
    {
      "cell_type": "code",
      "execution_count": 16,
      "metadata": {
        "colab": {
          "base_uri": "https://localhost:8080/",
          "height": 322
        },
        "id": "VASRthlGs33o",
        "outputId": "75cdcc20-2838-4398-ed03-a0b16c71dcf9"
      },
      "outputs": [
        {
          "output_type": "display_data",
          "data": {
            "text/plain": [
              "<Figure size 1600x400 with 2 Axes>"
            ],
            "image/png": "[encoded data removed]"
          },
          "metadata": {}
        }
      ],
      "source": [
        "batches = int(np.ceil(len(training_data)/dataloader.batch_size))\n",
        "\n",
        "fig = plt.figure(figsize=(16, 4))\n",
        "ax = fig.subplots(1, 2)\n",
        "ax[0].plot(model.training_loss_)\n",
        "ax[0].set_ylabel(\"Loss\")\n",
        "ax[0].set_xlabel(\"Batch\")\n",
        "ax[1].plot(100*np.asarray(model.training_accuracy_))\n",
        "ax[1].set_ylabel(\"Accuracy\")\n",
        "ax[1].set_xlabel(\"Batch\")\n",
        "fig.show()"
      ]
    },
    {
      "cell_type": "code",
      "execution_count": 17,
      "metadata": {
        "colab": {
          "base_uri": "https://localhost:8080/"
        },
        "id": "DtL3Rt71gGFo",
        "outputId": "917a5593-a45b-4eb2-e42f-6d192621a7fb"
      },
      "outputs": [
        {
          "output_type": "stream",
          "name": "stdout",
          "text": [
            "torch.Size([60352, 100])\n",
            "torch.Size([100, 100, 3])\n",
            "torch.Size([100])\n",
            "torch.Size([100, 100, 4])\n",
            "torch.Size([100])\n",
            "torch.Size([100, 100, 5])\n",
            "torch.Size([100])\n",
            "torch.Size([2, 300])\n",
            "torch.Size([2])\n"
          ]
        }
      ],
      "source": [
        "for p in model.parameters():\n",
        "  print(p.shape)"
      ]
    },
    {
      "cell_type": "code",
      "execution_count": 18,
      "metadata": {
        "colab": {
          "base_uri": "https://localhost:8080/"
        },
        "id": "Wh9ixkTPiAhv",
        "outputId": "0eaaeef0-f8f9-4b13-a61f-4ec83a08d46a"
      },
      "outputs": [
        {
          "output_type": "stream",
          "name": "stderr",
          "text": [
            "Calculating test set accuracy: 100%|██████████| 141/141 [00:08<00:00, 15.82it/s]"
          ]
        },
        {
          "output_type": "stream",
          "name": "stdout",
          "text": [
            "Test set accuracy is 75.6%\n"
          ]
        },
        {
          "output_type": "stream",
          "name": "stderr",
          "text": [
            "\n"
          ]
        }
      ],
      "source": [
        "test_data = ParliamentData(test_raw,\n",
        "                            transform=transforms.Compose([Tokenize(),\n",
        "                                                          Encode(token2idx),\n",
        "                                                          ToTensor()]))\n",
        "test_data_loader = torch.utils.data.DataLoader(test_data, batch_size=64, num_workers=0,\n",
        "                                               collate_fn=collate_with_padding)\n",
        "accuracy = np.average([model.score(batch['text'], batch['label']) for batch in tqdm(test_data_loader, desc=\"Calculating test set accuracy\")])\n",
        "print(\"Test set accuracy is %.1f%%\" % (100*accuracy))"
      ]
    }
  ],
  "metadata": {
    "accelerator": "GPU",
    "colab": {
      "provenance": []
    },
    "kernelspec": {
      "display_name": "Python 3",
      "name": "python3"
    },
    "language_info": {
      "codemirror_mode": {
        "name": "ipython",
        "version": 3
      },
      "file_extension": ".py",
      "mimetype": "text/x-python",
      "name": "python",
      "nbconvert_exporter": "python",
      "pygments_lexer": "ipython3",
      "version": "3.11.5"
    }
  },
  "nbformat": 4,
  "nbformat_minor": 0
}