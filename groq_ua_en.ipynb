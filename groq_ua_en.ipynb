{
 "cells": [
  {
   "cell_type": "markdown",
   "metadata": {},
   "source": [
    "Before staring working with groq, register on the website and receive your own unike API key. "
   ]
  },
  {
   "cell_type": "code",
   "execution_count": 1,
   "metadata": {},
   "outputs": [],
   "source": [
    "from groq_api import KEY\n",
    "from groq import Groq\n",
    "import numpy as np\n",
    "import pandas as pd\n",
    "\n",
    "from tqdm import tqdm\n",
    "\n",
    "\n",
    "CLIENT = Groq(api_key=KEY)\n",
    "PATH = 'data/power/power-ua-train.tsv'\n"
   ]
  },
  {
   "cell_type": "markdown",
   "metadata": {},
   "source": [
    "Read csv file as a pandas dataframe, set index to the index from the csv file, add \"prediction\" and \"reasoning\" columns.\n",
    "Lastly, shaffle the data (by sampling all the rows in random order), setting random state for reproducibility."
   ]
  },
  {
   "cell_type": "code",
   "execution_count": 2,
   "metadata": {},
   "outputs": [
    {
     "data": {
      "text/html": [
       "<div>\n",
       "<style scoped>\n",
       "    .dataframe tbody tr th:only-of-type {\n",
       "        vertical-align: middle;\n",
       "    }\n",
       "\n",
       "    .dataframe tbody tr th {\n",
       "        vertical-align: top;\n",
       "    }\n",
       "\n",
       "    .dataframe thead th {\n",
       "        text-align: right;\n",
       "    }\n",
       "</style>\n",
       "<table border=\"1\" class=\"dataframe\">\n",
       "  <thead>\n",
       "    <tr style=\"text-align: right;\">\n",
       "      <th></th>\n",
       "      <th>speaker</th>\n",
       "      <th>sex</th>\n",
       "      <th>text</th>\n",
       "      <th>text_en</th>\n",
       "      <th>label</th>\n",
       "      <th>prediction</th>\n",
       "      <th>reasoning</th>\n",
       "      <th>labeled_prediction</th>\n",
       "    </tr>\n",
       "    <tr>\n",
       "      <th>id</th>\n",
       "      <th></th>\n",
       "      <th></th>\n",
       "      <th></th>\n",
       "      <th></th>\n",
       "      <th></th>\n",
       "      <th></th>\n",
       "      <th></th>\n",
       "      <th></th>\n",
       "    </tr>\n",
       "  </thead>\n",
       "  <tbody>\n",
       "    <tr>\n",
       "      <th>ua05796</th>\n",
       "      <td>d18023ad9b6df26ee266bb01fc4c822a</td>\n",
       "      <td>M</td>\n",
       "      <td>Олександр Шевченко, фракція \"&lt;PARTY&gt;\". Ратифік...</td>\n",
       "      <td>Alexander Shevchenko, Freedom faction. Ratific...</td>\n",
       "      <td>1</td>\n",
       "      <td>NaN</td>\n",
       "      <td>NaN</td>\n",
       "      <td>NaN</td>\n",
       "    </tr>\n",
       "    <tr>\n",
       "      <th>ua07362</th>\n",
       "      <td>bea4118a3082afea430ffe03d4343b76</td>\n",
       "      <td>M</td>\n",
       "      <td>Шановний пане Голово, шановні колеги, дозвольт...</td>\n",
       "      <td>Dear Mr. Head, honourable colleagues, let me i...</td>\n",
       "      <td>0</td>\n",
       "      <td>NaN</td>\n",
       "      <td>NaN</td>\n",
       "      <td>NaN</td>\n",
       "    </tr>\n",
       "    <tr>\n",
       "      <th>ua10560</th>\n",
       "      <td>b07c8d09c03a6a3222057c300c84e9fe</td>\n",
       "      <td>M</td>\n",
       "      <td>Олег Купрієнко, &lt;PARTY&gt;. А ще порядок в Україн...</td>\n",
       "      <td>Oleg Kuprienko, Oleg Laska Radical Party. And ...</td>\n",
       "      <td>1</td>\n",
       "      <td>NaN</td>\n",
       "      <td>NaN</td>\n",
       "      <td>NaN</td>\n",
       "    </tr>\n",
       "    <tr>\n",
       "      <th>ua10327</th>\n",
       "      <td>93a1d11f680ed07b734319a5fae11cee</td>\n",
       "      <td>F</td>\n",
       "      <td>По-перше, що стосується військового госпіталю,...</td>\n",
       "      <td>First of all, it's about a military hospital i...</td>\n",
       "      <td>0</td>\n",
       "      <td>NaN</td>\n",
       "      <td>NaN</td>\n",
       "      <td>NaN</td>\n",
       "    </tr>\n",
       "    <tr>\n",
       "      <th>ua15066</th>\n",
       "      <td>e7d36da025052d2213a757d55deeb1d1</td>\n",
       "      <td>M</td>\n",
       "      <td>Шановна президія! Шановні народні депутати! Ре...</td>\n",
       "      <td>Honorable Predestination! Dear National Deputi...</td>\n",
       "      <td>0</td>\n",
       "      <td>NaN</td>\n",
       "      <td>NaN</td>\n",
       "      <td>NaN</td>\n",
       "    </tr>\n",
       "  </tbody>\n",
       "</table>\n",
       "</div>"
      ],
      "text/plain": [
       "                                  speaker sex  \\\n",
       "id                                              \n",
       "ua05796  d18023ad9b6df26ee266bb01fc4c822a   M   \n",
       "ua07362  bea4118a3082afea430ffe03d4343b76   M   \n",
       "ua10560  b07c8d09c03a6a3222057c300c84e9fe   M   \n",
       "ua10327  93a1d11f680ed07b734319a5fae11cee   F   \n",
       "ua15066  e7d36da025052d2213a757d55deeb1d1   M   \n",
       "\n",
       "                                                      text  \\\n",
       "id                                                           \n",
       "ua05796  Олександр Шевченко, фракція \"<PARTY>\". Ратифік...   \n",
       "ua07362  Шановний пане Голово, шановні колеги, дозвольт...   \n",
       "ua10560  Олег Купрієнко, <PARTY>. А ще порядок в Україн...   \n",
       "ua10327  По-перше, що стосується військового госпіталю,...   \n",
       "ua15066  Шановна президія! Шановні народні депутати! Ре...   \n",
       "\n",
       "                                                   text_en  label  prediction  \\\n",
       "id                                                                              \n",
       "ua05796  Alexander Shevchenko, Freedom faction. Ratific...      1         NaN   \n",
       "ua07362  Dear Mr. Head, honourable colleagues, let me i...      0         NaN   \n",
       "ua10560  Oleg Kuprienko, Oleg Laska Radical Party. And ...      1         NaN   \n",
       "ua10327  First of all, it's about a military hospital i...      0         NaN   \n",
       "ua15066  Honorable Predestination! Dear National Deputi...      0         NaN   \n",
       "\n",
       "         reasoning  labeled_prediction  \n",
       "id                                      \n",
       "ua05796        NaN                 NaN  \n",
       "ua07362        NaN                 NaN  \n",
       "ua10560        NaN                 NaN  \n",
       "ua10327        NaN                 NaN  \n",
       "ua15066        NaN                 NaN  "
      ]
     },
     "execution_count": 2,
     "metadata": {},
     "output_type": "execute_result"
    }
   ],
   "source": [
    "data = pd.read_csv(PATH, sep='\\t', index_col=0)\n",
    "# set object column dtype full of nans\n",
    "data['prediction'] = np.nan\n",
    "data['reasoning'] = np.nan\n",
    "data['labeled_prediction'] = np.nan\n",
    "data = data.sample(frac=1, random_state=42)\n",
    "data.head()\n"
   ]
  },
  {
   "cell_type": "code",
   "execution_count": 3,
   "metadata": {},
   "outputs": [
    {
     "name": "stdout",
     "output_type": "stream",
     "text": [
      "Size of data:  11324\n"
     ]
    }
   ],
   "source": [
    "print('Size of data: ', data.shape[0])"
   ]
  },
  {
   "cell_type": "markdown",
   "metadata": {},
   "source": [
    "Here, I am engineering my prompt and writing a function to send API calls to groq.\n"
   ]
  },
  {
   "cell_type": "code",
   "execution_count": 4,
   "metadata": {},
   "outputs": [],
   "source": [
    "PROMPT = '''Help me identify whether this speech was held by coalition or opposition. First reason about the text and try to find helpful cues. Then provide a final answer. Formulate your response in JSON using the following format: {\"reasoning\": \"...\", \"prediction\": \"coalition or opposition\"}. Make sure to return proper JSON, e.g. don't add superfluous single quotation marks in the end. Don't use any other words in the response, except for \"coalition\" or \"opposition\".'''"
   ]
  },
  {
   "cell_type": "code",
   "execution_count": 6,
   "metadata": {},
   "outputs": [],
   "source": [
    "import json\n",
    "\n",
    "\n",
    "def get_response(text):\n",
    "    messages=[\n",
    "            {\n",
    "                \"role\": \"system\",\n",
    "                \"content\": PROMPT\n",
    "            },\n",
    "            {\n",
    "                \"role\": \"user\",\n",
    "                \"content\": text,\n",
    "            },\n",
    "        ]\n",
    "    for i in range(5):\n",
    "        try:\n",
    "            # in a try loop, \n",
    "            # I am increasing temperature to get a response in case of an error generating JSON\n",
    "            chat_completion = CLIENT.chat.completions.create(\n",
    "                messages=messages,\n",
    "                model=\"llama3-70b-8192\",\n",
    "                response_format={\"type\": \"json_object\"},\n",
    "                temperature=0.2 * i,             \n",
    "            )\n",
    "            response_content = chat_completion.choices[0].message.content\n",
    "            response = json.loads(response_content)\n",
    "            return response\n",
    "        except Exception as e:\n",
    "            print(e)\n",
    "            continue\n",
    "    else:\n",
    "        return None"
   ]
  },
  {
   "cell_type": "markdown",
   "metadata": {},
   "source": [
    "Loop over 20% of the data, sending calls to Llama3, and calculate number of correct predictions. "
   ]
  },
  {
   "cell_type": "code",
   "execution_count": null,
   "metadata": {},
   "outputs": [],
   "source": [
    "NUM_SAMPLES = int(data.shape[0] * 0.2)  # 20% of the data\n",
    "error_counter = 0\n",
    "\n",
    "for index, entry in (tqdm_bar := tqdm(data.iloc[:NUM_SAMPLES].iterrows(), total=NUM_SAMPLES)):\n",
    "    text = entry['text_en']\n",
    "    response = get_response(text)\n",
    "    if not response:\n",
    "        error_counter += 1\n",
    "        continue\n",
    "    if response['prediction'] not in ['coalition', 'opposition']:\n",
    "        error_counter += 1\n",
    "        continue\n",
    "    data.loc[index, 'prediction'] = response['prediction']\n",
    "    data.loc[index, 'reasoning'] = response['reasoning']\n",
    "    data.loc[index, 'labeled_prediction'] = int(data.loc[index, 'prediction'] == 'opposition')\n",
    "\n",
    "    # Update true/false count to see in the progress bar \n",
    "    data_subset = data.loc[:index].dropna(subset=['labeled_prediction', 'prediction'])\n",
    "    distribution = (data_subset['labeled_prediction'] == data_subset['label']).value_counts(normalize=True)\n",
    "    tqdm_bar.set_description(f\"Accuracy: {distribution.get(True, 0):.2f}\")\n",
    "    "
   ]
  },
  {
   "cell_type": "code",
   "execution_count": 13,
   "metadata": {},
   "outputs": [
    {
     "name": "stdout",
     "output_type": "stream",
     "text": [
      "Accuracy: 0.64\n",
      "Errors: 14\n"
     ]
    }
   ],
   "source": [
    "data_subset = data.dropna(subset=['labeled_prediction', 'prediction'])\n",
    "distribution = (data_subset['labeled_prediction'] == data_subset['label']).value_counts(normalize=True)\n",
    "print(f\"Accuracy: {distribution.get(True, 0):.2f}\")\n",
    "print(f'Errors:', error_counter)"
   ]
  },
  {
   "cell_type": "markdown",
   "metadata": {},
   "source": [
    "Save results to the folder \"results\"."
   ]
  },
  {
   "cell_type": "code",
   "execution_count": null,
   "metadata": {},
   "outputs": [],
   "source": [
    "import os \n",
    "\n",
    "FOLDER_PATH = 'results'\n",
    "\n",
    "if not os.path.exists(FOLDER_PATH):\n",
    "    os.makedirs(FOLDER_PATH)\n",
    "\n",
    "data.to_csv('results/power-ua-results-en.tsv', sep='\\t')"
   ]
  }
 ],
 "metadata": {
  "kernelspec": {
   "display_name": "uuenv",
   "language": "python",
   "name": "python3"
  },
  "language_info": {
   "codemirror_mode": {
    "name": "ipython",
    "version": 3
   },
   "file_extension": ".py",
   "mimetype": "text/x-python",
   "name": "python",
   "nbconvert_exporter": "python",
   "pygments_lexer": "ipython3",
   "version": "3.12.1"
  }
 },
 "nbformat": 4,
 "nbformat_minor": 2
}
