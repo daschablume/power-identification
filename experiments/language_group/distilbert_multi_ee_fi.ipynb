{
 "cells": [
  {
   "cell_type": "code",
   "execution_count": 6,
   "id": "ba969ebc",
   "metadata": {},
   "outputs": [],
   "source": [
    "import sys\n",
    "from pathlib import Path\n",
    "PARENT_DIR = Path.cwd().parent.parent\n",
    "sys.path.append(str(PARENT_DIR))"
   ]
  },
  {
   "cell_type": "code",
   "execution_count": 8,
   "id": "096b0b82",
   "metadata": {},
   "outputs": [
    {
     "data": {
      "text/plain": [
       "['C:\\\\Users\\\\72786\\\\Documents\\\\nodalida\\\\power-identification\\\\experiments\\\\language_group',\n",
       " 'C:\\\\Users\\\\72786\\\\anaconda3\\\\python311.zip',\n",
       " 'C:\\\\Users\\\\72786\\\\anaconda3\\\\DLLs',\n",
       " 'C:\\\\Users\\\\72786\\\\anaconda3\\\\Lib',\n",
       " 'C:\\\\Users\\\\72786\\\\anaconda3',\n",
       " '',\n",
       " 'C:\\\\Users\\\\72786\\\\anaconda3\\\\Lib\\\\site-packages',\n",
       " 'C:\\\\Users\\\\72786\\\\anaconda3\\\\Lib\\\\site-packages\\\\win32',\n",
       " 'C:\\\\Users\\\\72786\\\\anaconda3\\\\Lib\\\\site-packages\\\\win32\\\\lib',\n",
       " 'C:\\\\Users\\\\72786\\\\anaconda3\\\\Lib\\\\site-packages\\\\Pythonwin',\n",
       " 'C:\\\\Users\\\\72786\\\\Documents\\\\nodalida\\\\power-identification\\\\experiments',\n",
       " 'C:\\\\Users\\\\72786\\\\Documents\\\\nodalida\\\\power-identification']"
      ]
     },
     "execution_count": 8,
     "metadata": {},
     "output_type": "execute_result"
    }
   ],
   "source": [
    "from transformers import DistilBertTokenizer, DistilBertForSequenceClassification, Trainer, TrainingArguments\n",
    "from datasets import load_dataset, load_metric, concatenate_datasets, DatasetDict"
   ]
  },
  {
   "cell_type": "code",
   "execution_count": 12,
   "id": "3e7f3e33",
   "metadata": {},
   "outputs": [
    {
     "data": {
      "text/plain": [
       "633825300114114700748351602688"
      ]
     },
     "execution_count": 12,
     "metadata": {},
     "output_type": "execute_result"
    }
   ],
   "source": [
    "# Load the datasets from two TSV files\n",
    "dataset1 = load_dataset('csv', data_files='./data/power/power-hu-train.tsv', delimiter='\\t')\n",
    "dataset2 = load_dataset('csv', data_files='./data/power/power-fi-train.tsv', delimiter='\\t')\n",
    "\n",
    "# Combine the datasets\n",
    "combined_dataset = concatenate_datasets([dataset1['train'], dataset2['train']])\n",
    "\n",
    "# Split the combined dataset into train and test sets (e.g., 80-20 split)\n",
    "split_combined_dataset = combined_dataset.train_test_split(test_size=0.2)"
   ]
  },
  {
   "cell_type": "code",
   "execution_count": 11,
   "id": "0101f8d9",
   "metadata": {},
   "outputs": [
    {
     "data": {
      "text/plain": [
       "633825300114114700748351602688"
      ]
     },
     "execution_count": 11,
     "metadata": {},
     "output_type": "execute_result"
    }
   ],
   "source": [
    "# Initialize the tokenizer and model\n",
    "tokenizer = DistilBertTokenizer.from_pretrained('distilbert-base-multilingual-cased')\n",
    "model = DistilBertForSequenceClassification.from_pretrained('distilbert-base-multilingual-cased', num_labels=2)"
   ]
  },
  {
   "cell_type": "code",
   "execution_count": null,
   "id": "d496d605",
   "metadata": {},
   "outputs": [],
   "source": [
    "# Tokenize the data\n",
    "def preprocess_function(examples):\n",
    "    return tokenizer(examples['text'], truncation=True, padding=True)\n",
    "\n",
    "tokenized_datasets = split_combined_dataset.map(preprocess_function, batched=True)"
   ]
  },
  {
   "cell_type": "code",
   "execution_count": null,
   "id": "12aaeb0d",
   "metadata": {},
   "outputs": [],
   "source": [
    "# Load evaluation metric\n",
    "f1_metric = load_metric('f1')\n",
    "\n",
    "# Set up training arguments\n",
    "training_args = TrainingArguments(\n",
    "    output_dir='./results',\n",
    "    evaluation_strategy='epoch',\n",
    "    learning_rate=2e-5,\n",
    "    per_device_train_batch_size=4,  # Smaller batch size\n",
    "    per_device_eval_batch_size=4,   # Smaller batch size\n",
    "    gradient_accumulation_steps=4,  # Accumulate gradients\n",
    "    num_train_epochs=3,\n",
    "    weight_decay=0.01,\n",
    "    fp16=True,  # Enable mixed precision training\n",
    ")\n",
    "\n",
    "# Initialize the trainer\n",
    "trainer = Trainer(\n",
    "    model=model,\n",
    "    args=training_args,\n",
    "    train_dataset=tokenized_datasets['train'],\n",
    "    eval_dataset=tokenized_datasets['test'],\n",
    "    tokenizer=tokenizer,\n",
    "    compute_metrics=lambda p: f1_metric.compute(predictions=p.predictions.argmax(-1), references=p.label_ids)\n",
    ")"
   ]
  },
  {
   "cell_type": "code",
   "execution_count": null,
   "id": "44c7a4e7",
   "metadata": {},
   "outputs": [],
   "source": [
    "# Clear CUDA cache\n",
    "import torch\n",
    "torch.cuda.empty_cache()\n",
    "\n",
    "# Train the model\n",
    "trainer.train()\n",
    "\n",
    "# Evaluate the model\n",
    "eval_results = trainer.evaluate()\n",
    "print(eval_results)\n",
    "\n",
    "# Make predictions on the test set\n",
    "predictions = trainer.predict(tokenized_datasets['test'])\n",
    "print(predictions.predictions)"
   ]
  }
 ],
 "metadata": {
  "kernelspec": {
   "display_name": "Python 3 (ipykernel)",
   "language": "python",
   "name": "python3"
  },
  "language_info": {
   "codemirror_mode": {
    "name": "ipython",
    "version": 3
   },
   "file_extension": ".py",
   "mimetype": "text/x-python",
   "name": "python",
   "nbconvert_exporter": "python",
   "pygments_lexer": "ipython3",
   "version": "3.11.5"
  }
 },
 "nbformat": 4,
 "nbformat_minor": 5
}
