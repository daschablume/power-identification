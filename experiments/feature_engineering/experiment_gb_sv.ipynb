{
 "cells": [
  {
   "cell_type": "markdown",
   "id": "ca5b391e",
   "metadata": {},
   "source": [
    "# Load packages"
   ]
  },
  {
   "cell_type": "code",
   "execution_count": 1,
   "id": "b041cb63",
   "metadata": {},
   "outputs": [
    {
     "name": "stdout",
     "output_type": "stream",
     "text": [
      "Device: cuda\n",
      "NVIDIA GeForce RTX 3050 Ti Laptop GPU\n"
     ]
    }
   ],
   "source": [
    "import sys\n",
    "from pathlib import Path\n",
    "\n",
    "PARENT_DIR = Path.cwd().parent.parent\n",
    "sys.path.append(str(PARENT_DIR))\n",
    "\n",
    "import torch\n",
    "from torch.utils.data import DataLoader\n",
    "from sklearn.metrics import accuracy_score, precision_recall_fscore_support, roc_auc_score\n",
    "\n",
    "from lib.models import TrainConfig, NeuralNetwork, save_model\n",
    "from lib.data_processing import load_data, split_data, encode_data, VaderSentimentEncoder\n",
    "\n",
    "from tqdm import tqdm\n",
    "\n",
    "if torch.cuda.is_available():\n",
    "    for i in range(torch.cuda.device_count()):\n",
    "        print(\"Device: cuda\")\n",
    "        print(torch.cuda.get_device_name(i))\n",
    "else:\n",
    "    print(\"Device: cpu\")"
   ]
  },
  {
   "cell_type": "markdown",
   "id": "1087d263",
   "metadata": {},
   "source": [
    "# Load data"
   ]
  },
  {
   "cell_type": "code",
   "execution_count": 2,
   "id": "84eb7e2c",
   "metadata": {},
   "outputs": [],
   "source": [
    "data = load_data(file_path_list=[str(PARENT_DIR) + \"/data/power/power-gb-train.tsv\"])\n",
    "train_raw, test_raw = split_data(data, test_size=0.2, random_state=0)"
   ]
  },
  {
   "cell_type": "markdown",
   "id": "67842f30",
   "metadata": {},
   "source": [
    "# Set training configurations"
   ]
  },
  {
   "cell_type": "code",
   "execution_count": 3,
   "id": "ed0ac352",
   "metadata": {},
   "outputs": [],
   "source": [
    "train_config = TrainConfig(num_epochs=10,early_stop=False,violation_limit=5)"
   ]
  },
  {
   "cell_type": "markdown",
   "id": "fe2a3bac",
   "metadata": {},
   "source": [
    "# Experiment"
   ]
  },
  {
   "cell_type": "code",
   "execution_count": 4,
   "id": "79156b8e",
   "metadata": {},
   "outputs": [
    {
     "name": "stdout",
     "output_type": "stream",
     "text": [
      "Experiment 1: VADER with 4-dimentional features\n",
      "Prepare data...\n",
      "Train model...\n",
      "\n"
     ]
    },
    {
     "name": "stderr",
     "output_type": "stream",
     "text": [
      "Epoch 1: 100%|██████████| 209/209 [00:01<00:00, 160.67batch/s, batch_accuracy=0.714, loss=0.512]\n",
      "Epoch 2: 100%|██████████| 209/209 [00:00<00:00, 236.89batch/s, batch_accuracy=0.857, loss=0.541]\n",
      "Epoch 3: 100%|██████████| 209/209 [00:01<00:00, 161.96batch/s, batch_accuracy=0.857, loss=0.541]\n",
      "Epoch 4: 100%|██████████| 209/209 [00:01<00:00, 178.70batch/s, batch_accuracy=0.714, loss=0.628]\n",
      "Epoch 5: 100%|██████████| 209/209 [00:01<00:00, 183.90batch/s, batch_accuracy=0.429, loss=0.808]\n",
      "Epoch 6: 100%|██████████| 209/209 [00:00<00:00, 220.43batch/s, batch_accuracy=0.857, loss=0.429]\n",
      "Epoch 7: 100%|██████████| 209/209 [00:00<00:00, 216.83batch/s, batch_accuracy=1, loss=0.496]    \n",
      "Epoch 8: 100%|██████████| 209/209 [00:01<00:00, 196.66batch/s, batch_accuracy=0.571, loss=0.713]\n",
      "Epoch 9: 100%|██████████| 209/209 [00:01<00:00, 174.01batch/s, batch_accuracy=0.714, loss=0.704]\n",
      "Epoch 10: 100%|██████████| 209/209 [00:01<00:00, 196.78batch/s, batch_accuracy=0.714, loss=0.557]\n"
     ]
    },
    {
     "name": "stdout",
     "output_type": "stream",
     "text": [
      "Evaluation results\n",
      "Accuracy: 0.6238\n",
      "Precision: 0.6385\n",
      "Recall: 0.7525\n",
      "F1: 0.6908\n",
      "AUC: 0.6067\n",
      "\n"
     ]
    }
   ],
   "source": [
    "dims = [4]\n",
    "models_dir = Path(str(PARENT_DIR) + '/models/feature_engineering')\n",
    "if not models_dir.exists():\n",
    "    models_dir.mkdir(parents=True, exist_ok=True)\n",
    "    \n",
    "for i in range(len(dims)):\n",
    "    print(f\"Experiment {i+1}: VADER with {dims[i]}-dimentional features\")\n",
    "    \n",
    "    # Encode\n",
    "    print(\"Prepare data...\")\n",
    "    vader_encoder = VaderSentimentEncoder(dimensions=dims[i])\n",
    "    \n",
    "    train_data_nn = encode_data(train_raw, vader_encoder)\n",
    "    test_data_nn = encode_data(test_raw, vader_encoder)\n",
    "    \n",
    "    dataloader = DataLoader(train_data_nn, batch_size=128, shuffle=True)\n",
    "    \n",
    "    # Train\n",
    "    print(\"Train model...\")\n",
    "    model_nn = NeuralNetwork(input_size=train_data_nn[0][0].shape[0], hidden_size=128, device=\"cuda\")\n",
    "    model_nn.fit(dataloader, train_config, disable_progress_bar=False)\n",
    "    \n",
    "    save_model(model_nn, models_dir, f\"model_vadersv_dim_{dims[i]}.pt\")\n",
    "    \n",
    "    # Test\n",
    "    with torch.no_grad():\n",
    "        X_test = torch.stack([test[0] for test in test_data_nn]).to(model_nn.device)\n",
    "        y_test = torch.stack([test[1] for test in test_data_nn]).to(model_nn.device)\n",
    "        y_pred = model_nn.predict(X_test)\n",
    "    \n",
    "    # Evaluate\n",
    "    y_test = y_test.cpu()\n",
    "    y_pred = y_pred.cpu()\n",
    "    print(\"Evaluation results\")\n",
    "    \n",
    "    accuracy = accuracy_score(y_test, y_pred)\n",
    "    print(f\"Accuracy: {accuracy:.4f}\")\n",
    "    \n",
    "    precision, recall, fscore, _ = precision_recall_fscore_support(y_test, y_pred, average='binary')\n",
    "    print(f\"Precision: {precision:.4f}\")\n",
    "    print(f\"Recall: {recall:.4f}\")\n",
    "    print(f\"F1: {fscore:.4f}\")\n",
    "    \n",
    "    auc = roc_auc_score(y_test, y_pred)\n",
    "    print(f\"AUC: {auc:.4f}\")\n",
    "    print()"
   ]
  }
 ],
 "metadata": {
  "kernelspec": {
   "display_name": "Python 3 (ipykernel)",
   "language": "python",
   "name": "python3"
  },
  "language_info": {
   "codemirror_mode": {
    "name": "ipython",
    "version": 3
   },
   "file_extension": ".py",
   "mimetype": "text/x-python",
   "name": "python",
   "nbconvert_exporter": "python",
   "pygments_lexer": "ipython3",
   "version": "3.11.5"
  }
 },
 "nbformat": 4,
 "nbformat_minor": 5
}
