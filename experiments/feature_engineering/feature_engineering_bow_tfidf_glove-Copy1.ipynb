{
 "cells": [
  {
   "cell_type": "code",
   "execution_count": 2,
   "id": "5c22fef2",
   "metadata": {},
   "outputs": [],
   "source": [
    "import sys\n",
    "from pathlib import Path\n",
    "PARENT_DIR = Path.cwd().parent.parent\n",
    "sys.path.append(str(PARENT_DIR))"
   ]
  },
  {
   "cell_type": "code",
   "execution_count": 11,
   "id": "26031f31",
   "metadata": {
    "scrolled": true
   },
   "outputs": [
    {
     "data": {
      "text/plain": [
       "[WindowsPath('C:/Users/72786/Documents/nodalida/power-identification/data/trainingset-ideology-power/.gitignore'),\n",
       " WindowsPath('C:/Users/72786/Documents/nodalida/power-identification/data/trainingset-ideology-power/.ipynb_checkpoints'),\n",
       " WindowsPath('C:/Users/72786/Documents/nodalida/power-identification/data/trainingset-ideology-power/.vector_cache'),\n",
       " WindowsPath('C:/Users/72786/Documents/nodalida/power-identification/data/trainingset-ideology-power/Bag-of-word_binary_vector.ipynb'),\n",
       " WindowsPath('C:/Users/72786/Documents/nodalida/power-identification/data/trainingset-ideology-power/basic_neural_network.py'),\n",
       " WindowsPath('C:/Users/72786/Documents/nodalida/power-identification/data/trainingset-ideology-power/basic_nn_pipeline.py'),\n",
       " WindowsPath('C:/Users/72786/Documents/nodalida/power-identification/data/trainingset-ideology-power/contribution.txt'),\n",
       " WindowsPath('C:/Users/72786/Documents/nodalida/power-identification/data/trainingset-ideology-power/data'),\n",
       " WindowsPath('C:/Users/72786/Documents/nodalida/power-identification/data/trainingset-ideology-power/data.py'),\n",
       " WindowsPath('C:/Users/72786/Documents/nodalida/power-identification/data/trainingset-ideology-power/data_cv.py'),\n",
       " WindowsPath('C:/Users/72786/Documents/nodalida/power-identification/data/trainingset-ideology-power/data_vocabulary_attached.py'),\n",
       " WindowsPath('C:/Users/72786/Documents/nodalida/power-identification/data/trainingset-ideology-power/Dockerfile'),\n",
       " WindowsPath('C:/Users/72786/Documents/nodalida/power-identification/data/trainingset-ideology-power/evaluation'),\n",
       " WindowsPath('C:/Users/72786/Documents/nodalida/power-identification/data/trainingset-ideology-power/feature_engineering_bow_tfidf_glove.ipynb'),\n",
       " WindowsPath('C:/Users/72786/Documents/nodalida/power-identification/data/trainingset-ideology-power/feature_engineering_distilbert.ipynb'),\n",
       " WindowsPath('C:/Users/72786/Documents/nodalida/power-identification/data/trainingset-ideology-power/GloVe.ipynb'),\n",
       " WindowsPath('C:/Users/72786/Documents/nodalida/power-identification/data/trainingset-ideology-power/ideology-power-st-testset'),\n",
       " WindowsPath('C:/Users/72786/Documents/nodalida/power-identification/data/trainingset-ideology-power/linear-baseline.ipynb'),\n",
       " WindowsPath('C:/Users/72786/Documents/nodalida/power-identification/data/trainingset-ideology-power/linear-baseline.py'),\n",
       " WindowsPath('C:/Users/72786/Documents/nodalida/power-identification/data/trainingset-ideology-power/models'),\n",
       " WindowsPath('C:/Users/72786/Documents/nodalida/power-identification/data/trainingset-ideology-power/models.py'),\n",
       " WindowsPath('C:/Users/72786/Documents/nodalida/power-identification/data/trainingset-ideology-power/parliaments.txt'),\n",
       " WindowsPath('C:/Users/72786/Documents/nodalida/power-identification/data/trainingset-ideology-power/pipeline.ipynb'),\n",
       " WindowsPath('C:/Users/72786/Documents/nodalida/power-identification/data/trainingset-ideology-power/pipeline.py'),\n",
       " WindowsPath('C:/Users/72786/Documents/nodalida/power-identification/data/trainingset-ideology-power/pipeline_basic_nn.ipynb'),\n",
       " WindowsPath('C:/Users/72786/Documents/nodalida/power-identification/data/trainingset-ideology-power/pipeline_cnn.ipynb'),\n",
       " WindowsPath('C:/Users/72786/Documents/nodalida/power-identification/data/trainingset-ideology-power/pipeline_mbert.ipynb'),\n",
       " WindowsPath('C:/Users/72786/Documents/nodalida/power-identification/data/trainingset-ideology-power/pipeline_mbert.py'),\n",
       " WindowsPath('C:/Users/72786/Documents/nodalida/power-identification/data/trainingset-ideology-power/project tasks.txt'),\n",
       " WindowsPath('C:/Users/72786/Documents/nodalida/power-identification/data/trainingset-ideology-power/README.md'),\n",
       " WindowsPath('C:/Users/72786/Documents/nodalida/power-identification/data/trainingset-ideology-power/README.txt'),\n",
       " WindowsPath('C:/Users/72786/Documents/nodalida/power-identification/data/trainingset-ideology-power/requirements.txt'),\n",
       " WindowsPath('C:/Users/72786/Documents/nodalida/power-identification/data/trainingset-ideology-power/results'),\n",
       " WindowsPath('C:/Users/72786/Documents/nodalida/power-identification/data/trainingset-ideology-power/sample-predictions.tsv'),\n",
       " WindowsPath('C:/Users/72786/Documents/nodalida/power-identification/data/trainingset-ideology-power/sentiment_analysis_model.py'),\n",
       " WindowsPath('C:/Users/72786/Documents/nodalida/power-identification/data/trainingset-ideology-power/sentiment_vector.ipynb'),\n",
       " WindowsPath('C:/Users/72786/Documents/nodalida/power-identification/data/trainingset-ideology-power/test results.txt'),\n",
       " WindowsPath('C:/Users/72786/Documents/nodalida/power-identification/data/trainingset-ideology-power/test.py'),\n",
       " WindowsPath('C:/Users/72786/Documents/nodalida/power-identification/data/trainingset-ideology-power/trainingset-ideology-power.zip'),\n",
       " WindowsPath('C:/Users/72786/Documents/nodalida/power-identification/data/trainingset-ideology-power/utils.py'),\n",
       " WindowsPath('C:/Users/72786/Documents/nodalida/power-identification/data/trainingset-ideology-power/__pycache__')]"
      ]
     },
     "execution_count": 11,
     "metadata": {},
     "output_type": "execute_result"
    }
   ],
   "source": [
    "list((PARENT_DIR / \"data/trainingset-ideology-power\").glob(\"*\"))"
   ]
  },
  {
   "cell_type": "code",
   "execution_count": 3,
   "id": "154582e5",
   "metadata": {},
   "outputs": [
    {
     "data": {
      "text/plain": [
       "['C:\\\\Users\\\\72786\\\\Documents\\\\nodalida\\\\power-identification\\\\experiments\\\\feature_engineering',\n",
       " 'C:\\\\Users\\\\72786\\\\anaconda3\\\\python311.zip',\n",
       " 'C:\\\\Users\\\\72786\\\\anaconda3\\\\DLLs',\n",
       " 'C:\\\\Users\\\\72786\\\\anaconda3\\\\Lib',\n",
       " 'C:\\\\Users\\\\72786\\\\anaconda3',\n",
       " '',\n",
       " 'C:\\\\Users\\\\72786\\\\anaconda3\\\\Lib\\\\site-packages',\n",
       " 'C:\\\\Users\\\\72786\\\\anaconda3\\\\Lib\\\\site-packages\\\\win32',\n",
       " 'C:\\\\Users\\\\72786\\\\anaconda3\\\\Lib\\\\site-packages\\\\win32\\\\lib',\n",
       " 'C:\\\\Users\\\\72786\\\\anaconda3\\\\Lib\\\\site-packages\\\\Pythonwin',\n",
       " 'C:\\\\Users\\\\72786\\\\Documents\\\\nodalida\\\\power-identification',\n",
       " 'C:\\\\Users\\\\72786\\\\Documents\\\\nodalida\\\\power-identification\\\\.git',\n",
       " 'C:\\\\Users\\\\72786\\\\Documents\\\\nodalida\\\\power-identification\\\\archived',\n",
       " 'C:\\\\Users\\\\72786\\\\Documents\\\\nodalida\\\\power-identification\\\\data',\n",
       " 'C:\\\\Users\\\\72786\\\\Documents\\\\nodalida\\\\power-identification\\\\experiments',\n",
       " 'C:\\\\Users\\\\72786\\\\Documents\\\\nodalida\\\\power-identification\\\\lib']"
      ]
     },
     "execution_count": 3,
     "metadata": {},
     "output_type": "execute_result"
    }
   ],
   "source": [
    "# Get the last path in sys.path\n",
    "last_path = Path(sys.path[-1])\n",
    "\n",
    "# Check if last_path is a valid directory\n",
    "if last_path.exists() and last_path.is_dir():\n",
    "    # Iterate over all directories in the last path and add them to sys.path\n",
    "    for item in last_path.iterdir():\n",
    "        if item.is_dir():\n",
    "            sys.path.append(str(item))  # Add each directory to sys.path\n",
    "else:\n",
    "    print(f\"{last_path} is not a valid directory\")\n",
    "\n",
    "# Verify that folders have been added to sys.path\n",
    "sys.path"
   ]
  },
  {
   "cell_type": "code",
   "execution_count": 6,
   "id": "f33a73d8",
   "metadata": {},
   "outputs": [],
   "source": [
    "from datasets import load_dataset\n",
    "\n",
    "# Load the dataset from the TSV file\n",
    "dataset = load_dataset('csv', data_files=PARENT_DIR\\power-gb-train.tsv\", delimiter='\\t')\n",
    "\n",
    "# Split the dataset into train and test sets (e.g., 80-20 split)\n",
    "split_dataset = dataset['train'].train_test_split(test_size=0.2)\n"
   ]
  },
  {
   "cell_type": "code",
   "execution_count": 3,
   "id": "e32ae62c",
   "metadata": {},
   "outputs": [],
   "source": [
    "# Extract train and test data\n",
    "train_texts = split_dataset['train']['text']\n",
    "train_labels = split_dataset['train']['label']\n",
    "test_texts = split_dataset['test']['text']\n",
    "test_labels = split_dataset['test']['label']\n"
   ]
  },
  {
   "cell_type": "code",
   "execution_count": 9,
   "id": "8fd41da4",
   "metadata": {},
   "outputs": [],
   "source": [
    "from typing import Optional\n",
    "\n",
    "from torch.utils.data import DataLoader, TensorDataset\n",
    "import torch\n",
    "from torch import nn, optim\n",
    "from tqdm import tqdm\n",
    "\n",
    "import numpy as np\n",
    "\n",
    "from lib.data_processing import PositionalEncoder"
   ]
  },
  {
   "cell_type": "code",
   "execution_count": 10,
   "id": "e639fecd",
   "metadata": {},
   "outputs": [
    {
     "ename": "NameError",
     "evalue": "name 'DataLoader' is not defined",
     "output_type": "error",
     "traceback": [
      "\u001b[1;31m---------------------------------------------------------------------------\u001b[0m",
      "\u001b[1;31mNameError\u001b[0m                                 Traceback (most recent call last)",
      "Cell \u001b[1;32mIn[10], line 1\u001b[0m\n\u001b[1;32m----> 1\u001b[0m \u001b[38;5;28;01mfrom\u001b[39;00m \u001b[38;5;21;01mmodels\u001b[39;00m \u001b[38;5;28;01mimport\u001b[39;00m TrainConfig, NeuralNetwork, save_model, load_model\n",
      "File \u001b[1;32m~\\Documents\\nodalida\\power-identification\\lib\\models.py:31\u001b[0m\n\u001b[0;32m     27\u001b[0m         \u001b[38;5;28mself\u001b[39m\u001b[38;5;241m.\u001b[39mviolation_limit    \u001b[38;5;241m=\u001b[39m violation_limit\n\u001b[0;32m     28\u001b[0m         \u001b[38;5;28mself\u001b[39m\u001b[38;5;241m.\u001b[39mearly_stop        \u001b[38;5;241m=\u001b[39m early_stop\n\u001b[1;32m---> 31\u001b[0m \u001b[38;5;28;01mclass\u001b[39;00m \u001b[38;5;21;01mNeuralNetwork\u001b[39;00m(nn\u001b[38;5;241m.\u001b[39mModule):\n\u001b[0;32m     32\u001b[0m \u001b[38;5;250m    \u001b[39m\u001b[38;5;124;03m\"\"\"Simple Network model built using torch's modules\u001b[39;00m\n\u001b[0;32m     33\u001b[0m \u001b[38;5;124;03m    \"\"\"\u001b[39;00m\n\u001b[0;32m     34\u001b[0m     \u001b[38;5;28;01mdef\u001b[39;00m \u001b[38;5;21m__init__\u001b[39m(\n\u001b[0;32m     35\u001b[0m             \u001b[38;5;28mself\u001b[39m, \n\u001b[0;32m     36\u001b[0m             input_size, \n\u001b[1;32m   (...)\u001b[0m\n\u001b[0;32m     44\u001b[0m             device \u001b[38;5;241m=\u001b[39m \u001b[38;5;124m'\u001b[39m\u001b[38;5;124mcpu\u001b[39m\u001b[38;5;124m'\u001b[39m,\n\u001b[0;32m     45\u001b[0m         ):\n",
      "File \u001b[1;32m~\\Documents\\nodalida\\power-identification\\lib\\models.py:128\u001b[0m, in \u001b[0;36mNeuralNetwork\u001b[1;34m()\u001b[0m\n\u001b[0;32m    123\u001b[0m     pred \u001b[38;5;241m=\u001b[39m (\u001b[38;5;28mself\u001b[39m\u001b[38;5;241m.\u001b[39msigmoid(logits) \u001b[38;5;241m>\u001b[39m\u001b[38;5;241m=\u001b[39m positive_pred_threshold)\u001b[38;5;241m.\u001b[39msqueeze() \u001b[38;5;241m*\u001b[39m \u001b[38;5;241m1.0\u001b[39m  \u001b[38;5;66;03m# Convert to 1-0 labels\u001b[39;00m\n\u001b[0;32m    124\u001b[0m     \u001b[38;5;28;01mreturn\u001b[39;00m pred\n\u001b[0;32m    126\u001b[0m \u001b[38;5;28;01mdef\u001b[39;00m \u001b[38;5;21mfit\u001b[39m(\n\u001b[0;32m    127\u001b[0m     \u001b[38;5;28mself\u001b[39m,\n\u001b[1;32m--> 128\u001b[0m     train_dataloader: DataLoader,\n\u001b[0;32m    129\u001b[0m     train_config: TrainConfig,\n\u001b[0;32m    130\u001b[0m     disable_progress_bar: \u001b[38;5;28mbool\u001b[39m \u001b[38;5;241m=\u001b[39m \u001b[38;5;28;01mTrue\u001b[39;00m\n\u001b[0;32m    131\u001b[0m ) \u001b[38;5;241m-\u001b[39m\u001b[38;5;241m>\u001b[39m \u001b[38;5;28;01mNone\u001b[39;00m:\n\u001b[0;32m    132\u001b[0m \u001b[38;5;250m    \u001b[39m\u001b[38;5;124;03m\"\"\"Train the model\u001b[39;00m\n\u001b[0;32m    133\u001b[0m \n\u001b[0;32m    134\u001b[0m \u001b[38;5;124;03m    Parameters\u001b[39;00m\n\u001b[1;32m   (...)\u001b[0m\n\u001b[0;32m    139\u001b[0m \u001b[38;5;124;03m        If True, disable the progress bar, by default True\u001b[39;00m\n\u001b[0;32m    140\u001b[0m \u001b[38;5;124;03m    \"\"\"\u001b[39;00m\n\u001b[0;32m    141\u001b[0m     best_loss \u001b[38;5;241m=\u001b[39m \u001b[38;5;28mfloat\u001b[39m(\u001b[38;5;124m'\u001b[39m\u001b[38;5;124minf\u001b[39m\u001b[38;5;124m'\u001b[39m)\n",
      "\u001b[1;31mNameError\u001b[0m: name 'DataLoader' is not defined"
     ]
    }
   ],
   "source": [
    "from models import TrainConfig, NeuralNetwork, save_model, load_model"
   ]
  },
  {
   "cell_type": "code",
   "execution_count": 2,
   "id": "b60370b3",
   "metadata": {},
   "outputs": [],
   "source": [
    "import torch\n",
    "import torch.nn as nn\n",
    "import torch.optim as optim\n",
    "\n",
    "from sklearn.metrics import f1_score\n",
    "\n",
    "device = torch.device(\"cuda\" if torch.cuda.is_available() else \"cpu\")\n",
    "\n",
    "class BasicNN(nn.Module):\n",
    "    def __init__(self, input_size, hidden_size, num_classes):\n",
    "        super(BasicNN, self).__init__()\n",
    "        self.fc1 = nn.Linear(input_size, hidden_size)\n",
    "        self.relu = nn.ReLU()\n",
    "        self.fc2 = nn.Linear(hidden_size, num_classes)\n",
    "    \n",
    "    def forward(self, x):\n",
    "        out = self.fc1(x)\n",
    "        out = self.relu(out)\n",
    "        out = self.fc2(out)\n",
    "        return out\n",
    "\n",
    "# Helper function to train and evaluate the neural network\n",
    "def train_and_evaluate(train_vectors, train_labels, test_vectors, test_labels, input_size, hidden_size=50, num_classes=2, epochs=10, batch_size=16):\n",
    "    # Convert data to PyTorch tensors and move to GPU\n",
    "    train_vectors = torch.tensor(train_vectors, dtype=torch.float32).to(device)\n",
    "    train_labels = torch.tensor(train_labels, dtype=torch.long).to(device)\n",
    "    test_vectors = torch.tensor(test_vectors, dtype=torch.float32).to(device)\n",
    "    test_labels = torch.tensor(test_labels, dtype=torch.long).to(device)\n",
    "\n",
    "    # Create data loaders\n",
    "    train_dataset = TensorDataset(train_vectors, train_labels)\n",
    "    test_dataset = TensorDataset(test_vectors, test_labels)\n",
    "    train_loader = DataLoader(train_dataset, batch_size=batch_size, shuffle=True)\n",
    "    test_loader = DataLoader(test_dataset, batch_size=batch_size, shuffle=False)\n",
    "\n",
    "    # Initialize model, loss function, and optimizer\n",
    "    model = BasicNN(input_size, hidden_size, num_classes).to(device)\n",
    "    criterion = nn.CrossEntropyLoss()\n",
    "    optimizer = optim.Adam(model.parameters(), lr=0.001)\n",
    "\n",
    "    # Training loop\n",
    "    for epoch in range(epochs):\n",
    "        model.train()\n",
    "        for vectors, labels in train_loader:\n",
    "            outputs = model(vectors)\n",
    "            loss = criterion(outputs, labels)\n",
    "            optimizer.zero_grad()\n",
    "            loss.backward()\n",
    "            optimizer.step()\n",
    "\n",
    "    # Evaluation\n",
    "    model.eval()\n",
    "    all_preds = []\n",
    "    all_labels = []\n",
    "    with torch.no_grad():\n",
    "        for vectors, labels in test_loader:\n",
    "            outputs = model(vectors)\n",
    "            _, predicted = torch.max(outputs.data, 1)\n",
    "            all_preds.extend(predicted.cpu().numpy())\n",
    "            all_labels.extend(labels.cpu().numpy())\n",
    "\n",
    "    f1 = f1_score(all_labels, all_preds, average='weighted')\n",
    "    return f1\n"
   ]
  },
  {
   "cell_type": "code",
   "execution_count": 5,
   "id": "e09db1cd",
   "metadata": {},
   "outputs": [
    {
     "name": "stdout",
     "output_type": "stream",
     "text": [
      "Bag-of-Words F1 Score: 0.7554709447215134\n",
      "TF-IDF F1 Score: 0.7409388745905656\n"
     ]
    }
   ],
   "source": [
    "from sklearn.feature_extraction.text import CountVectorizer, TfidfVectorizer\n",
    "\n",
    "bow_tfidf_maxfeatures = [1000, 5000, 10000, 20000, 50000]\n",
    "for i in bow_tfidf_maxfeatures:\n",
    "    # Bag-of-Words with max_features\n",
    "    bow_vectorizer = CountVectorizer(max_features=i)\n",
    "    train_vectors = bow_vectorizer.fit_transform(train_texts).toarray()\n",
    "    test_vectors = bow_vectorizer.transform(test_texts).toarray()\n",
    "    bow_f1 = train_and_evaluate(train_vectors, train_labels, test_vectors, test_labels, input_size=i)\n",
    "    print(f'Bag-of-Words F1 Score: {bow_f1}')\n",
    "\n",
    "    # TF-IDF with max_features\n",
    "    tfidf_vectorizer = TfidfVectorizer(max_features=i)\n",
    "    train_vectors = tfidf_vectorizer.fit_transform(train_texts).toarray()\n",
    "    test_vectors = tfidf_vectorizer.transform(test_texts).toarray()\n",
    "    tfidf_f1 = train_and_evaluate(train_vectors, train_labels, test_vectors, test_labels, input_size=i)\n",
    "    print(f'TF-IDF F1 Score: {tfidf_f1}')\n"
   ]
  },
  {
   "cell_type": "code",
   "execution_count": 30,
   "id": "abe5bfbd",
   "metadata": {},
   "outputs": [
    {
     "name": "stdout",
     "output_type": "stream",
     "text": [
      "GloVe F1 Score: 0.7009512004441185\n"
     ]
    }
   ],
   "source": [
    "import numpy as np\n",
    "\n",
    "# Load GloVe embeddings\n",
    "def load_glove_embeddings(glove_file):\n",
    "    embeddings = {}\n",
    "    with open(glove_file, 'r', encoding='utf-8') as f:\n",
    "        for line in f:\n",
    "            values = line.split()\n",
    "            word = values[0]\n",
    "            vector = np.asarray(values[1:], dtype='float32')\n",
    "            embeddings[word] = vector\n",
    "    return embeddings\n",
    "\n",
    "# Example GloVe file path (adjust as needed)\n",
    "glove_file = './.vector_cache/glove.6B.300d.txt'\n",
    "glove_embeddings = load_glove_embeddings(glove_file)\n",
    "\n",
    "# Tokenize and vectorize using GloVe\n",
    "glove_dims = [100, 200, 300]\n",
    "def glove_vectorize(texts, embeddings, embedding_dim):\n",
    "    vectors = []\n",
    "    for text in texts:\n",
    "        words = text.split()\n",
    "        word_vectors = [embeddings.get(word, np.zeros(embedding_dim)) for word in words]\n",
    "        if word_vectors:\n",
    "            vectors.append(np.mean(word_vectors, axis=0))\n",
    "        else:\n",
    "            vectors.append(np.zeros(embedding_dim))\n",
    "    return np.array(vectors)\n",
    "\n",
    "for i in golve_dims:\n",
    "    train_vectors = glove_vectorize(train_texts, glove_embeddings, i)\n",
    "    test_vectors = glove_vectorize(test_texts, glove_embeddings, i)\n",
    "    glove_f1 = train_and_evaluate(train_vectors, train_labels, test_vectors, test_labels, input_size=i)\n",
    "    print(f'GloVe F1 Score: {glove_f1}')\n"
   ]
  }
 ],
 "metadata": {
  "kernelspec": {
   "display_name": "Python 3 (ipykernel)",
   "language": "python",
   "name": "python3"
  },
  "language_info": {
   "codemirror_mode": {
    "name": "ipython",
    "version": 3
   },
   "file_extension": ".py",
   "mimetype": "text/x-python",
   "name": "python",
   "nbconvert_exporter": "python",
   "pygments_lexer": "ipython3",
   "version": "3.11.5"
  }
 },
 "nbformat": 4,
 "nbformat_minor": 5
}
