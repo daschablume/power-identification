{
 "cells": [
  {
   "cell_type": "markdown",
   "id": "ca5b391e",
   "metadata": {},
   "source": [
    "# Load packages"
   ]
  },
  {
   "cell_type": "code",
   "execution_count": 1,
   "id": "b041cb63",
   "metadata": {},
   "outputs": [
    {
     "name": "stdout",
     "output_type": "stream",
     "text": [
      "Device: cuda\n",
      "NVIDIA GeForce RTX 3050 Ti Laptop GPU\n"
     ]
    }
   ],
   "source": [
    "import sys\n",
    "from pathlib import Path\n",
    "\n",
    "PARENT_DIR = Path.cwd().parent.parent\n",
    "sys.path.append(str(PARENT_DIR))\n",
    "\n",
    "import torch\n",
    "from torch.utils.data import DataLoader\n",
    "from sklearn.feature_extraction.text import TfidfVectorizer\n",
    "from sklearn.metrics import accuracy_score, precision_recall_fscore_support, roc_auc_score\n",
    "\n",
    "from lib.models import TrainConfig, NeuralNetwork, save_model\n",
    "from lib.data_processing import load_data, split_data, encode_data\n",
    "\n",
    "from tqdm import tqdm\n",
    "\n",
    "if torch.cuda.is_available():\n",
    "    for i in range(torch.cuda.device_count()):\n",
    "        print(\"Device: cuda\")\n",
    "        print(torch.cuda.get_device_name(i))\n",
    "else:\n",
    "    print(\"Device: cpu\")"
   ]
  },
  {
   "cell_type": "markdown",
   "id": "1087d263",
   "metadata": {},
   "source": [
    "# Load data"
   ]
  },
  {
   "cell_type": "code",
   "execution_count": 2,
   "id": "84eb7e2c",
   "metadata": {},
   "outputs": [],
   "source": [
    "data = load_data(file_path_list=[str(PARENT_DIR) + \"/data/power/power-gb-train.tsv\"])\n",
    "train_raw, test_raw = split_data(data, test_size=0.2, random_state=0)"
   ]
  },
  {
   "cell_type": "markdown",
   "id": "67842f30",
   "metadata": {},
   "source": [
    "# Set training configurations"
   ]
  },
  {
   "cell_type": "code",
   "execution_count": 3,
   "id": "ed0ac352",
   "metadata": {},
   "outputs": [],
   "source": [
    "train_config = TrainConfig(num_epochs=10,early_stop=False,violation_limit=5)"
   ]
  },
  {
   "cell_type": "markdown",
   "id": "fe2a3bac",
   "metadata": {},
   "source": [
    "# Experiment"
   ]
  },
  {
   "cell_type": "code",
   "execution_count": 4,
   "id": "79156b8e",
   "metadata": {},
   "outputs": [
    {
     "name": "stdout",
     "output_type": "stream",
     "text": [
      "Experiment 1: TF-IDF with max_features 1000\n",
      "Prepare data...\n",
      "Train model...\n",
      "\n"
     ]
    },
    {
     "name": "stderr",
     "output_type": "stream",
     "text": [
      "Epoch 1: 100%|██████████| 209/209 [00:01<00:00, 128.91batch/s, batch_accuracy=0.857, loss=0.527]\n",
      "Epoch 2: 100%|██████████| 209/209 [00:01<00:00, 171.71batch/s, batch_accuracy=1, loss=0.28]     \n",
      "Epoch 3: 100%|██████████| 209/209 [00:01<00:00, 206.54batch/s, batch_accuracy=0.857, loss=0.549]\n",
      "Epoch 4: 100%|██████████| 209/209 [00:00<00:00, 212.41batch/s, batch_accuracy=0.571, loss=0.599]\n",
      "Epoch 5: 100%|██████████| 209/209 [00:01<00:00, 202.14batch/s, batch_accuracy=0.857, loss=0.376]\n",
      "Epoch 6: 100%|██████████| 209/209 [00:01<00:00, 199.01batch/s, batch_accuracy=1, loss=0.286]    \n",
      "Epoch 7: 100%|██████████| 209/209 [00:01<00:00, 187.64batch/s, batch_accuracy=0.857, loss=0.267]\n",
      "Epoch 8: 100%|██████████| 209/209 [00:01<00:00, 143.50batch/s, batch_accuracy=1, loss=0.0225]   \n",
      "Epoch 9: 100%|██████████| 209/209 [00:01<00:00, 140.58batch/s, batch_accuracy=0.857, loss=0.291]\n",
      "Epoch 10: 100%|██████████| 209/209 [00:01<00:00, 145.63batch/s, batch_accuracy=1, loss=0.0463]    \n"
     ]
    },
    {
     "name": "stdout",
     "output_type": "stream",
     "text": [
      "Evaluation results\n",
      "Accuracy: 0.7368\n",
      "Precision: 0.7508\n",
      "Recall: 0.7914\n",
      "F1: 0.7706\n",
      "AUC: 0.7296\n",
      "Cleared GPU cache.\n",
      "\n",
      "\n",
      "Experiment 2: TF-IDF with max_features 5000\n",
      "Prepare data...\n",
      "Train model...\n",
      "\n"
     ]
    },
    {
     "name": "stderr",
     "output_type": "stream",
     "text": [
      "Epoch 1: 100%|██████████| 209/209 [00:01<00:00, 120.32batch/s, batch_accuracy=1, loss=0.266]    \n",
      "Epoch 2: 100%|██████████| 209/209 [00:01<00:00, 159.32batch/s, batch_accuracy=1, loss=0.175]    \n",
      "Epoch 3: 100%|██████████| 209/209 [00:01<00:00, 174.19batch/s, batch_accuracy=1, loss=0.357]    \n",
      "Epoch 4: 100%|██████████| 209/209 [00:01<00:00, 179.17batch/s, batch_accuracy=0.857, loss=0.234]\n",
      "Epoch 5: 100%|██████████| 209/209 [00:01<00:00, 173.06batch/s, batch_accuracy=0.714, loss=0.573]\n",
      "Epoch 6: 100%|██████████| 209/209 [00:01<00:00, 174.16batch/s, batch_accuracy=1, loss=0.0474]   \n",
      "Epoch 7: 100%|██████████| 209/209 [00:01<00:00, 171.34batch/s, batch_accuracy=1, loss=0.0622]    \n",
      "Epoch 8: 100%|██████████| 209/209 [00:01<00:00, 166.79batch/s, batch_accuracy=1, loss=0.0296]    \n",
      "Epoch 9: 100%|██████████| 209/209 [00:01<00:00, 165.29batch/s, batch_accuracy=1, loss=0.0122]    \n",
      "Epoch 10: 100%|██████████| 209/209 [00:01<00:00, 165.03batch/s, batch_accuracy=1, loss=0.000791]  \n"
     ]
    },
    {
     "name": "stdout",
     "output_type": "stream",
     "text": [
      "Evaluation results\n",
      "Accuracy: 0.7344\n",
      "Precision: 0.7525\n",
      "Recall: 0.7814\n",
      "F1: 0.7667\n",
      "AUC: 0.7281\n",
      "Cleared GPU cache.\n",
      "\n",
      "\n",
      "Experiment 3: TF-IDF with max_features 10000\n",
      "Prepare data...\n",
      "Train model...\n",
      "\n"
     ]
    },
    {
     "name": "stderr",
     "output_type": "stream",
     "text": [
      "Epoch 1: 100%|██████████| 209/209 [00:02<00:00, 98.05batch/s, batch_accuracy=1, loss=0.28]      \n",
      "Epoch 2: 100%|██████████| 209/209 [00:01<00:00, 135.97batch/s, batch_accuracy=1, loss=0.201]    \n",
      "Epoch 3: 100%|██████████| 209/209 [00:01<00:00, 145.67batch/s, batch_accuracy=1, loss=0.167]    \n",
      "Epoch 4: 100%|██████████| 209/209 [00:01<00:00, 144.77batch/s, batch_accuracy=1, loss=0.227]    \n",
      "Epoch 5: 100%|██████████| 209/209 [00:01<00:00, 143.33batch/s, batch_accuracy=1, loss=0.395]    \n",
      "Epoch 6: 100%|██████████| 209/209 [00:01<00:00, 142.89batch/s, batch_accuracy=1, loss=0.0121]    \n",
      "Epoch 7: 100%|██████████| 209/209 [00:01<00:00, 138.21batch/s, batch_accuracy=1, loss=0.0311]    \n",
      "Epoch 8: 100%|██████████| 209/209 [00:01<00:00, 141.81batch/s, batch_accuracy=1, loss=0.000887]  \n",
      "Epoch 9: 100%|██████████| 209/209 [00:01<00:00, 138.73batch/s, batch_accuracy=1, loss=0.000762]  \n",
      "Epoch 10: 100%|██████████| 209/209 [00:01<00:00, 138.85batch/s, batch_accuracy=1, loss=0.000244]  \n"
     ]
    },
    {
     "name": "stdout",
     "output_type": "stream",
     "text": [
      "Evaluation results\n",
      "Accuracy: 0.7181\n",
      "Precision: 0.7374\n",
      "Recall: 0.7693\n",
      "F1: 0.7530\n",
      "AUC: 0.7113\n",
      "Cleared GPU cache.\n",
      "\n",
      "\n",
      "Experiment 4: TF-IDF with max_features 20000\n",
      "Prepare data...\n",
      "Train model...\n",
      "\n"
     ]
    },
    {
     "name": "stderr",
     "output_type": "stream",
     "text": [
      "Epoch 1: 100%|██████████| 209/209 [00:02<00:00, 75.86batch/s, batch_accuracy=0.857, loss=0.637]\n",
      "Epoch 2: 100%|██████████| 209/209 [00:02<00:00, 101.79batch/s, batch_accuracy=0.714, loss=0.624]\n",
      "Epoch 3: 100%|██████████| 209/209 [00:02<00:00, 99.13batch/s, batch_accuracy=1, loss=0.323]     \n",
      "Epoch 4: 100%|██████████| 209/209 [00:02<00:00, 99.01batch/s, batch_accuracy=1, loss=0.0886]    \n",
      "Epoch 5: 100%|██████████| 209/209 [00:02<00:00, 86.98batch/s, batch_accuracy=1, loss=0.132]     \n",
      "Epoch 6: 100%|██████████| 209/209 [00:02<00:00, 96.08batch/s, batch_accuracy=1, loss=0.062]      \n",
      "Epoch 7: 100%|██████████| 209/209 [00:02<00:00, 101.69batch/s, batch_accuracy=1, loss=0.00407]   \n",
      "Epoch 8: 100%|██████████| 209/209 [00:02<00:00, 101.42batch/s, batch_accuracy=1, loss=0.00185]    \n",
      "Epoch 9: 100%|██████████| 209/209 [00:02<00:00, 100.65batch/s, batch_accuracy=1, loss=0.00113]    \n",
      "Epoch 10: 100%|██████████| 209/209 [00:02<00:00, 101.61batch/s, batch_accuracy=1, loss=0.000287]  \n"
     ]
    },
    {
     "name": "stdout",
     "output_type": "stream",
     "text": [
      "Evaluation results\n",
      "Accuracy: 0.7057\n",
      "Precision: 0.7291\n",
      "Recall: 0.7528\n",
      "F1: 0.7408\n",
      "AUC: 0.6995\n",
      "Cleared GPU cache.\n",
      "\n",
      "\n",
      "Experiment 5: TF-IDF with max_features 50000\n",
      "Prepare data...\n"
     ]
    },
    {
     "ename": "RuntimeError",
     "evalue": "[enforce fail at alloc_cpu.cpp:114] data. DefaultCPUAllocator: not enough memory: you tried to allocate 5326200000 bytes.",
     "output_type": "error",
     "traceback": [
      "\u001b[1;31m---------------------------------------------------------------------------\u001b[0m",
      "\u001b[1;31mRuntimeError\u001b[0m                              Traceback (most recent call last)",
      "Cell \u001b[1;32mIn[4], line 14\u001b[0m\n\u001b[0;32m     11\u001b[0m tfidf_vectorizer \u001b[38;5;241m=\u001b[39m TfidfVectorizer(max_features\u001b[38;5;241m=\u001b[39mmax_features[i])\n\u001b[0;32m     12\u001b[0m tfidf_vectorizer\u001b[38;5;241m.\u001b[39mfit(train_raw\u001b[38;5;241m.\u001b[39mtexts)\n\u001b[1;32m---> 14\u001b[0m train_data_nn \u001b[38;5;241m=\u001b[39m encode_data(train_raw, tfidf_vectorizer)\n\u001b[0;32m     15\u001b[0m test_data_nn \u001b[38;5;241m=\u001b[39m encode_data(test_raw, tfidf_vectorizer)\n\u001b[0;32m     17\u001b[0m dataloader \u001b[38;5;241m=\u001b[39m DataLoader(train_data_nn, batch_size\u001b[38;5;241m=\u001b[39m\u001b[38;5;241m128\u001b[39m, shuffle\u001b[38;5;241m=\u001b[39m\u001b[38;5;28;01mTrue\u001b[39;00m)\n",
      "File \u001b[1;32m~\\Documents\\nodalida\\power-identification\\lib\\data_processing.py:275\u001b[0m, in \u001b[0;36mencode_data\u001b[1;34m(raw_data, encoder)\u001b[0m\n\u001b[0;32m    272\u001b[0m enc_texts_csr \u001b[38;5;241m=\u001b[39m encoder\u001b[38;5;241m.\u001b[39mtransform(raw_data\u001b[38;5;241m.\u001b[39mtexts)  \n\u001b[0;32m    274\u001b[0m \u001b[38;5;28;01mif\u001b[39;00m \u001b[38;5;28misinstance\u001b[39m(enc_texts_csr, csr_matrix):\n\u001b[1;32m--> 275\u001b[0m     inputs \u001b[38;5;241m=\u001b[39m torch\u001b[38;5;241m.\u001b[39mfrom_numpy(enc_texts_csr\u001b[38;5;241m.\u001b[39mtodense())\u001b[38;5;241m.\u001b[39mfloat()\n\u001b[0;32m    276\u001b[0m \u001b[38;5;28;01melse\u001b[39;00m:\n\u001b[0;32m    277\u001b[0m     inputs \u001b[38;5;241m=\u001b[39m enc_texts_csr\u001b[38;5;241m.\u001b[39mto_dense()\n",
      "\u001b[1;31mRuntimeError\u001b[0m: [enforce fail at alloc_cpu.cpp:114] data. DefaultCPUAllocator: not enough memory: you tried to allocate 5326200000 bytes."
     ]
    }
   ],
   "source": [
    "max_features = [1000, 5000, 10000, 20000, 50000]\n",
    "models_dir = Path(str(PARENT_DIR) + '/models/feature_engineering')\n",
    "if not models_dir.exists():\n",
    "    models_dir.mkdir(parents=True, exist_ok=True)\n",
    "    \n",
    "for i in range(len(max_features)):\n",
    "    print(f\"Experiment {i+1}: TF-IDF with max_features {max_features[i]}\")\n",
    "    \n",
    "    # Encode\n",
    "    print(\"Prepare data...\")\n",
    "    tfidf_vectorizer = TfidfVectorizer(max_features=max_features[i])\n",
    "    tfidf_vectorizer.fit(train_raw.texts)\n",
    "    \n",
    "    train_data_nn = encode_data(train_raw, tfidf_vectorizer)\n",
    "    test_data_nn = encode_data(test_raw, tfidf_vectorizer)\n",
    "    \n",
    "    dataloader = DataLoader(train_data_nn, batch_size=128, shuffle=True)\n",
    "    \n",
    "    # Train\n",
    "    print(\"Train model...\")\n",
    "    model_nn = NeuralNetwork(input_size=len(tfidf_vectorizer.vocabulary_), hidden_size=128, device=\"cuda\")\n",
    "    model_nn.fit(dataloader, train_config, disable_progress_bar=False)\n",
    "    \n",
    "    save_model(model_nn, models_dir, f\"model_tfidf_max_features_{max_features[i]}.pt\")\n",
    "    \n",
    "    # Test\n",
    "    with torch.no_grad():\n",
    "        X_test = torch.stack([test[0] for test in test_data_nn]).to(model_nn.device)\n",
    "        y_test = torch.stack([test[1] for test in test_data_nn]).to(model_nn.device)\n",
    "        y_pred = model_nn.predict(X_test)\n",
    "    \n",
    "    # Evaluate\n",
    "    y_test = y_test.cpu()\n",
    "    y_pred = y_pred.cpu()\n",
    "    print(\"Evaluation results\")\n",
    "    \n",
    "    accuracy = accuracy_score(y_test, y_pred)\n",
    "    print(f\"Accuracy: {accuracy:.4f}\")\n",
    "    \n",
    "    precision, recall, fscore, _ = precision_recall_fscore_support(y_test, y_pred, average='binary')\n",
    "    print(f\"Precision: {precision:.4f}\")\n",
    "    print(f\"Recall: {recall:.4f}\")\n",
    "    print(f\"F1: {fscore:.4f}\")\n",
    "    \n",
    "    auc = roc_auc_score(y_test, y_pred)\n",
    "    print(f\"AUC: {auc:.4f}\")\n",
    "    print()"
   ]
  }
 ],
 "metadata": {
  "kernelspec": {
   "display_name": "Python 3 (ipykernel)",
   "language": "python",
   "name": "python3"
  },
  "language_info": {
   "codemirror_mode": {
    "name": "ipython",
    "version": 3
   },
   "file_extension": ".py",
   "mimetype": "text/x-python",
   "name": "python",
   "nbconvert_exporter": "python",
   "pygments_lexer": "ipython3",
   "version": "3.11.5"
  }
 },
 "nbformat": 4,
 "nbformat_minor": 5
}
