{
 "cells": [
  {
   "cell_type": "code",
   "execution_count": 1,
   "id": "f33a73d8",
   "metadata": {},
   "outputs": [],
   "source": [
    "import pandas as pd\n",
    "from datasets import load_dataset\n",
    "\n",
    "# Load the dataset from the TSV file\n",
    "dataset = load_dataset('csv', data_files='./data/orientation/orientation-gb-train.tsv', delimiter='\\t')\n",
    "\n",
    "# Split the dataset into train and test sets (e.g., 80-20 split)\n",
    "split_dataset = dataset['train'].train_test_split(test_size=0.2)\n"
   ]
  },
  {
   "cell_type": "code",
   "execution_count": 2,
   "id": "b60370b3",
   "metadata": {},
   "outputs": [],
   "source": [
    "import torch\n",
    "import torch.nn as nn\n",
    "import torch.optim as optim\n",
    "from torch.utils.data import DataLoader, TensorDataset\n",
    "from sklearn.metrics import f1_score\n",
    "\n",
    "device = torch.device(\"cuda\" if torch.cuda.is_available() else \"cpu\")\n",
    "\n",
    "class BasicNN(nn.Module):\n",
    "    def __init__(self, input_size, hidden_size, num_classes):\n",
    "        super(BasicNN, self).__init__()\n",
    "        self.fc1 = nn.Linear(input_size, hidden_size)\n",
    "        self.relu = nn.ReLU()\n",
    "        self.fc2 = nn.Linear(hidden_size, num_classes)\n",
    "    \n",
    "    def forward(self, x):\n",
    "        out = self.fc1(x)\n",
    "        out = self.relu(out)\n",
    "        out = self.fc2(out)\n",
    "        return out\n",
    "\n",
    "# Helper function to train and evaluate the neural network\n",
    "def train_and_evaluate(train_vectors, train_labels, test_vectors, test_labels, input_size, hidden_size=50, num_classes=2, epochs=10, batch_size=16):\n",
    "    # Convert data to PyTorch tensors and move to GPU\n",
    "    train_vectors = torch.tensor(train_vectors, dtype=torch.float32).to(device)\n",
    "    train_labels = torch.tensor(train_labels, dtype=torch.long).to(device)\n",
    "    test_vectors = torch.tensor(test_vectors, dtype=torch.float32).to(device)\n",
    "    test_labels = torch.tensor(test_labels, dtype=torch.long).to(device)\n",
    "\n",
    "    # Create data loaders\n",
    "    train_dataset = TensorDataset(train_vectors, train_labels)\n",
    "    test_dataset = TensorDataset(test_vectors, test_labels)\n",
    "    train_loader = DataLoader(train_dataset, batch_size=batch_size, shuffle=True)\n",
    "    test_loader = DataLoader(test_dataset, batch_size=batch_size, shuffle=False)\n",
    "\n",
    "    # Initialize model, loss function, and optimizer\n",
    "    model = BasicNN(input_size, hidden_size, num_classes).to(device)\n",
    "    criterion = nn.CrossEntropyLoss()\n",
    "    optimizer = optim.Adam(model.parameters(), lr=0.001)\n",
    "\n",
    "    # Training loop\n",
    "    for epoch in range(epochs):\n",
    "        model.train()\n",
    "        for vectors, labels in train_loader:\n",
    "            outputs = model(vectors)\n",
    "            loss = criterion(outputs, labels)\n",
    "            optimizer.zero_grad()\n",
    "            loss.backward()\n",
    "            optimizer.step()\n",
    "\n",
    "    # Evaluation\n",
    "    model.eval()\n",
    "    all_preds = []\n",
    "    all_labels = []\n",
    "    with torch.no_grad():\n",
    "        for vectors, labels in test_loader:\n",
    "            outputs = model(vectors)\n",
    "            _, predicted = torch.max(outputs.data, 1)\n",
    "            all_preds.extend(predicted.cpu().numpy())\n",
    "            all_labels.extend(labels.cpu().numpy())\n",
    "\n",
    "    f1 = f1_score(all_labels, all_preds, average='weighted')\n",
    "    return f1\n"
   ]
  },
  {
   "cell_type": "code",
   "execution_count": 3,
   "id": "e32ae62c",
   "metadata": {},
   "outputs": [],
   "source": [
    "# Extract train and test data\n",
    "train_texts = split_dataset['train']['text']\n",
    "train_labels = split_dataset['train']['label']\n",
    "test_texts = split_dataset['test']['text']\n",
    "test_labels = split_dataset['test']['label']\n"
   ]
  },
  {
   "cell_type": "code",
   "execution_count": 5,
   "id": "e09db1cd",
   "metadata": {},
   "outputs": [
    {
     "name": "stdout",
     "output_type": "stream",
     "text": [
      "Bag-of-Words F1 Score: 0.7554709447215134\n",
      "TF-IDF F1 Score: 0.7409388745905656\n"
     ]
    }
   ],
   "source": [
    "from sklearn.feature_extraction.text import CountVectorizer, TfidfVectorizer\n",
    "\n",
    "\n",
    "# Bag-of-Words with max_features\n",
    "bow_vectorizer = CountVectorizer(max_features=50000)\n",
    "train_vectors = bow_vectorizer.fit_transform(train_texts).toarray()\n",
    "test_vectors = bow_vectorizer.transform(test_texts).toarray()\n",
    "bow_f1 = train_and_evaluate(train_vectors, train_labels, test_vectors, test_labels, input_size=50000)\n",
    "print(f'Bag-of-Words F1 Score: {bow_f1}')\n",
    "\n",
    "# TF-IDF with max_features\n",
    "tfidf_vectorizer = TfidfVectorizer(max_features=50000)\n",
    "train_vectors = tfidf_vectorizer.fit_transform(train_texts).toarray()\n",
    "test_vectors = tfidf_vectorizer.transform(test_texts).toarray()\n",
    "tfidf_f1 = train_and_evaluate(train_vectors, train_labels, test_vectors, test_labels, input_size=50000)\n",
    "print(f'TF-IDF F1 Score: {tfidf_f1}')\n"
   ]
  },
  {
   "cell_type": "code",
   "execution_count": 30,
   "id": "abe5bfbd",
   "metadata": {},
   "outputs": [
    {
     "name": "stdout",
     "output_type": "stream",
     "text": [
      "GloVe F1 Score: 0.7009512004441185\n"
     ]
    }
   ],
   "source": [
    "import numpy as np\n",
    "\n",
    "# Load GloVe embeddings\n",
    "def load_glove_embeddings(glove_file):\n",
    "    embeddings = {}\n",
    "    with open(glove_file, 'r', encoding='utf-8') as f:\n",
    "        for line in f:\n",
    "            values = line.split()\n",
    "            word = values[0]\n",
    "            vector = np.asarray(values[1:], dtype='float32')\n",
    "            embeddings[word] = vector\n",
    "    return embeddings\n",
    "\n",
    "# Example GloVe file path (adjust as needed)\n",
    "glove_file = './.vector_cache/glove.6B.300d.txt'\n",
    "glove_embeddings = load_glove_embeddings(glove_file)\n",
    "\n",
    "# Tokenize and vectorize using GloVe\n",
    "def glove_vectorize(texts, embeddings, embedding_dim=300):\n",
    "    vectors = []\n",
    "    for text in texts:\n",
    "        words = text.split()\n",
    "        word_vectors = [embeddings.get(word, np.zeros(embedding_dim)) for word in words]\n",
    "        if word_vectors:\n",
    "            vectors.append(np.mean(word_vectors, axis=0))\n",
    "        else:\n",
    "            vectors.append(np.zeros(embedding_dim))\n",
    "    return np.array(vectors)\n",
    "\n",
    "train_vectors = glove_vectorize(train_texts, glove_embeddings)\n",
    "test_vectors = glove_vectorize(test_texts, glove_embeddings)\n",
    "glove_f1 = train_and_evaluate(train_vectors, train_labels, test_vectors, test_labels, input_size=300)\n",
    "print(f'GloVe F1 Score: {glove_f1}')\n"
   ]
  }
 ],
 "metadata": {
  "kernelspec": {
   "display_name": "Python 3 (ipykernel)",
   "language": "python",
   "name": "python3"
  },
  "language_info": {
   "codemirror_mode": {
    "name": "ipython",
    "version": 3
   },
   "file_extension": ".py",
   "mimetype": "text/x-python",
   "name": "python",
   "nbconvert_exporter": "python",
   "pygments_lexer": "ipython3",
   "version": "3.11.5"
  }
 },
 "nbformat": 4,
 "nbformat_minor": 5
}
