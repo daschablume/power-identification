{
 "cells": [
  {
   "cell_type": "markdown",
   "id": "ca5b391e",
   "metadata": {},
   "source": [
    "# Load packages"
   ]
  },
  {
   "cell_type": "code",
   "execution_count": 1,
   "id": "b041cb63",
   "metadata": {},
   "outputs": [
    {
     "name": "stdout",
     "output_type": "stream",
     "text": [
      "Device: cuda\n",
      "NVIDIA GeForce RTX 3050 Ti Laptop GPU\n"
     ]
    }
   ],
   "source": [
    "import sys\n",
    "from pathlib import Path\n",
    "\n",
    "PARENT_DIR = Path.cwd().parent.parent\n",
    "sys.path.append(str(PARENT_DIR))\n",
    "\n",
    "import torch\n",
    "from torch.utils.data import DataLoader\n",
    "from sklearn.feature_extraction.text import CountVectorizer\n",
    "from sklearn.metrics import accuracy_score, precision_recall_fscore_support, roc_auc_score\n",
    "\n",
    "from lib.models import TrainConfig, NeuralNetwork, save_model\n",
    "from lib.data_processing import load_data, split_data, encode_data\n",
    "\n",
    "from tqdm import tqdm\n",
    "\n",
    "if torch.cuda.is_available():\n",
    "    for i in range(torch.cuda.device_count()):\n",
    "        print(\"Device: cuda\")\n",
    "        print(torch.cuda.get_device_name(i))\n",
    "else:\n",
    "    print(\"Device: cpu\")"
   ]
  },
  {
   "cell_type": "markdown",
   "id": "1087d263",
   "metadata": {},
   "source": [
    "# Load data"
   ]
  },
  {
   "cell_type": "code",
   "execution_count": 2,
   "id": "84eb7e2c",
   "metadata": {},
   "outputs": [],
   "source": [
    "data = load_data(file_path_list=[str(PARENT_DIR) + \"/data/power/power-gb-train.tsv\"])\n",
    "train_raw, test_raw = split_data(data, test_size=0.2, random_state=0)"
   ]
  },
  {
   "cell_type": "markdown",
   "id": "67842f30",
   "metadata": {},
   "source": [
    "# Set training configurations"
   ]
  },
  {
   "cell_type": "code",
   "execution_count": 3,
   "id": "ed0ac352",
   "metadata": {},
   "outputs": [],
   "source": [
    "train_config = TrainConfig(num_epochs=10,early_stop=False,violation_limit=5)"
   ]
  },
  {
   "cell_type": "markdown",
   "id": "fe2a3bac",
   "metadata": {},
   "source": [
    "# Experiment"
   ]
  },
  {
   "cell_type": "code",
   "execution_count": 4,
   "id": "79156b8e",
   "metadata": {},
   "outputs": [
    {
     "name": "stdout",
     "output_type": "stream",
     "text": [
      "Experiment 1: Bag-of-Words with max_features 1000\n",
      "Prepare data...\n",
      "Train model...\n",
      "\n"
     ]
    },
    {
     "name": "stderr",
     "output_type": "stream",
     "text": [
      "Epoch 1: 100%|██████████| 209/209 [00:02<00:00, 77.64batch/s, batch_accuracy=0.857, loss=0.454] \n",
      "Epoch 2: 100%|██████████| 209/209 [00:01<00:00, 121.01batch/s, batch_accuracy=0.571, loss=0.919]\n",
      "Epoch 3: 100%|██████████| 209/209 [00:01<00:00, 123.22batch/s, batch_accuracy=0.714, loss=0.601]\n",
      "Epoch 4: 100%|██████████| 209/209 [00:01<00:00, 120.61batch/s, batch_accuracy=1, loss=0.292]    \n",
      "Epoch 5: 100%|██████████| 209/209 [00:01<00:00, 126.05batch/s, batch_accuracy=0.857, loss=0.272]\n",
      "Epoch 6: 100%|██████████| 209/209 [00:01<00:00, 119.04batch/s, batch_accuracy=1, loss=0.221]    \n",
      "Epoch 7: 100%|██████████| 209/209 [00:01<00:00, 116.62batch/s, batch_accuracy=1, loss=0.138]    \n",
      "Epoch 8: 100%|██████████| 209/209 [00:01<00:00, 120.54batch/s, batch_accuracy=1, loss=0.348]     \n",
      "Epoch 9: 100%|██████████| 209/209 [00:01<00:00, 113.39batch/s, batch_accuracy=1, loss=0.125]     \n",
      "Epoch 10: 100%|██████████| 209/209 [00:01<00:00, 108.78batch/s, batch_accuracy=1, loss=0.109]     \n"
     ]
    },
    {
     "name": "stdout",
     "output_type": "stream",
     "text": [
      "Evaluation results\n",
      "Accuracy: 0.7360\n",
      "Precision: 0.7421\n",
      "Recall: 0.8084\n",
      "F1: 0.7738\n",
      "AUC: 0.7264\n",
      "\n",
      "Experiment 2: Bag-of-Words with max_features 5000\n",
      "Prepare data...\n",
      "Train model...\n",
      "\n"
     ]
    },
    {
     "name": "stderr",
     "output_type": "stream",
     "text": [
      "Epoch 1: 100%|██████████| 209/209 [00:03<00:00, 68.36batch/s, batch_accuracy=1, loss=0.409]    \n",
      "Epoch 2: 100%|██████████| 209/209 [00:02<00:00, 100.30batch/s, batch_accuracy=1, loss=0.572]    \n",
      "Epoch 3: 100%|██████████| 209/209 [00:02<00:00, 91.32batch/s, batch_accuracy=1, loss=0.208]     \n",
      "Epoch 4: 100%|██████████| 209/209 [00:02<00:00, 83.80batch/s, batch_accuracy=0.857, loss=0.245]\n",
      "Epoch 5: 100%|██████████| 209/209 [00:01<00:00, 107.69batch/s, batch_accuracy=1, loss=0.0255]    \n",
      "Epoch 6: 100%|██████████| 209/209 [00:01<00:00, 125.91batch/s, batch_accuracy=1, loss=0.0745]    \n",
      "Epoch 7: 100%|██████████| 209/209 [00:01<00:00, 109.13batch/s, batch_accuracy=1, loss=0.0723]    \n",
      "Epoch 8: 100%|██████████| 209/209 [00:02<00:00, 101.22batch/s, batch_accuracy=1, loss=0.0445]    \n",
      "Epoch 9: 100%|██████████| 209/209 [00:01<00:00, 117.89batch/s, batch_accuracy=1, loss=0.00195]   \n",
      "Epoch 10: 100%|██████████| 209/209 [00:01<00:00, 104.81batch/s, batch_accuracy=1, loss=0.0298]    \n"
     ]
    },
    {
     "name": "stdout",
     "output_type": "stream",
     "text": [
      "Evaluation results\n",
      "Accuracy: 0.7231\n",
      "Precision: 0.7693\n",
      "Recall: 0.7201\n",
      "F1: 0.7439\n",
      "AUC: 0.7235\n",
      "\n",
      "Experiment 3: Bag-of-Words with max_features 10000\n",
      "Prepare data...\n",
      "Train model...\n",
      "\n"
     ]
    },
    {
     "name": "stderr",
     "output_type": "stream",
     "text": [
      "Epoch 1: 100%|██████████| 209/209 [00:03<00:00, 69.03batch/s, batch_accuracy=1, loss=0.341]    \n",
      "Epoch 2: 100%|██████████| 209/209 [00:02<00:00, 81.39batch/s, batch_accuracy=0.857, loss=0.429]\n",
      "Epoch 3: 100%|██████████| 209/209 [00:02<00:00, 79.34batch/s, batch_accuracy=1, loss=0.0486]   \n",
      "Epoch 4: 100%|██████████| 209/209 [00:02<00:00, 79.06batch/s, batch_accuracy=1, loss=0.109]     \n",
      "Epoch 5: 100%|██████████| 209/209 [00:02<00:00, 85.80batch/s, batch_accuracy=1, loss=0.0214]    \n",
      "Epoch 6: 100%|██████████| 209/209 [00:02<00:00, 84.20batch/s, batch_accuracy=1, loss=0.025]     \n",
      "Epoch 7: 100%|██████████| 209/209 [00:02<00:00, 85.29batch/s, batch_accuracy=1, loss=0.027]     \n",
      "Epoch 8: 100%|██████████| 209/209 [00:02<00:00, 93.22batch/s, batch_accuracy=1, loss=0.00314]    \n",
      "Epoch 9: 100%|██████████| 209/209 [00:01<00:00, 111.55batch/s, batch_accuracy=1, loss=9.66e-5]   \n",
      "Epoch 10: 100%|██████████| 209/209 [00:01<00:00, 113.29batch/s, batch_accuracy=1, loss=0.000224]  \n"
     ]
    },
    {
     "name": "stdout",
     "output_type": "stream",
     "text": [
      "Evaluation results\n",
      "Accuracy: 0.7341\n",
      "Precision: 0.7701\n",
      "Recall: 0.7468\n",
      "F1: 0.7583\n",
      "AUC: 0.7324\n",
      "\n",
      "Experiment 4: Bag-of-Words with max_features 20000\n",
      "Prepare data...\n",
      "Train model...\n",
      "\n"
     ]
    },
    {
     "name": "stderr",
     "output_type": "stream",
     "text": [
      "Epoch 1: 100%|██████████| 209/209 [00:02<00:00, 75.21batch/s, batch_accuracy=0.714, loss=0.764]\n",
      "Epoch 2: 100%|██████████| 209/209 [00:02<00:00, 93.68batch/s, batch_accuracy=1, loss=0.141]    \n",
      "Epoch 3: 100%|██████████| 209/209 [00:02<00:00, 87.59batch/s, batch_accuracy=1, loss=0.0953]   \n",
      "Epoch 4: 100%|██████████| 209/209 [00:02<00:00, 84.98batch/s, batch_accuracy=1, loss=0.155]     \n",
      "Epoch 5: 100%|██████████| 209/209 [00:02<00:00, 99.73batch/s, batch_accuracy=1, loss=0.0119]     \n",
      "Epoch 6: 100%|██████████| 209/209 [00:02<00:00, 94.74batch/s, batch_accuracy=1, loss=0.00871]    \n",
      "Epoch 7: 100%|██████████| 209/209 [00:02<00:00, 103.66batch/s, batch_accuracy=1, loss=0.0142]    \n",
      "Epoch 8: 100%|██████████| 209/209 [00:01<00:00, 105.12batch/s, batch_accuracy=1, loss=0.00806]   \n",
      "Epoch 9: 100%|██████████| 209/209 [00:01<00:00, 107.40batch/s, batch_accuracy=1, loss=0.00201]    \n",
      "Epoch 10: 100%|██████████| 209/209 [00:02<00:00, 97.48batch/s, batch_accuracy=1, loss=0.00111]   \n"
     ]
    },
    {
     "name": "stdout",
     "output_type": "stream",
     "text": [
      "Evaluation results\n",
      "Accuracy: 0.7237\n",
      "Precision: 0.7667\n",
      "Recall: 0.7263\n",
      "F1: 0.7459\n",
      "AUC: 0.7233\n",
      "\n",
      "Experiment 5: Bag-of-Words with max_features 50000\n",
      "Prepare data...\n",
      "Train model...\n",
      "\n"
     ]
    },
    {
     "name": "stderr",
     "output_type": "stream",
     "text": [
      "Epoch 1: 100%|██████████| 209/209 [00:04<00:00, 43.86batch/s, batch_accuracy=1, loss=0.387]    \n",
      "Epoch 2: 100%|██████████| 209/209 [00:03<00:00, 54.87batch/s, batch_accuracy=0.857, loss=0.475]\n",
      "Epoch 3: 100%|██████████| 209/209 [00:03<00:00, 58.77batch/s, batch_accuracy=1, loss=0.174]    \n",
      "Epoch 4: 100%|██████████| 209/209 [00:03<00:00, 61.03batch/s, batch_accuracy=1, loss=0.0779]    \n",
      "Epoch 5: 100%|██████████| 209/209 [00:03<00:00, 60.34batch/s, batch_accuracy=1, loss=0.424]     \n",
      "Epoch 6: 100%|██████████| 209/209 [00:04<00:00, 45.82batch/s, batch_accuracy=1, loss=0.00723]   \n",
      "Epoch 7: 100%|██████████| 209/209 [00:03<00:00, 52.59batch/s, batch_accuracy=1, loss=0.000196]  \n",
      "Epoch 8: 100%|██████████| 209/209 [00:03<00:00, 53.25batch/s, batch_accuracy=1, loss=0.00139]   \n",
      "Epoch 9: 100%|██████████| 209/209 [00:03<00:00, 60.51batch/s, batch_accuracy=1, loss=0.000528]  \n",
      "Epoch 10: 100%|██████████| 209/209 [00:03<00:00, 56.13batch/s, batch_accuracy=1, loss=0.00104]    \n"
     ]
    },
    {
     "name": "stdout",
     "output_type": "stream",
     "text": [
      "Evaluation results\n",
      "Accuracy: 0.7360\n",
      "Precision: 0.7568\n",
      "Recall: 0.7771\n",
      "F1: 0.7668\n",
      "AUC: 0.7306\n",
      "\n"
     ]
    }
   ],
   "source": [
    "max_features = [1000, 5000, 10000, 20000, 50000]\n",
    "models_dir = Path(str(PARENT_DIR) + '/models/feature_engineering')\n",
    "if not models_dir.exists():\n",
    "    models_dir.mkdir(parents=True, exist_ok=True)\n",
    "    \n",
    "for i in range(len(max_features)):\n",
    "    print(f\"Experiment {i+1}: Bag-of-Words with max_features {max_features[i]}\")\n",
    "    \n",
    "    # Encode\n",
    "    print(\"Prepare data...\")\n",
    "    bow_vectorizer = CountVectorizer(max_features=max_features[i])\n",
    "    bow_vectorizer.fit(train_raw.texts)\n",
    "    \n",
    "    train_data_nn = encode_data(train_raw, bow_vectorizer)\n",
    "    test_data_nn = encode_data(test_raw, bow_vectorizer)\n",
    "    \n",
    "    dataloader = DataLoader(train_data_nn, batch_size=128, shuffle=True)\n",
    "    \n",
    "    # Train\n",
    "    print(\"Train model...\")\n",
    "    model_nn = NeuralNetwork(input_size=len(bow_vectorizer.vocabulary_), hidden_size=128, device=\"cuda\")\n",
    "    model_nn.fit(dataloader, train_config, disable_progress_bar=False)\n",
    "    \n",
    "    save_model(model_nn, models_dir, f\"model_bow_max_features_{max_features[i]}.pt\")\n",
    "    \n",
    "    # Test\n",
    "    with torch.no_grad():\n",
    "        X_test = torch.stack([test[0] for test in test_data_nn]).to(model_nn.device)\n",
    "        y_test = torch.stack([test[1] for test in test_data_nn]).to(model_nn.device)\n",
    "        y_pred = model_nn.predict(X_test)\n",
    "    \n",
    "    # Evaluate\n",
    "    y_test = y_test.cpu()\n",
    "    y_pred = y_pred.cpu()\n",
    "    print(\"Evaluation results\")\n",
    "    \n",
    "    accuracy = accuracy_score(y_test, y_pred)\n",
    "    print(f\"Accuracy: {accuracy:.4f}\")\n",
    "    \n",
    "    precision, recall, fscore, _ = precision_recall_fscore_support(y_test, y_pred, average='binary')\n",
    "    print(f\"Precision: {precision:.4f}\")\n",
    "    print(f\"Recall: {recall:.4f}\")\n",
    "    print(f\"F1: {fscore:.4f}\")\n",
    "    \n",
    "    auc = roc_auc_score(y_test, y_pred)\n",
    "    print(f\"AUC: {auc:.4f}\")\n",
    "    print()"
   ]
  }
 ],
 "metadata": {
  "kernelspec": {
   "display_name": "Python 3 (ipykernel)",
   "language": "python",
   "name": "python3"
  },
  "language_info": {
   "codemirror_mode": {
    "name": "ipython",
    "version": 3
   },
   "file_extension": ".py",
   "mimetype": "text/x-python",
   "name": "python",
   "nbconvert_exporter": "python",
   "pygments_lexer": "ipython3",
   "version": "3.11.5"
  }
 },
 "nbformat": 4,
 "nbformat_minor": 5
}
