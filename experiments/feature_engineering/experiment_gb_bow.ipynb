{
 "cells": [
  {
   "cell_type": "markdown",
   "id": "ca5b391e",
   "metadata": {},
   "source": [
    "# Load packages"
   ]
  },
  {
   "cell_type": "code",
   "execution_count": 1,
   "id": "b041cb63",
   "metadata": {},
   "outputs": [
    {
     "name": "stdout",
     "output_type": "stream",
     "text": [
      "Device: cuda\n",
      "NVIDIA GeForce RTX 3050 Ti Laptop GPU\n"
     ]
    }
   ],
   "source": [
    "import sys\n",
    "from pathlib import Path\n",
    "\n",
    "PARENT_DIR = Path.cwd().parent.parent\n",
    "sys.path.append(str(PARENT_DIR))\n",
    "\n",
    "import torch\n",
    "from torch.utils.data import DataLoader\n",
    "from sklearn.feature_extraction.text import CountVectorizer\n",
    "from sklearn.metrics import accuracy_score, precision_recall_fscore_support, roc_auc_score\n",
    "\n",
    "from lib.models import TrainConfig, NeuralNetwork, save_model\n",
    "from lib.data_processing import load_data, split_data, encode_data\n",
    "\n",
    "from tqdm import tqdm\n",
    "\n",
    "if torch.cuda.is_available():\n",
    "    for i in range(torch.cuda.device_count()):\n",
    "        print(\"Device: cuda\")\n",
    "        print(torch.cuda.get_device_name(i))\n",
    "else:\n",
    "    print(\"Device: cpu\")"
   ]
  },
  {
   "cell_type": "markdown",
   "id": "1087d263",
   "metadata": {},
   "source": [
    "# Load data"
   ]
  },
  {
   "cell_type": "code",
   "execution_count": 2,
   "id": "84eb7e2c",
   "metadata": {},
   "outputs": [],
   "source": [
    "data = load_data(file_path_list=[str(PARENT_DIR) + \"/data/power/power-gb-train.tsv\"])\n",
    "train_raw, test_raw = split_data(data, test_size=0.2, random_state=0)"
   ]
  },
  {
   "cell_type": "markdown",
   "id": "67842f30",
   "metadata": {},
   "source": [
    "# Set training configurations"
   ]
  },
  {
   "cell_type": "code",
   "execution_count": 3,
   "id": "ed0ac352",
   "metadata": {},
   "outputs": [],
   "source": [
    "train_config = TrainConfig(num_epochs=10,early_stop=False,violation_limit=5)"
   ]
  },
  {
   "cell_type": "markdown",
   "id": "fe2a3bac",
   "metadata": {},
   "source": [
    "# Experiment"
   ]
  },
  {
   "cell_type": "code",
   "execution_count": 4,
   "id": "79156b8e",
   "metadata": {},
   "outputs": [
    {
     "name": "stdout",
     "output_type": "stream",
     "text": [
      "Experiment 1: Bag-of-Words with max_features 1000\n",
      "Prepare data...\n",
      "Train model...\n",
      "\n"
     ]
    },
    {
     "name": "stderr",
     "output_type": "stream",
     "text": [
      "Epoch 1: 100%|██████████| 209/209 [00:01<00:00, 179.56batch/s, batch_accuracy=0.714, loss=0.541]\n",
      "Epoch 2: 100%|██████████| 209/209 [00:00<00:00, 241.61batch/s, batch_accuracy=0.714, loss=0.789]\n",
      "Epoch 3: 100%|██████████| 209/209 [00:00<00:00, 247.37batch/s, batch_accuracy=1, loss=0.252]    \n",
      "Epoch 4: 100%|██████████| 209/209 [00:01<00:00, 203.70batch/s, batch_accuracy=0.857, loss=0.615]\n",
      "Epoch 5: 100%|██████████| 209/209 [00:00<00:00, 229.70batch/s, batch_accuracy=1, loss=0.12]     \n",
      "Epoch 6: 100%|██████████| 209/209 [00:00<00:00, 217.48batch/s, batch_accuracy=1, loss=0.0549]   \n",
      "Epoch 7: 100%|██████████| 209/209 [00:00<00:00, 214.79batch/s, batch_accuracy=1, loss=0.315]    \n",
      "Epoch 8: 100%|██████████| 209/209 [00:01<00:00, 189.18batch/s, batch_accuracy=1, loss=0.0361]    \n",
      "Epoch 9: 100%|██████████| 209/209 [00:01<00:00, 175.56batch/s, batch_accuracy=1, loss=0.024]     \n",
      "Epoch 10: 100%|██████████| 209/209 [00:01<00:00, 163.43batch/s, batch_accuracy=1, loss=0.0279]    \n"
     ]
    },
    {
     "name": "stdout",
     "output_type": "stream",
     "text": [
      "Evaluation results\n",
      "Accuracy: 0.7282\n",
      "Precision: 0.7448\n",
      "Recall: 0.7809\n",
      "F1: 0.7624\n",
      "AUC: 0.7212\n",
      "\n",
      "Experiment 2: Bag-of-Words with max_features 5000\n",
      "Prepare data...\n",
      "Train model...\n",
      "\n"
     ]
    },
    {
     "name": "stderr",
     "output_type": "stream",
     "text": [
      "Epoch 1: 100%|██████████| 209/209 [00:01<00:00, 147.60batch/s, batch_accuracy=1, loss=0.347]    \n",
      "Epoch 2: 100%|██████████| 209/209 [00:01<00:00, 199.62batch/s, batch_accuracy=0.857, loss=0.332]\n",
      "Epoch 3: 100%|██████████| 209/209 [00:01<00:00, 192.75batch/s, batch_accuracy=1, loss=0.201]    \n",
      "Epoch 4: 100%|██████████| 209/209 [00:01<00:00, 190.23batch/s, batch_accuracy=1, loss=0.187]    \n",
      "Epoch 5: 100%|██████████| 209/209 [00:01<00:00, 187.53batch/s, batch_accuracy=0.857, loss=0.856] \n",
      "Epoch 6: 100%|██████████| 209/209 [00:01<00:00, 179.46batch/s, batch_accuracy=1, loss=0.078]     \n",
      "Epoch 7: 100%|██████████| 209/209 [00:01<00:00, 183.43batch/s, batch_accuracy=1, loss=0.00176]   \n",
      "Epoch 8: 100%|██████████| 209/209 [00:01<00:00, 172.39batch/s, batch_accuracy=1, loss=0.0193]    \n",
      "Epoch 9: 100%|██████████| 209/209 [00:01<00:00, 173.28batch/s, batch_accuracy=1, loss=0.0035]    \n",
      "Epoch 10: 100%|██████████| 209/209 [00:01<00:00, 173.76batch/s, batch_accuracy=1, loss=0.000325]  \n"
     ]
    },
    {
     "name": "stdout",
     "output_type": "stream",
     "text": [
      "Evaluation results\n",
      "Accuracy: 0.7401\n",
      "Precision: 0.7360\n",
      "Recall: 0.8338\n",
      "F1: 0.7819\n",
      "AUC: 0.7277\n",
      "\n",
      "Experiment 3: Bag-of-Words with max_features 10000\n",
      "Prepare data...\n",
      "Train model...\n",
      "\n"
     ]
    },
    {
     "name": "stderr",
     "output_type": "stream",
     "text": [
      "Epoch 1: 100%|██████████| 209/209 [00:01<00:00, 110.72batch/s, batch_accuracy=0.857, loss=0.509]\n",
      "Epoch 2: 100%|██████████| 209/209 [00:01<00:00, 159.59batch/s, batch_accuracy=0.857, loss=0.349]\n",
      "Epoch 3: 100%|██████████| 209/209 [00:01<00:00, 155.53batch/s, batch_accuracy=0.857, loss=0.523]\n",
      "Epoch 4: 100%|██████████| 209/209 [00:01<00:00, 152.59batch/s, batch_accuracy=0.857, loss=0.323]\n",
      "Epoch 5: 100%|██████████| 209/209 [00:01<00:00, 150.37batch/s, batch_accuracy=1, loss=0.0226]    \n",
      "Epoch 6: 100%|██████████| 209/209 [00:01<00:00, 148.94batch/s, batch_accuracy=1, loss=0.0332]    \n",
      "Epoch 7: 100%|██████████| 209/209 [00:01<00:00, 148.56batch/s, batch_accuracy=1, loss=0.00159]   \n",
      "Epoch 8: 100%|██████████| 209/209 [00:01<00:00, 147.87batch/s, batch_accuracy=1, loss=0.00701]   \n",
      "Epoch 9: 100%|██████████| 209/209 [00:01<00:00, 147.90batch/s, batch_accuracy=1, loss=6.79e-5]   \n",
      "Epoch 10: 100%|██████████| 209/209 [00:01<00:00, 140.76batch/s, batch_accuracy=1, loss=0.0032]    \n"
     ]
    },
    {
     "name": "stdout",
     "output_type": "stream",
     "text": [
      "Evaluation results\n",
      "Accuracy: 0.7344\n",
      "Precision: 0.7259\n",
      "Recall: 0.8427\n",
      "F1: 0.7799\n",
      "AUC: 0.7200\n",
      "\n",
      "Experiment 4: Bag-of-Words with max_features 20000\n",
      "Prepare data...\n",
      "Train model...\n",
      "\n"
     ]
    },
    {
     "name": "stderr",
     "output_type": "stream",
     "text": [
      "Epoch 1: 100%|██████████| 209/209 [00:02<00:00, 85.67batch/s, batch_accuracy=0.714, loss=0.699] \n",
      "Epoch 2: 100%|██████████| 209/209 [00:01<00:00, 115.22batch/s, batch_accuracy=0.857, loss=0.612]\n",
      "Epoch 3: 100%|██████████| 209/209 [00:01<00:00, 114.12batch/s, batch_accuracy=1, loss=0.198]    \n",
      "Epoch 4: 100%|██████████| 209/209 [00:01<00:00, 114.95batch/s, batch_accuracy=1, loss=0.265]     \n",
      "Epoch 5: 100%|██████████| 209/209 [00:01<00:00, 112.03batch/s, batch_accuracy=1, loss=0.0227]    \n",
      "Epoch 6: 100%|██████████| 209/209 [00:01<00:00, 109.41batch/s, batch_accuracy=1, loss=0.0613]    \n",
      "Epoch 7: 100%|██████████| 209/209 [00:01<00:00, 106.49batch/s, batch_accuracy=1, loss=0.00408]   \n",
      "Epoch 8: 100%|██████████| 209/209 [00:01<00:00, 106.60batch/s, batch_accuracy=1, loss=0.00673]   \n",
      "Epoch 9: 100%|██████████| 209/209 [00:02<00:00, 97.45batch/s, batch_accuracy=1, loss=0.000897]   \n",
      "Epoch 10: 100%|██████████| 209/209 [00:01<00:00, 111.53batch/s, batch_accuracy=1, loss=0.107]     \n"
     ]
    },
    {
     "name": "stdout",
     "output_type": "stream",
     "text": [
      "Evaluation results\n",
      "Accuracy: 0.7273\n",
      "Precision: 0.7471\n",
      "Recall: 0.7736\n",
      "F1: 0.7601\n",
      "AUC: 0.7211\n",
      "\n",
      "Experiment 5: Bag-of-Words with max_features 50000\n",
      "Prepare data...\n",
      "Train model...\n",
      "\n"
     ]
    },
    {
     "name": "stderr",
     "output_type": "stream",
     "text": [
      "Epoch 1: 100%|██████████| 209/209 [00:04<00:00, 49.28batch/s, batch_accuracy=0.714, loss=0.631]\n",
      "Epoch 2: 100%|██████████| 209/209 [00:03<00:00, 57.18batch/s, batch_accuracy=1, loss=0.145]    \n",
      "Epoch 3: 100%|██████████| 209/209 [00:03<00:00, 59.71batch/s, batch_accuracy=0.857, loss=0.461]\n",
      "Epoch 4: 100%|██████████| 209/209 [00:03<00:00, 59.06batch/s, batch_accuracy=1, loss=0.209]     \n",
      "Epoch 5: 100%|██████████| 209/209 [00:03<00:00, 63.58batch/s, batch_accuracy=1, loss=0.00215]   \n",
      "Epoch 6: 100%|██████████| 209/209 [00:03<00:00, 63.57batch/s, batch_accuracy=1, loss=0.00718]   \n",
      "Epoch 7: 100%|██████████| 209/209 [00:03<00:00, 63.87batch/s, batch_accuracy=1, loss=5.2e-6]    \n",
      "Epoch 8: 100%|██████████| 209/209 [00:03<00:00, 61.70batch/s, batch_accuracy=1, loss=0.00919]   \n",
      "Epoch 9: 100%|██████████| 209/209 [00:03<00:00, 60.63batch/s, batch_accuracy=1, loss=0.000508]  \n",
      "Epoch 10: 100%|██████████| 209/209 [00:03<00:00, 63.05batch/s, batch_accuracy=1, loss=0.00249]    \n"
     ]
    },
    {
     "name": "stdout",
     "output_type": "stream",
     "text": [
      "Evaluation results\n",
      "Accuracy: 0.7261\n",
      "Precision: 0.7301\n",
      "Recall: 0.8084\n",
      "F1: 0.7673\n",
      "AUC: 0.7152\n",
      "\n"
     ]
    }
   ],
   "source": [
    "max_features = [1000, 5000, 10000, 20000, 50000]\n",
    "models_dir = Path(str(PARENT_DIR) + '/models/feature_engineering')\n",
    "if not models_dir.exists():\n",
    "    models_dir.mkdir(parents=True, exist_ok=True)\n",
    "    \n",
    "for i in range(len(max_features)):\n",
    "    print(f\"Experiment {i+1}: Bag-of-Words with max_features {max_features[i]}\")\n",
    "    \n",
    "    # Encode\n",
    "    print(\"Prepare data...\")\n",
    "    bow_vectorizer = CountVectorizer(max_features=max_features[i])\n",
    "    bow_vectorizer.fit(train_raw.texts)\n",
    "    \n",
    "    train_data_nn = encode_data(train_raw, bow_vectorizer)\n",
    "    test_data_nn = encode_data(test_raw, bow_vectorizer)\n",
    "    \n",
    "    dataloader = DataLoader(train_data_nn, batch_size=128, shuffle=True)\n",
    "    \n",
    "    # Train\n",
    "    print(\"Train model...\")\n",
    "    model_nn = NeuralNetwork(input_size=len(bow_vectorizer.vocabulary_), hidden_size=128, device=\"cuda\")\n",
    "    model_nn.fit(dataloader, train_config, disable_progress_bar=False)\n",
    "    \n",
    "    save_model(model_nn, models_dir, f\"model_bow_max_features_{max_features[i]}.pt\")\n",
    "    \n",
    "    # Test\n",
    "    with torch.no_grad():\n",
    "        X_test = torch.stack([test[0] for test in test_data_nn]).to(model_nn.device)\n",
    "        y_test = torch.stack([test[1] for test in test_data_nn]).to(model_nn.device)\n",
    "        y_pred = model_nn.predict(X_test)\n",
    "    \n",
    "    # Evaluate\n",
    "    y_test = y_test.cpu()\n",
    "    y_pred = y_pred.cpu()\n",
    "    print(\"Evaluation results\")\n",
    "    \n",
    "    accuracy = accuracy_score(y_test, y_pred)\n",
    "    print(f\"Accuracy: {accuracy:.4f}\")\n",
    "    \n",
    "    precision, recall, fscore, _ = precision_recall_fscore_support(y_test, y_pred, average='binary')\n",
    "    print(f\"Precision: {precision:.4f}\")\n",
    "    print(f\"Recall: {recall:.4f}\")\n",
    "    print(f\"F1: {fscore:.4f}\")\n",
    "    \n",
    "    auc = roc_auc_score(y_test, y_pred)\n",
    "    print(f\"AUC: {auc:.4f}\")\n",
    "    print()"
   ]
  }
 ],
 "metadata": {
  "kernelspec": {
   "display_name": "Python 3 (ipykernel)",
   "language": "python",
   "name": "python3"
  },
  "language_info": {
   "codemirror_mode": {
    "name": "ipython",
    "version": 3
   },
   "file_extension": ".py",
   "mimetype": "text/x-python",
   "name": "python",
   "nbconvert_exporter": "python",
   "pygments_lexer": "ipython3",
   "version": "3.11.5"
  }
 },
 "nbformat": 4,
 "nbformat_minor": 5
}
