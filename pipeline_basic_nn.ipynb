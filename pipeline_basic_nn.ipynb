{
 "cells": [
  {
   "cell_type": "code",
   "execution_count": 5,
   "metadata": {},
   "outputs": [],
   "source": [
    "# Load packages\n",
    "import torch\n",
    "from sklearn.feature_extraction.text import TfidfVectorizer\n",
    "from models import NeuralNetwork, evaluate_model, TrainConfig\n",
    "from utils import load_data, split_data, create_dataset\n",
    "\n",
    "if torch.cuda.is_available():\n",
    "    print(\"GPU:\", torch.cuda.get_device_name())"
   ]
  },
  {
   "cell_type": "markdown",
   "metadata": {},
   "source": [
    "**Overview of the flow:**\n",
    "1. Load the raw data in to a RawParliamentData object containing (text ID, speaker ID, text, label)\n",
    "2. Split the raw data into train, dev, test datasets. Data is split so that speakers in each set does not appear in another set.\n",
    "3. Prepare a TfidfVectorizer. Fit the vectorizer on the train set, and use it to transform all train, dev, test sets. Use the `create_dataset()` function on the RawParliamentData objects, and supply the fitted encoder so that the same trained encoder is used on all sets.\n",
    "4. Run the `train_neural_network()` function.\n",
    "\n",
    "**To test different types of train-dev-test sets:**\n",
    "If you want to use some countries as the **train set**, and some other countries as the **dev & test set**, you will need to load the train, dev, test countries separately. For example: \n",
    "\n",
    "```python\n",
    "train_raw = load_data(folder_path=\"data/power/\", file_list=['power-gb-train.tsv',],text_head='text_en')\n",
    "dev_raw = load_data(folder_path=\"data/power/\", file_list=['power-ua-train.tsv',],text_head='text_en')\n",
    "test_raw = load_data(folder_path=\"data/power/\", file_list=['power-cz-train.tsv',],text_head='text_en')\n",
    "```"
   ]
  },
  {
   "cell_type": "code",
   "execution_count": 6,
   "metadata": {},
   "outputs": [
    {
     "name": "stdout",
     "output_type": "stream",
     "text": [
      "Load power-gb-train.tsv...\n",
      "Load power-ua-train.tsv...\n"
     ]
    }
   ],
   "source": [
    "\n",
    "#%%\n",
    "file_list = [\n",
    "    'power-gb-train.tsv',\n",
    "    'power-ua-train.tsv'\n",
    "]\n",
    "\n",
    "full_data = load_data(folder_path=\"data/power/\", file_list=file_list,text_head='text_en')\n",
    "train_dev_raw, test_raw = split_data(full_data, test_size=0.2, random_state=0)\n",
    "train_raw, dev_raw = split_data(train_dev_raw, test_size=0.2, random_state=0)\n"
   ]
  },
  {
   "cell_type": "code",
   "execution_count": 7,
   "metadata": {},
   "outputs": [
    {
     "name": "stdout",
     "output_type": "stream",
     "text": [
      "Prepare data encoder...\n",
      "Prepare data...\n"
     ]
    }
   ],
   "source": [
    "\n",
    "#%%\n",
    "print(\"Prepare data encoder...\")\n",
    "train_encoder = TfidfVectorizer(sublinear_tf=True, analyzer=\"char\", ngram_range=(1,3))\n",
    "train_encoder.fit(train_raw.texts_)\n",
    "\n",
    "print(\"Prepare data...\")\n",
    "train_dataset = create_dataset(train_raw, train_encoder)\n",
    "dev_dataset = create_dataset(dev_raw, train_encoder)\n",
    "test_dataset = create_dataset(test_raw, train_encoder)\n"
   ]
  },
  {
   "cell_type": "markdown",
   "metadata": {},
   "source": [
    "Train model.\n",
    "If you use Google Colab or your machine has a CUDA-supported graphic card, you can try setting `device='cuda'`"
   ]
  },
  {
   "cell_type": "code",
   "execution_count": 10,
   "metadata": {},
   "outputs": [
    {
     "name": "stderr",
     "output_type": "stream",
     "text": [
      "Epoch 1: 100%|██████████| 222/222 [00:02<00:00, 84.36batch/s]\n",
      "Epoch 2: 100%|██████████| 222/222 [00:02<00:00, 75.60batch/s]\n",
      "Epoch 3: 100%|██████████| 222/222 [00:02<00:00, 78.64batch/s]\n",
      "Epoch 4: 100%|██████████| 222/222 [00:02<00:00, 80.35batch/s]\n",
      "Epoch 5: 100%|██████████| 222/222 [00:02<00:00, 76.70batch/s]\n",
      "Epoch 6: 100%|██████████| 222/222 [00:02<00:00, 80.74batch/s]\n",
      "Epoch 7: 100%|██████████| 222/222 [00:02<00:00, 83.46batch/s]\n"
     ]
    },
    {
     "name": "stdout",
     "output_type": "stream",
     "text": [
      "Validation loss did not improve for 5 epochs. Stopping early.\n"
     ]
    },
    {
     "data": {
      "text/plain": [
       "NeuralNetwork(\n",
       "  (fc1): Linear(in_features=32187, out_features=64, bias=True)\n",
       "  (relu): ReLU()\n",
       "  (fc2): Linear(in_features=64, out_features=2, bias=True)\n",
       ")"
      ]
     },
     "execution_count": 10,
     "metadata": {},
     "output_type": "execute_result"
    }
   ],
   "source": [
    "train_config = TrainConfig(\n",
    "    batch_size      = 128,\n",
    "    num_epochs      = 20,\n",
    "    early_stop      = True,\n",
    "    violation_limit = 5\n",
    ")\n",
    "\n",
    "model = NeuralNetwork(\n",
    "    input_size=len(train_encoder.vocabulary_),\n",
    "    num_classes=2,\n",
    "    hidden_size=64,\n",
    "    device='cpu'\n",
    ")\n",
    "\n",
    "model.fit(\n",
    "    train_dataset   = train_dataset,\n",
    "    dev_dataset     = dev_dataset,\n",
    "    train_config    = train_config\n",
    ")\n"
   ]
  },
  {
   "cell_type": "markdown",
   "metadata": {},
   "source": [
    "Check model's final performance"
   ]
  },
  {
   "cell_type": "code",
   "execution_count": 11,
   "metadata": {},
   "outputs": [
    {
     "name": "stdout",
     "output_type": "stream",
     "text": [
      "0.7274233867150233 0.7233966798943638 0.7245857594048347\n"
     ]
    }
   ],
   "source": [
    "precision, recall, f1 = evaluate_model(model, test_dataset)\n",
    "print(precision, recall, f1)\n",
    "\n"
   ]
  },
  {
   "cell_type": "code",
   "execution_count": null,
   "metadata": {},
   "outputs": [],
   "source": []
  }
 ],
 "metadata": {
  "kernelspec": {
   "display_name": "power-identification",
   "language": "python",
   "name": "python3"
  },
  "language_info": {
   "codemirror_mode": {
    "name": "ipython",
    "version": 3
   },
   "file_extension": ".py",
   "mimetype": "text/x-python",
   "name": "python",
   "nbconvert_exporter": "python",
   "pygments_lexer": "ipython3",
   "version": "3.11.5"
  }
 },
 "nbformat": 4,
 "nbformat_minor": 2
}
