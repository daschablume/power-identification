{
  "cells": [
    {
      "cell_type": "markdown",
      "metadata": {
        "id": "5EolzpPTBU2C"
      },
      "source": [
        "# Case Study: CNN for text classification\n",
        "\n",
        "\n",
        "\n",
        "To illustrate the process of re-implmenting a pipeline\n",
        "\n",
        "[Large Movie Review Dataset](https://ai.stanford.edu/~amaas/data/sentiment/)\n",
        "\n",
        "Andrew L. Maas, Raymond E. Daly, Peter T. Pham, Dan Huang, Andrew Y. Ng, and Christopher Potts. (2011). \"*Learning Word Vectors for Sentiment Analysis.*\" The 49th Annual Meeting of the Association for Computational Linguistics (ACL 2011).\n",
        "\n",
        "Yoon Kim. \"[*Convolutional Neural Networks for Sentence Classification*](https://arxiv.org/abs/1408.5882).\" arXiv. 2014.\n",
        "\n",
        "\n",
        "\n",
        "\n",
        "\n"
      ]
    },
    {
      "cell_type": "code",
      "execution_count": 14,
      "metadata": {
        "colab": {
          "base_uri": "https://localhost:8080/"
        },
        "id": "Q1U1kcW1BC9D",
        "outputId": "4fe6e2fd-885e-47d3-e145-7996c84a9a38"
      },
      "outputs": [
        {
          "name": "stdout",
          "output_type": "stream",
          "text": [
            "Device: cpu\n"
          ]
        }
      ],
      "source": [
        "import os.path\n",
        "import torch\n",
        "import torch.nn as nn\n",
        "from tqdm import tqdm\n",
        "import numpy as np\n",
        "\n",
        "if torch.cuda.is_available():\n",
        "  device = torch.device(\"cuda\")\n",
        "  for i in range(torch.cuda.device_count()):\n",
        "    print(torch.cuda.get_device_name(i))\n",
        "else:\n",
        "  device = torch.device(\"cpu\")\n",
        "print(\"Device:\", device)"
      ]
    },
    {
      "cell_type": "markdown",
      "metadata": {
        "id": "HHUqUIsXcN0C"
      },
      "source": [
        "Loading the data set"
      ]
    },
    {
      "cell_type": "code",
      "execution_count": 3,
      "metadata": {
        "colab": {
          "base_uri": "https://localhost:8080/"
        },
        "id": "GzGTee0-_ous",
        "outputId": "51d52264-c4a3-4db8-ade8-fb8c718ffbe2"
      },
      "outputs": [
        {
          "name": "stdout",
          "output_type": "stream",
          "text": [
            "  % Total    % Received % Xferd  Average Speed   Time    Time     Time  Current\n",
            "                                 Dload  Upload   Total   Spent    Left  Speed\n",
            "100 80.2M  100 80.2M    0     0  2954k      0  0:00:27  0:00:27 --:--:-- 3386k     0  0:00:34  0:00:15  0:00:19 4737k2k\n",
            "tar: Option --skip-old-files is not supported\n",
            "Usage:\n",
            "  List:    tar -tf <archive-filename>\n",
            "  Extract: tar -xf <archive-filename>\n",
            "  Create:  tar -cf <archive-filename> [filenames...]\n",
            "  Help:    tar --help\n",
            "ls: aclImdb/: No such file or directory\n"
          ]
        }
      ],
      "source": [
        "!curl https://ai.stanford.edu/~amaas/data/sentiment/aclImdb_v1.tar.gz -o aclImdb_v1.tar.gz\n"
      ]
    },
    {
      "cell_type": "code",
      "execution_count": 4,
      "metadata": {},
      "outputs": [
        {
          "name": "stdout",
          "output_type": "stream",
          "text": [
            "README      imdb.vocab  imdbEr.txt  \u001b[34mtest\u001b[m\u001b[m/       \u001b[34mtrain\u001b[m\u001b[m/\n"
          ]
        }
      ],
      "source": [
        "\n",
        "!tar zxf aclImdb_v1.tar.gz\n",
        "!ls aclImdb/"
      ]
    },
    {
      "cell_type": "code",
      "execution_count": 15,
      "metadata": {
        "colab": {
          "base_uri": "https://localhost:8080/"
        },
        "id": "RarqYUzd6kcH",
        "outputId": "8862f4b9-4028-4b7c-d08c-916d130b4542"
      },
      "outputs": [
        {
          "name": "stdout",
          "output_type": "stream",
          "text": [
            "1 : For a movie that gets no respect there sure are a lot of memorable quotes listed for this gem. Imagi\n",
            "1 : Bizarre horror movie filled with famous faces but stolen by Cristina Raines (later of TV's \"Flamingo\n",
            "1 : A solid, if unremarkable film. Matthau, as Einstein, was wonderful. My favorite part, and the only t\n",
            "0 : I still can't believe this movie. They got so much unbelievable things in it, that it's hard to beli\n",
            "0 : I saw this film for the first time not too long on TCM's \"Essentials\" series. The eye of the beholde\n",
            "0 : The world may have ended. Unfortunately this film survived as yet another testament to Canada's inab\n"
          ]
        }
      ],
      "source": [
        "class PolarityDataset(torch.utils.data.Dataset):\n",
        "  def __init__(self, positive_dir, negative_dir, transform=None):\n",
        "    assert os.path.exists(positive_dir) and os.path.isdir(positive_dir)\n",
        "    self._sourcefiles = [os.path.join(positive_dir, fn) for fn in os.listdir(positive_dir) if fn.endswith(\".txt\")]\n",
        "    self._labels = [1]*len(self._sourcefiles)\n",
        "    assert os.path.exists(negative_dir) and os.path.isdir(negative_dir)\n",
        "    self._sourcefiles.extend([os.path.join(negative_dir, fn) for fn in os.listdir(negative_dir) if fn.endswith(\".txt\")])\n",
        "    self._labels.extend([0]*(len(self._sourcefiles)-len(self._labels)))\n",
        "    for fn in self._sourcefiles:\n",
        "      assert os.path.exists(fn), \"%s is missing\" % fn\n",
        "    self._transform = transform\n",
        "\n",
        "  def __len__(self):\n",
        "    return len(self._sourcefiles)\n",
        "\n",
        "  def __getitem__(self, idx):\n",
        "    if torch.is_tensor(idx):\n",
        "      idx = idx.tolist()\n",
        "    with open(self._sourcefiles[idx], 'r') as f:\n",
        "      ret = {'text': f.read(), \n",
        "             'label': self._labels[idx]}\n",
        "    if self._transform:\n",
        "      ret = self._transform(ret)\n",
        "    return ret\n",
        "\n",
        "training_data = PolarityDataset(positive_dir=\"aclImdb/train/pos/\", \n",
        "                                negative_dir=\"aclImdb/train/neg/\")\n",
        "\n",
        "for i in [0, 1, 2, 24000, 24001, 24002]:\n",
        "  print(training_data[i]['label'], \":\", training_data[i]['text'][:100])"
      ]
    },
    {
      "cell_type": "code",
      "execution_count": 36,
      "metadata": {},
      "outputs": [
        {
          "data": {
            "text/plain": [
              "{'text': tensor([15274, 11663, 37234, 38026, 74206, 50273, 69607, 15510,  2679,  8028,\n",
              "         11663, 25788, 11353, 65960, 22481, 56497, 15274, 52177, 34528, 65523,\n",
              "         66307, 11663, 37234, 46056,  4821, 62870,  6936, 28130, 34220, 35862,\n",
              "          2083, 22583,  6936, 11663,  8855, 28247, 65523, 40094,  4716, 32440,\n",
              "          6936,   550, 49947, 42118, 65523, 21585, 15274, 22822, 23390, 40094,\n",
              "         39161, 23390, 63815,  2132, 65523, 67192, 11663, 50953,  5916, 65523]),\n",
              " 'label': tensor([1])}"
            ]
          },
          "execution_count": 36,
          "metadata": {},
          "output_type": "execute_result"
        }
      ],
      "source": [
        "training_data[0]"
      ]
    },
    {
      "cell_type": "markdown",
      "metadata": {
        "id": "9BYFgGwjdJEN"
      },
      "source": [
        "Create vocabulary"
      ]
    },
    {
      "cell_type": "code",
      "execution_count": 17,
      "metadata": {
        "colab": {
          "base_uri": "https://localhost:8080/"
        },
        "id": "sCRyRnCPdJKG",
        "outputId": "800ea50a-2cb6-42f3-ee3b-007c4843847a"
      },
      "outputs": [
        {
          "name": "stdout",
          "output_type": "stream",
          "text": [
            "Loading training data...done\n",
            "Loading test data...done\n",
            "Found 104339 tokens in the dataset\n"
          ]
        }
      ],
      "source": [
        "from nltk.tokenize import wordpunct_tokenize\n",
        "\n",
        "class Tokenize(object):\n",
        "    def __call__(self, data):\n",
        "        text, label = data['text'], data['label']\n",
        "        return {'text': [word.lower() for word in wordpunct_tokenize(text)],\n",
        "                'label': label}\n",
        "\n",
        "training_data = PolarityDataset(positive_dir=\"aclImdb/train/pos/\", \n",
        "                                negative_dir=\"aclImdb/train/neg/\",\n",
        "                                transform=Tokenize())\n",
        "test_data = PolarityDataset(positive_dir=\"aclImdb/test/pos/\", \n",
        "                            negative_dir=\"aclImdb/test/neg/\",\n",
        "                            transform=Tokenize())\n",
        "\n",
        "print(\"Loading training data...\", end=\"\")\n",
        "dataset_vocab = set()\n",
        "for sample in training_data:\n",
        "  sample_tokens = set(sample['text'])\n",
        "  dataset_vocab.update(sample_tokens)\n",
        "print(\"done\")\n",
        "\n",
        "print(\"Loading test data...\", end=\"\")\n",
        "for sample in test_data:\n",
        "  sample_tokens = set(sample['text'])\n",
        "  dataset_vocab.update(sample_tokens)\n",
        "print(\"done\")\n",
        "\n",
        "print(\"Found %i tokens in the dataset\" % len(dataset_vocab))"
      ]
    },
    {
      "cell_type": "markdown",
      "metadata": {
        "id": "xY73LU6XbFxI"
      },
      "source": [
        "## Word embedding\n",
        "\n",
        "We need a word embedding"
      ]
    },
    {
      "cell_type": "code",
      "execution_count": 19,
      "metadata": {
        "colab": {
          "base_uri": "https://localhost:8080/"
        },
        "id": "yMShKdhDbGJK",
        "outputId": "c1637da6-fed2-4c18-d447-5548f5bcbb6c"
      },
      "outputs": [],
      "source": [
        "# from google.colab import drive\n",
        "\n",
        "# drive.mount('/content/drive')\n",
        "# base = \"\"\"/content/drive/MyDrive/GloVe\"\"\"\n",
        "# assert os.path.exists(base)\n"
      ]
    },
    {
      "cell_type": "code",
      "execution_count": 7,
      "metadata": {},
      "outputs": [],
      "source": [
        "\n",
        "!mkdir .vector_cache\n",
        "# !cp /content/drive/MyDrive/GloVe/glove.6B.zip .vector_cache\n",
        "!ln -s data/glove.6B.zip .vector_cache"
      ]
    },
    {
      "cell_type": "code",
      "execution_count": 20,
      "metadata": {
        "id": "3pv7EtNybCTE"
      },
      "outputs": [],
      "source": [
        "from torchtext.vocab import GloVe\n",
        "glove = GloVe(name='6B', dim=100)"
      ]
    },
    {
      "cell_type": "code",
      "execution_count": 23,
      "metadata": {
        "colab": {
          "base_uri": "https://localhost:8080/",
          "height": 589
        },
        "id": "gglp6ovoaofn",
        "outputId": "1465afb5-6dde-4753-cfb4-6a6605fdcfa5"
      },
      "outputs": [
        {
          "name": "stdout",
          "output_type": "stream",
          "text": [
            "400000 words in GloVe\n",
            "104339 words in the dataset\n",
            "75862 overlapping words\n"
          ]
        },
        {
          "data": {
            "image/png": "[encoded data removed]",
            "text/plain": [
              "<Figure size 600x600 with 1 Axes>"
            ]
          },
          "metadata": {},
          "output_type": "display_data"
        }
      ],
      "source": [
        "print(\"%i words in GloVe\" % len(glove.itos))\n",
        "print(\"%i words in the dataset\" % len(dataset_vocab))\n",
        "print(\"%i overlapping words\" % len(dataset_vocab.intersection(set(glove.itos))))\n",
        "\n",
        "import matplotlib.pyplot as plt\n",
        "from scipy.optimize import minimize_scalar\n",
        "\n",
        "a = np.linspace(0, 2*np.pi, 100)\n",
        "r1 = np.sqrt(len(glove.itos)/np.pi)\n",
        "r2 = np.sqrt(len(dataset_vocab)/np.pi)\n",
        "A = np.random.uniform(-r2, r2, size=(int(1000*(4/np.pi)), 2))\n",
        "A = A[np.sqrt(np.sum(A**2, axis=1))<=r2, :]\n",
        "p  = len(dataset_vocab.intersection(set(glove.itos)))/len(dataset_vocab)\n",
        "def f(d):\n",
        "  B = A.copy()\n",
        "  B[:, 1] += d\n",
        "  return np.abs(p-np.sum(np.sqrt(np.sum(B**2, axis=1))<=r1)/B.shape[0])\n",
        "d = minimize_scalar(f, bounds=(r1-r2, r1+r2), method='bounded').x\n",
        "\n",
        "plt.figure(figsize=(4, 4), dpi=150)\n",
        "plt.plot(r1*np.cos(a), r1*np.sin(a))\n",
        "plt.text(0, 0, \"GloVe\", fontsize=14, horizontalalignment='center', verticalalignment='center')\n",
        "plt.plot(d+r2*np.cos(a), r2*np.sin(a))\n",
        "plt.text(d, 0, \"Dataset\", fontsize=14, horizontalalignment='center', verticalalignment='center')\n",
        "# A[:, 0] += d\n",
        "# plt.scatter(A[:, 0], A[:, 1], s=3, c=np.sqrt(np.sum(A**2, axis=1))<=r1, marker='.', cmap='tab10')\n",
        "plt.title(\"Vocabularies\")\n",
        "plt.xticks([])\n",
        "plt.yticks([])\n",
        "plt.axis('equal')\n",
        "plt.show()"
      ]
    },
    {
      "cell_type": "markdown",
      "metadata": {
        "id": "A-mFGsHydG3A"
      },
      "source": [
        "The dataset vocabulary does not overlap completely with the embedding vocabulary. "
      ]
    },
    {
      "cell_type": "code",
      "execution_count": 24,
      "metadata": {
        "colab": {
          "base_uri": "https://localhost:8080/"
        },
        "id": "4nEq99_zjdTD",
        "outputId": "07188dde-b042-4ab7-9f50-ee0aa2456d01"
      },
      "outputs": [
        {
          "data": {
            "text/plain": [
              "Embedding(75864, 100)"
            ]
          },
          "execution_count": 24,
          "metadata": {},
          "output_type": "execute_result"
        }
      ],
      "source": [
        "embedding_vocab = dataset_vocab.intersection(set(glove.itos))\n",
        "\n",
        "idx2token = ['<UNK>', '<PAD>']\n",
        "idx2token.extend(embedding_vocab)\n",
        "\n",
        "token2idx = {w:i for i, w in enumerate(idx2token)}\n",
        "\n",
        "glove.unk_init = lambda _: torch.zeros(glove.dim)\n",
        "embedding_vectors = torch.stack([glove[w] for w in idx2token])\n",
        "\n",
        "embedding = nn.Embedding(num_embeddings=embedding_vectors.size(0), \n",
        "                         embedding_dim=embedding_vectors.size(1),\n",
        "                         padding_idx=token2idx['<PAD>']).from_pretrained(embedding_vectors)\n",
        "embedding"
      ]
    },
    {
      "cell_type": "code",
      "execution_count": 25,
      "metadata": {
        "colab": {
          "base_uri": "https://localhost:8080/"
        },
        "id": "tYSFS-VyX9Zg",
        "outputId": "c2c213e6-42ea-4cfb-bfe6-5d659a8205f6"
      },
      "outputs": [
        {
          "name": "stdout",
          "output_type": "stream",
          "text": [
            "{'text': tensor([15274, 11663, 37234, 38026, 74206, 50273, 69607, 15510,  2679,  8028,\n",
            "        11663, 25788, 11353, 65960, 22481, 56497, 15274, 52177, 34528, 65523,\n",
            "        66307, 11663, 37234, 46056,  4821, 62870,  6936, 28130, 34220, 35862,\n",
            "         2083, 22583,  6936, 11663,  8855, 28247, 65523, 40094,  4716, 32440,\n",
            "         6936,   550, 49947, 42118, 65523, 21585, 15274, 22822, 23390, 40094,\n",
            "        39161, 23390, 63815,  2132, 65523, 67192, 11663, 50953,  5916, 65523]), 'label': tensor([1])}\n"
          ]
        }
      ],
      "source": [
        "class Encode(object):\n",
        "  def __init__(self, token2idx):\n",
        "    self._token2idx = token2idx\n",
        "    self._vocab = set(token2idx.keys())\n",
        "\n",
        "  def __call__(self, data):\n",
        "    tokens, label = data['text'], data['label']\n",
        "    tokens = [token if token in embedding_vocab else '<UNK>' for token in tokens]\n",
        "    encoded = [token2idx[token] for token in tokens]\n",
        "    return {'text': encoded,\n",
        "            'label': label}\n",
        "\n",
        "class ToTensor(object):\n",
        "    def __call__(self, data):\n",
        "        text, label = data['text'], data['label']\n",
        "        return {'text': torch.LongTensor(text),\n",
        "                'label': torch.LongTensor([label])}\n",
        "\n",
        "from torchvision import transforms\n",
        "\n",
        "training_data = PolarityDataset(positive_dir=\"aclImdb/train/pos/\", \n",
        "                                negative_dir=\"aclImdb/train/neg/\",\n",
        "                                transform=transforms.Compose([Tokenize(), \n",
        "                                                              Encode(token2idx),\n",
        "                                                              ToTensor()]))\n",
        "print(training_data[0])"
      ]
    },
    {
      "cell_type": "code",
      "execution_count": 26,
      "metadata": {
        "colab": {
          "base_uri": "https://localhost:8080/"
        },
        "id": "V0GbmgWIDLoT",
        "outputId": "6a337865-28fd-415c-f224-850be37719f7"
      },
      "outputs": [
        {
          "data": {
            "text/plain": [
              "{'label': tensor([0, 1, 0, 1, 0, 0, 0, 1, 1, 1, 0, 1, 0, 1, 1, 1, 0, 0, 0, 1, 0, 0, 0, 1,\n",
              "         1, 0, 1, 0, 1, 1, 1, 1, 0, 0, 0, 0, 0, 0, 1, 0, 0, 1, 1, 1, 0, 1, 0, 1,\n",
              "         1, 0, 0, 0, 0, 0, 1, 0, 0, 0, 0, 0, 1, 0, 1, 1]),\n",
              " 'text': tensor([[46247,  7188, 52177,  ...,     1,     1,     1],\n",
              "         [17164, 46247, 54246,  ...,     1,     1,     1],\n",
              "         [40094, 62536, 11614,  ...,     1,     1,     1],\n",
              "         ...,\n",
              "         [52177,  6936, 40094,  ...,     1,     1,     1],\n",
              "         [12280, 35862, 44396,  ...,     1,     1,     1],\n",
              "         [46247,  7188, 38026,  ...,     1,     1,     1]])}"
            ]
          },
          "execution_count": 26,
          "metadata": {},
          "output_type": "execute_result"
        }
      ],
      "source": [
        "def collate_with_padding(batch):\n",
        "  ret = {'label': torch.cat([sample['label'] for sample in batch])}\n",
        "  max_length = np.max([sample['text'].size(0) for sample in batch])\n",
        "  vectors = list()\n",
        "  for sample in batch:\n",
        "    if sample['text'].size(0) < max_length:\n",
        "      vectors.append(torch.cat([sample['text'], torch.ones(max_length-sample['text'].size(0))*token2idx['<PAD>']]))\n",
        "    else:\n",
        "      vectors.append(sample['text'])\n",
        "  ret['text'] = torch.stack(vectors).long()\n",
        "  return ret\n",
        "\n",
        "dataloader = torch.utils.data.DataLoader(training_data, batch_size=64, shuffle=True, num_workers=0, collate_fn=collate_with_padding, pin_memory=True)\n",
        "d = list(dataloader)[0]\n",
        "d"
      ]
    },
    {
      "cell_type": "code",
      "execution_count": 29,
      "metadata": {
        "id": "-mhJGmAbAen-"
      },
      "outputs": [],
      "source": [
        "class ReviewPolarity(nn.Module):\n",
        "  def __init__(self, embedding, n_epochs=20, learning_rate=1, verbose=False):\n",
        "    \"\"\"\n",
        "    \"\"\"\n",
        "    super(ReviewPolarity, self).__init__()\n",
        "    self.n_epochs_ = n_epochs\n",
        "    self.verbose = verbose\n",
        "    # Define layers\n",
        "    self._embedding = embedding\n",
        "    self._conv3 = nn.Sequential(nn.Conv1d(self._embedding.embedding_dim, 100, kernel_size=3, padding=0),\n",
        "                                nn.ReLU(),\n",
        "                                nn.AdaptiveMaxPool1d(1))\n",
        "    self._conv4 = nn.Sequential(nn.Conv1d(self._embedding.embedding_dim, 100, kernel_size=4, padding=0),\n",
        "                                nn.ReLU(),\n",
        "                                nn.AdaptiveMaxPool1d(1))\n",
        "    self._conv5 = nn.Sequential(nn.Conv1d(self._embedding.embedding_dim, 100, kernel_size=5, padding=0),\n",
        "                                nn.ReLU(),\n",
        "                                nn.AdaptiveMaxPool1d(1))\n",
        "    self._dropout = nn.Dropout(0.5)\n",
        "    self._fc = nn.Sequential(nn.Linear(3*100, 2),\n",
        "                             nn.LogSoftmax(dim=1))\n",
        "    # Define optimiser and loss\n",
        "    self.learning_rate_ = learning_rate\n",
        "    self.optimizer_ = torch.optim.SGD(self.parameters(), lr=self.learning_rate_)\n",
        "    self.loss_function_ = nn.NLLLoss()\n",
        "    # For making nice plots\n",
        "    self.training_loss_ = list()\n",
        "    self.training_accuracy_ = list()\n",
        "    if torch.cuda.is_available():\n",
        "      self.cuda()\n",
        "\n",
        "\n",
        "  def forward(self, X):\n",
        "    # \"\"\"Forward pass, this is used for making predictions.\"\"\"\n",
        "    x = self._embedding(X)\n",
        "    x = x.transpose(1, 2)\n",
        "    c3 = self._conv3(x)\n",
        "    c4 = self._conv4(x)\n",
        "    c5 = self._conv5(x)\n",
        "    x = torch.cat([c3, c4, c5], dim=1)\n",
        "    x = x.view(x.size(0), -1)\n",
        "    x = self._dropout(x)\n",
        "    x = self._fc(x)\n",
        "    return x\n",
        "\n",
        "\n",
        "  def fit(self, X, y=None):\n",
        "    \"\"\"Train the model\"\"\"\n",
        "    # self._reset()\n",
        "    for epoch in range(self.n_epochs_):\n",
        "      if isinstance(X, torch.utils.data.dataloader.DataLoader):\n",
        "        for batch in tqdm(X, desc=\"Training epoch %i\" % epoch):\n",
        "          self._fit(batch['text'], batch['label'])\n",
        "      else:\n",
        "        self._fit(X, y)\n",
        "      if self.verbose:\n",
        "        if self.n_epochs_ < 50 or (epoch % 50) == 0:\n",
        "          print(\"Epoch %2i: Loss %.7f\" % (epoch, self._loss.item()))\n",
        "\n",
        "\n",
        "  def _fit(self, X, y):\n",
        "    \"\"\"A single step in the training\"\"\"\n",
        "    if torch.cuda.is_available():\n",
        "      X = X.cuda()\n",
        "      y = y.cuda()\n",
        "    self.zero_grad()              # Reset gradients\n",
        "    forward_pass_output = self(X) # Forward pass\n",
        "    self._loss = self.loss_function_(forward_pass_output, y) # Calculate loss\n",
        "    self._loss.backward()         # Backward pass\n",
        "    self.optimizer_.step()        # Run the optimizer one step\n",
        "    # Store values for user feedback\n",
        "    self.training_loss_.append(self._loss.item())\n",
        "    self.training_accuracy_.append(self.score(X, y))\n",
        "\n",
        "  def predict(self, X):\n",
        "    \"\"\"Predict labels\"\"\"\n",
        "    return np.asarray(np.argmax(self.predict_proba(X), axis=1), dtype=int)\n",
        "\n",
        "\n",
        "  def predict_proba(self, X):\n",
        "    \"\"\"Predict label probabilities\"\"\"\n",
        "    if torch.cuda.is_available():\n",
        "      X = X.cuda()\n",
        "    with torch.no_grad():         # Disable gradient calculations\n",
        "      model.eval()                # Disable dropout\n",
        "      x = self(X)                 # Forward pass without dropout\n",
        "      model.train()               # Enable dropout again, we need it during training\n",
        "    if torch.cuda.is_available():\n",
        "      x = x.cpu()\n",
        "    return np.exp(x.detach().numpy())\n",
        "\n",
        "\n",
        "  def score(self, X, y):\n",
        "    \"\"\"Get the accuracy of the model given the data\"\"\"\n",
        "    if torch.cuda.is_available():\n",
        "      y = y.cpu()\n",
        "    return np.sum(self.predict(X)==y.numpy())/len(y)\n",
        "\n",
        "model = ReviewPolarity(embedding=embedding, n_epochs=3, verbose=True, learning_rate=.1)"
      ]
    },
    {
      "cell_type": "code",
      "execution_count": 31,
      "metadata": {
        "colab": {
          "base_uri": "https://localhost:8080/"
        },
        "id": "9kJQDjjnm0n9",
        "outputId": "3101a9aa-6fe7-41a6-d99e-5b71dd1d1eda"
      },
      "outputs": [
        {
          "name": "stderr",
          "output_type": "stream",
          "text": [
            "Training epoch 0: 100%|██████████| 391/391 [11:41<00:00,  1.79s/it]\n"
          ]
        },
        {
          "name": "stdout",
          "output_type": "stream",
          "text": [
            "Epoch  0: Loss 0.5058340\n"
          ]
        },
        {
          "name": "stderr",
          "output_type": "stream",
          "text": [
            "Training epoch 1: 100%|██████████| 391/391 [11:22<00:00,  1.75s/it]\n"
          ]
        },
        {
          "name": "stdout",
          "output_type": "stream",
          "text": [
            "Epoch  1: Loss 0.5698333\n"
          ]
        },
        {
          "name": "stderr",
          "output_type": "stream",
          "text": [
            "Training epoch 2: 100%|██████████| 391/391 [11:36<00:00,  1.78s/it]"
          ]
        },
        {
          "name": "stdout",
          "output_type": "stream",
          "text": [
            "Epoch  2: Loss 0.3188598\n"
          ]
        },
        {
          "name": "stderr",
          "output_type": "stream",
          "text": [
            "\n"
          ]
        }
      ],
      "source": [
        "model.fit(dataloader)"
      ]
    },
    {
      "cell_type": "code",
      "execution_count": 32,
      "metadata": {
        "colab": {
          "base_uri": "https://localhost:8080/",
          "height": 279
        },
        "id": "VASRthlGs33o",
        "outputId": "dc7ed80a-04c7-412f-b85f-50df0483cb01"
      },
      "outputs": [
        {
          "name": "stderr",
          "output_type": "stream",
          "text": [
            "/var/folders/pz/72ft1hv95tj16jmz9ph1x0z40000gn/T/ipykernel_53774/2582740701.py:11: UserWarning: FigureCanvasAgg is non-interactive, and thus cannot be shown\n",
            "  fig.show()\n"
          ]
        },
        {
          "data": {
            "image/png": "[encoded data removed]",
            "text/plain": [
              "<Figure size 1600x400 with 2 Axes>"
            ]
          },
          "metadata": {},
          "output_type": "display_data"
        }
      ],
      "source": [
        "batches = int(np.ceil(len(training_data)/dataloader.batch_size))\n",
        "\n",
        "fig = plt.figure(figsize=(16, 4))\n",
        "ax = fig.subplots(1, 2)\n",
        "ax[0].plot(model.training_loss_)\n",
        "ax[0].set_ylabel(\"Loss\")\n",
        "ax[0].set_xlabel(\"Batch\")\n",
        "ax[1].plot(100*np.asarray(model.training_accuracy_))\n",
        "ax[1].set_ylabel(\"Accuracy\")\n",
        "ax[1].set_xlabel(\"Batch\")\n",
        "fig.show()"
      ]
    },
    {
      "cell_type": "code",
      "execution_count": 33,
      "metadata": {
        "colab": {
          "base_uri": "https://localhost:8080/"
        },
        "id": "DtL3Rt71gGFo",
        "outputId": "fbff9d55-a488-461a-ca47-843ce4b04e9e"
      },
      "outputs": [
        {
          "name": "stdout",
          "output_type": "stream",
          "text": [
            "torch.Size([75864, 100])\n",
            "torch.Size([100, 100, 3])\n",
            "torch.Size([100])\n",
            "torch.Size([100, 100, 4])\n",
            "torch.Size([100])\n",
            "torch.Size([100, 100, 5])\n",
            "torch.Size([100])\n",
            "torch.Size([2, 300])\n",
            "torch.Size([2])\n"
          ]
        }
      ],
      "source": [
        "for p in model.parameters():\n",
        "  print(p.shape)"
      ]
    },
    {
      "cell_type": "code",
      "execution_count": 34,
      "metadata": {
        "colab": {
          "base_uri": "https://localhost:8080/"
        },
        "id": "Wh9ixkTPiAhv",
        "outputId": "f490b467-34b0-46d8-a9ba-1cff0c9282d7"
      },
      "outputs": [
        {
          "name": "stderr",
          "output_type": "stream",
          "text": [
            "Calculating test set accuracy: 100%|██████████| 391/391 [05:28<00:00,  1.19it/s]"
          ]
        },
        {
          "name": "stdout",
          "output_type": "stream",
          "text": [
            "Test set accuracy is 82.4%\n"
          ]
        },
        {
          "name": "stderr",
          "output_type": "stream",
          "text": [
            "\n"
          ]
        }
      ],
      "source": [
        "test_data = PolarityDataset(positive_dir=\"aclImdb/test/pos/\", \n",
        "                            negative_dir=\"aclImdb/test/neg/\",\n",
        "                            transform=transforms.Compose([Tokenize(), \n",
        "                                                          Encode(token2idx),\n",
        "                                                          ToTensor()]))\n",
        "test_data_loader = torch.utils.data.DataLoader(test_data, batch_size=64, num_workers=0, \n",
        "                                               collate_fn=collate_with_padding)\n",
        "accuracy = np.average([model.score(batch['text'], batch['label']) for batch in tqdm(test_data_loader, desc=\"Calculating test set accuracy\")])\n",
        "print(\"Test set accuracy is %.1f%%\" % (100*accuracy))"
      ]
    }
  ],
  "metadata": {
    "accelerator": "GPU",
    "colab": {
      "collapsed_sections": [],
      "name": "Lecture 10 - CNN for text classification.ipynb",
      "provenance": []
    },
    "kernelspec": {
      "display_name": "Python 3",
      "name": "python3"
    },
    "language_info": {
      "codemirror_mode": {
        "name": "ipython",
        "version": 3
      },
      "file_extension": ".py",
      "mimetype": "text/x-python",
      "name": "python",
      "nbconvert_exporter": "python",
      "pygments_lexer": "ipython3",
      "version": "3.11.5"
    }
  },
  "nbformat": 4,
  "nbformat_minor": 0
}
