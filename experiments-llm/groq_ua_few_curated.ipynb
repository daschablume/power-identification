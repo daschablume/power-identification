{
 "cells": [
  {
   "cell_type": "markdown",
   "metadata": {},
   "source": [
    "Before staring working with groq, register on the website and receive your own unike API key. "
   ]
  },
  {
   "cell_type": "code",
   "execution_count": 1,
   "metadata": {},
   "outputs": [],
   "source": [
    "from groq_api import KEY\n",
    "from groq import Groq\n",
    "import numpy as np\n",
    "import pandas as pd\n",
    "from tqdm import tqdm\n",
    "\n",
    "import json\n",
    "\n",
    "CLIENT = Groq(api_key=KEY)\n",
    "PATH = 'data/power/power-ua-train.tsv'\n"
   ]
  },
  {
   "cell_type": "markdown",
   "metadata": {},
   "source": [
    "Read csv file as a pandas dataframe, set index to the index from the csv file, add \"prediction\" and \"reasoning\" columns.\n",
    "Lastly, shaffle the data (by sampling all the rows in random order), setting random state for reproducibility."
   ]
  },
  {
   "cell_type": "code",
   "execution_count": 2,
   "metadata": {},
   "outputs": [
    {
     "data": {
      "text/html": [
       "<div>\n",
       "<style scoped>\n",
       "    .dataframe tbody tr th:only-of-type {\n",
       "        vertical-align: middle;\n",
       "    }\n",
       "\n",
       "    .dataframe tbody tr th {\n",
       "        vertical-align: top;\n",
       "    }\n",
       "\n",
       "    .dataframe thead th {\n",
       "        text-align: right;\n",
       "    }\n",
       "</style>\n",
       "<table border=\"1\" class=\"dataframe\">\n",
       "  <thead>\n",
       "    <tr style=\"text-align: right;\">\n",
       "      <th></th>\n",
       "      <th>speaker</th>\n",
       "      <th>sex</th>\n",
       "      <th>text</th>\n",
       "      <th>text_en</th>\n",
       "      <th>label</th>\n",
       "      <th>prediction</th>\n",
       "      <th>reasoning</th>\n",
       "      <th>labeled_prediction</th>\n",
       "    </tr>\n",
       "    <tr>\n",
       "      <th>id</th>\n",
       "      <th></th>\n",
       "      <th></th>\n",
       "      <th></th>\n",
       "      <th></th>\n",
       "      <th></th>\n",
       "      <th></th>\n",
       "      <th></th>\n",
       "      <th></th>\n",
       "    </tr>\n",
       "  </thead>\n",
       "  <tbody>\n",
       "    <tr>\n",
       "      <th>ua05796</th>\n",
       "      <td>d18023ad9b6df26ee266bb01fc4c822a</td>\n",
       "      <td>M</td>\n",
       "      <td>Олександр Шевченко, фракція \"&lt;PARTY&gt;\". Ратифік...</td>\n",
       "      <td>Alexander Shevchenko, Freedom faction. Ratific...</td>\n",
       "      <td>1</td>\n",
       "      <td>NaN</td>\n",
       "      <td>NaN</td>\n",
       "      <td>NaN</td>\n",
       "    </tr>\n",
       "    <tr>\n",
       "      <th>ua07362</th>\n",
       "      <td>bea4118a3082afea430ffe03d4343b76</td>\n",
       "      <td>M</td>\n",
       "      <td>Шановний пане Голово, шановні колеги, дозвольт...</td>\n",
       "      <td>Dear Mr. Head, honourable colleagues, let me i...</td>\n",
       "      <td>0</td>\n",
       "      <td>NaN</td>\n",
       "      <td>NaN</td>\n",
       "      <td>NaN</td>\n",
       "    </tr>\n",
       "    <tr>\n",
       "      <th>ua10560</th>\n",
       "      <td>b07c8d09c03a6a3222057c300c84e9fe</td>\n",
       "      <td>M</td>\n",
       "      <td>Олег Купрієнко, &lt;PARTY&gt;. А ще порядок в Україн...</td>\n",
       "      <td>Oleg Kuprienko, Oleg Laska Radical Party. And ...</td>\n",
       "      <td>1</td>\n",
       "      <td>NaN</td>\n",
       "      <td>NaN</td>\n",
       "      <td>NaN</td>\n",
       "    </tr>\n",
       "    <tr>\n",
       "      <th>ua10327</th>\n",
       "      <td>93a1d11f680ed07b734319a5fae11cee</td>\n",
       "      <td>F</td>\n",
       "      <td>По-перше, що стосується військового госпіталю,...</td>\n",
       "      <td>First of all, it's about a military hospital i...</td>\n",
       "      <td>0</td>\n",
       "      <td>NaN</td>\n",
       "      <td>NaN</td>\n",
       "      <td>NaN</td>\n",
       "    </tr>\n",
       "    <tr>\n",
       "      <th>ua15066</th>\n",
       "      <td>e7d36da025052d2213a757d55deeb1d1</td>\n",
       "      <td>M</td>\n",
       "      <td>Шановна президія! Шановні народні депутати! Ре...</td>\n",
       "      <td>Honorable Predestination! Dear National Deputi...</td>\n",
       "      <td>0</td>\n",
       "      <td>NaN</td>\n",
       "      <td>NaN</td>\n",
       "      <td>NaN</td>\n",
       "    </tr>\n",
       "  </tbody>\n",
       "</table>\n",
       "</div>"
      ],
      "text/plain": [
       "                                  speaker sex  \\\n",
       "id                                              \n",
       "ua05796  d18023ad9b6df26ee266bb01fc4c822a   M   \n",
       "ua07362  bea4118a3082afea430ffe03d4343b76   M   \n",
       "ua10560  b07c8d09c03a6a3222057c300c84e9fe   M   \n",
       "ua10327  93a1d11f680ed07b734319a5fae11cee   F   \n",
       "ua15066  e7d36da025052d2213a757d55deeb1d1   M   \n",
       "\n",
       "                                                      text  \\\n",
       "id                                                           \n",
       "ua05796  Олександр Шевченко, фракція \"<PARTY>\". Ратифік...   \n",
       "ua07362  Шановний пане Голово, шановні колеги, дозвольт...   \n",
       "ua10560  Олег Купрієнко, <PARTY>. А ще порядок в Україн...   \n",
       "ua10327  По-перше, що стосується військового госпіталю,...   \n",
       "ua15066  Шановна президія! Шановні народні депутати! Ре...   \n",
       "\n",
       "                                                   text_en  label  prediction  \\\n",
       "id                                                                              \n",
       "ua05796  Alexander Shevchenko, Freedom faction. Ratific...      1         NaN   \n",
       "ua07362  Dear Mr. Head, honourable colleagues, let me i...      0         NaN   \n",
       "ua10560  Oleg Kuprienko, Oleg Laska Radical Party. And ...      1         NaN   \n",
       "ua10327  First of all, it's about a military hospital i...      0         NaN   \n",
       "ua15066  Honorable Predestination! Dear National Deputi...      0         NaN   \n",
       "\n",
       "         reasoning  labeled_prediction  \n",
       "id                                      \n",
       "ua05796        NaN                 NaN  \n",
       "ua07362        NaN                 NaN  \n",
       "ua10560        NaN                 NaN  \n",
       "ua10327        NaN                 NaN  \n",
       "ua15066        NaN                 NaN  "
      ]
     },
     "execution_count": 2,
     "metadata": {},
     "output_type": "execute_result"
    }
   ],
   "source": [
    "data = pd.read_csv(PATH, sep='\\t', index_col=0)\n",
    "# set object column dtype full of nans\n",
    "data['prediction'] = np.nan\n",
    "data['reasoning'] = np.nan\n",
    "data['labeled_prediction'] = np.nan\n",
    "data = data.sample(frac=1, random_state=42)\n",
    "data.head()\n"
   ]
  },
  {
   "cell_type": "code",
   "execution_count": 11,
   "metadata": {},
   "outputs": [
    {
     "name": "stdout",
     "output_type": "stream",
     "text": [
      "Size of data:  11324\n"
     ]
    }
   ],
   "source": [
    "print('Size of data: ', data.shape[0])"
   ]
  },
  {
   "cell_type": "markdown",
   "metadata": {},
   "source": [
    "In order to get examples for a few-shot learning, get a few inccorrectly classified answers from LLama and then provide the reasoning in those answers as a prompt to a model (I got those ids from groq_ua_few and made analysis outside of this notebook.)"
   ]
  },
  {
   "cell_type": "code",
   "execution_count": 3,
   "metadata": {},
   "outputs": [
    {
     "name": "stderr",
     "output_type": "stream",
     "text": [
      "/var/folders/tg/w5th396s1r146pfch3q10j180000gn/T/ipykernel_45700/1467728001.py:2: FutureWarning: Setting an item of incompatible dtype is deprecated and will raise in a future error of pandas. Value 'opposition' has dtype incompatible with float64, please explicitly cast to a compatible dtype first.\n",
      "  data.loc['ua05929', 'prediction'] = 'opposition'\n",
      "/var/folders/tg/w5th396s1r146pfch3q10j180000gn/T/ipykernel_45700/1467728001.py:7: FutureWarning: Setting an item of incompatible dtype is deprecated and will raise in a future error of pandas. Value 'The speaker is trying to persuade the majority to support Euro-integration laws and is emphasizing the importance of resolving key issues, including the release of Yulia Timoshenko. Since the speaker is opposing the \"majority\", it suggests that they are in the minority, in the opposition.' has dtype incompatible with float64, please explicitly cast to a compatible dtype first.\n",
      "  data.loc['ua05929', 'reasoning'] = 'The speaker is trying to persuade the majority to support Euro-integration laws and is emphasizing the importance of resolving key issues, including the release of Yulia Timoshenko. Since the speaker is opposing the \"majority\", it suggests that they are in the minority, in the opposition.'\n"
     ]
    }
   ],
   "source": [
    "curated_ids = ['ua05929', 'ua14412', 'ua15441', 'ua10563']\n",
    "data.loc['ua05929', 'prediction'] = 'opposition'\n",
    "data.loc['ua14412', 'prediction'] = 'coalition'\n",
    "data.loc['ua15441', 'prediction'] = 'coalition'\n",
    "data.loc['ua10563', 'prediction'] = 'opposition'\n",
    "\n",
    "data.loc['ua05929', 'reasoning'] = 'The speaker is trying to persuade the majority to support Euro-integration laws and is emphasizing the importance of resolving key issues, including the release of Yulia Timoshenko. Since the speaker is opposing the \"majority\", it suggests that they are in the minority, in the opposition.'\n",
    "data.loc['ua14412', 'reasoning'] = 'The speaker addresses a minister \"with respect\", the tone of his plea is heartful. He asks the minister to protect the Luhansk oblast from another bureacrat Mr. Pshik. Since he asks so politely, wants to be protected, and addresses the minister — a person in power — it suggests the speaker is from coalition party.'\n",
    "data.loc['ua15441', 'reasoning'] = 'The speaker addresses others as \"colleagues\", the tone of his speech is neutral, respectful. Therefore, he belongs to coalition.'\n",
    "data.loc['ua10563', 'reasoning'] = 'The speaker is proposing amendments to a bill and providing detailed explanations and justifications for their proposals. The tone is professional but also critical to the suggested bill: the speakes says the bill contains contradictions, as well as that the bill interprets some things \"\"too narrowly\"\". Because of this critisism, the speaker belongs to opposition.'"
   ]
  },
  {
   "cell_type": "markdown",
   "metadata": {},
   "source": [
    "Filter out data of curated_ids from the dataset into a new dataframe. Add a column \"json_response\" to it with the curated reasoning and a correct label in order to send this json_response to the model in the next steps."
   ]
  },
  {
   "cell_type": "code",
   "execution_count": 20,
   "metadata": {},
   "outputs": [
    {
     "name": "stderr",
     "output_type": "stream",
     "text": [
      "/var/folders/tg/w5th396s1r146pfch3q10j180000gn/T/ipykernel_45700/2989662672.py:2: SettingWithCopyWarning: \n",
      "A value is trying to be set on a copy of a slice from a DataFrame.\n",
      "Try using .loc[row_indexer,col_indexer] = value instead\n",
      "\n",
      "See the caveats in the documentation: https://pandas.pydata.org/pandas-docs/stable/user_guide/indexing.html#returning-a-view-versus-a-copy\n",
      "  few_shots_data.loc[:, \"json_response\"] = few_shots_data.apply(lambda x: f'{{\"reasoning\": \"{x.reasoning}\", \"prediction\": \"{x.prediction}\"}}', axis=1)\n"
     ]
    },
    {
     "data": {
      "text/html": [
       "<div>\n",
       "<style scoped>\n",
       "    .dataframe tbody tr th:only-of-type {\n",
       "        vertical-align: middle;\n",
       "    }\n",
       "\n",
       "    .dataframe tbody tr th {\n",
       "        vertical-align: top;\n",
       "    }\n",
       "\n",
       "    .dataframe thead th {\n",
       "        text-align: right;\n",
       "    }\n",
       "</style>\n",
       "<table border=\"1\" class=\"dataframe\">\n",
       "  <thead>\n",
       "    <tr style=\"text-align: right;\">\n",
       "      <th></th>\n",
       "      <th>speaker</th>\n",
       "      <th>sex</th>\n",
       "      <th>text</th>\n",
       "      <th>text_en</th>\n",
       "      <th>label</th>\n",
       "      <th>prediction</th>\n",
       "      <th>reasoning</th>\n",
       "      <th>labeled_prediction</th>\n",
       "      <th>json_response</th>\n",
       "    </tr>\n",
       "    <tr>\n",
       "      <th>id</th>\n",
       "      <th></th>\n",
       "      <th></th>\n",
       "      <th></th>\n",
       "      <th></th>\n",
       "      <th></th>\n",
       "      <th></th>\n",
       "      <th></th>\n",
       "      <th></th>\n",
       "      <th></th>\n",
       "    </tr>\n",
       "  </thead>\n",
       "  <tbody>\n",
       "    <tr>\n",
       "      <th>ua05929</th>\n",
       "      <td>79de6e68e0ea3d3c52105d1122207a45</td>\n",
       "      <td>M</td>\n",
       "      <td>Звертаюсь до представників більшості, питання ...</td>\n",
       "      <td>I'm talking to the majority, the question to e...</td>\n",
       "      <td>1</td>\n",
       "      <td>opposition</td>\n",
       "      <td>The speaker is trying to persuade the majority...</td>\n",
       "      <td>NaN</td>\n",
       "      <td>{\"reasoning\": \"The speaker is trying to persua...</td>\n",
       "    </tr>\n",
       "    <tr>\n",
       "      <th>ua15441</th>\n",
       "      <td>0934150a731ecd1d56efc59cb5d95974</td>\n",
       "      <td>M</td>\n",
       "      <td>Колеги, коли навіть Железняк помітив, що потрі...</td>\n",
       "      <td>Colleagues, when even the Ironman noticed the ...</td>\n",
       "      <td>0</td>\n",
       "      <td>coalition</td>\n",
       "      <td>The speaker addresses others as \"colleagues\", ...</td>\n",
       "      <td>NaN</td>\n",
       "      <td>{\"reasoning\": \"The speaker addresses others as...</td>\n",
       "    </tr>\n",
       "    <tr>\n",
       "      <th>ua14412</th>\n",
       "      <td>cda3f314dd19759c84327a32fe87f5b3</td>\n",
       "      <td>M</td>\n",
       "      <td>Дякую. Денис Анатолійович, вітаємо вас! І з по...</td>\n",
       "      <td>Thank you. Denise Anatolyovich, welcome! And w...</td>\n",
       "      <td>0</td>\n",
       "      <td>coalition</td>\n",
       "      <td>The speaker addresses a minister \"with respect...</td>\n",
       "      <td>NaN</td>\n",
       "      <td>{\"reasoning\": \"The speaker addresses a ministe...</td>\n",
       "    </tr>\n",
       "    <tr>\n",
       "      <th>ua10563</th>\n",
       "      <td>885573d8848fa398173c06dc22668f8d</td>\n",
       "      <td>M</td>\n",
       "      <td>Семенуха Роман, фракція \"Об'єднання \"&lt;PARTY&gt;\",...</td>\n",
       "      <td>Semenha Roman, the Self-Help Union faction, a ...</td>\n",
       "      <td>1</td>\n",
       "      <td>opposition</td>\n",
       "      <td>The speaker is proposing amendments to a bill ...</td>\n",
       "      <td>NaN</td>\n",
       "      <td>{\"reasoning\": \"The speaker is proposing amendm...</td>\n",
       "    </tr>\n",
       "  </tbody>\n",
       "</table>\n",
       "</div>"
      ],
      "text/plain": [
       "                                  speaker sex  \\\n",
       "id                                              \n",
       "ua05929  79de6e68e0ea3d3c52105d1122207a45   M   \n",
       "ua15441  0934150a731ecd1d56efc59cb5d95974   M   \n",
       "ua14412  cda3f314dd19759c84327a32fe87f5b3   M   \n",
       "ua10563  885573d8848fa398173c06dc22668f8d   M   \n",
       "\n",
       "                                                      text  \\\n",
       "id                                                           \n",
       "ua05929  Звертаюсь до представників більшості, питання ...   \n",
       "ua15441  Колеги, коли навіть Железняк помітив, що потрі...   \n",
       "ua14412  Дякую. Денис Анатолійович, вітаємо вас! І з по...   \n",
       "ua10563  Семенуха Роман, фракція \"Об'єднання \"<PARTY>\",...   \n",
       "\n",
       "                                                   text_en  label  prediction  \\\n",
       "id                                                                              \n",
       "ua05929  I'm talking to the majority, the question to e...      1  opposition   \n",
       "ua15441  Colleagues, when even the Ironman noticed the ...      0   coalition   \n",
       "ua14412  Thank you. Denise Anatolyovich, welcome! And w...      0   coalition   \n",
       "ua10563  Semenha Roman, the Self-Help Union faction, a ...      1  opposition   \n",
       "\n",
       "                                                 reasoning  \\\n",
       "id                                                           \n",
       "ua05929  The speaker is trying to persuade the majority...   \n",
       "ua15441  The speaker addresses others as \"colleagues\", ...   \n",
       "ua14412  The speaker addresses a minister \"with respect...   \n",
       "ua10563  The speaker is proposing amendments to a bill ...   \n",
       "\n",
       "         labeled_prediction                                      json_response  \n",
       "id                                                                              \n",
       "ua05929                 NaN  {\"reasoning\": \"The speaker is trying to persua...  \n",
       "ua15441                 NaN  {\"reasoning\": \"The speaker addresses others as...  \n",
       "ua14412                 NaN  {\"reasoning\": \"The speaker addresses a ministe...  \n",
       "ua10563                 NaN  {\"reasoning\": \"The speaker is proposing amendm...  "
      ]
     },
     "execution_count": 20,
     "metadata": {},
     "output_type": "execute_result"
    }
   ],
   "source": [
    "few_shots_data = data[data.index.isin(curated_ids)]\n",
    "few_shots_data.loc[:, \"json_response\"] = few_shots_data.apply(lambda x: f'{{\"reasoning\": \"{x.reasoning}\", \"prediction\": \"{x.prediction}\"}}', axis=1)\n",
    "few_shots_data"
   ]
  },
  {
   "cell_type": "markdown",
   "metadata": {},
   "source": [
    "Here, I am defining a function which sends calls to Llama3 using groq API and uses as examples of the answers on behalf of the model my curated answers above."
   ]
  },
  {
   "cell_type": "code",
   "execution_count": null,
   "metadata": {},
   "outputs": [],
   "source": [
    "SYSTEM_PROMPT = '''You are an expert in Ukrainian political life and parlamentary debates in the 2012-2024 years. Help me identify whether this speech was held by coalition or opposition. First reason about the text and try to find helpful cues. Then provide a final answer. Formulate your response in JSON using the following format: {\"reasoning\": \"...\", \"prediction\": \"coalition or opposition\"}. Make sure to return proper JSON, e.g. don't add superfluous single quotation marks in the end.'''"
   ]
  },
  {
   "cell_type": "code",
   "execution_count": 14,
   "metadata": {},
   "outputs": [],
   "source": [
    "def get_response_few_shot(text, few_shots_data):\n",
    "    messages = [\n",
    "        {\n",
    "            \"role\": \"system\",\n",
    "            \"content\": SYSTEM_PROMPT\n",
    "        },\n",
    "    ]\n",
    "    for _, row in few_shots_data.iterrows():\n",
    "        messages.append({\"role\": \"user\", \"content\": row.text})\n",
    "        messages.append({\"role\": \"assistant\", \"content\": row.json_response})\n",
    "\n",
    "    messages.append({\"role\": \"user\", \"content\": text})\n",
    "    \n",
    "    for i in range(5):\n",
    "        try:\n",
    "            # in a try loop, \n",
    "            # I am increasing temperature to get a response in case of an error generating JSON\n",
    "            chat_completion = CLIENT.chat.completions.create(\n",
    "                messages=messages,\n",
    "                model=\"llama3-70b-8192\",\n",
    "                response_format={\"type\": \"json_object\"},\n",
    "                temperature=0.2 * i,             \n",
    "            )\n",
    "            response_content = chat_completion.choices[0].message.content\n",
    "            response = json.loads(response_content)\n",
    "            return response\n",
    "        except Exception as e:\n",
    "            print(e)\n",
    "            continue\n",
    "    else:\n",
    "        return None\n"
   ]
  },
  {
   "cell_type": "code",
   "execution_count": 15,
   "metadata": {},
   "outputs": [
    {
     "name": "stderr",
     "output_type": "stream",
     "text": [
      "  0%|          | 0/670 [00:00<?, ?it/s]"
     ]
    },
    {
     "name": "stderr",
     "output_type": "stream",
     "text": [
      "Accuracy: 0.86:   1%|          | 7/670 [00:15<25:16,  2.29s/it]"
     ]
    },
    {
     "name": "stdout",
     "output_type": "stream",
     "text": [
      "Error code: 400 - {'error': {'message': \"Failed to generate JSON. Please adjust your prompt. See 'failed_generation' for more details.\", 'type': 'invalid_request_error', 'code': 'json_validate_failed', 'failed_generation': '{\"reasoning\": \"The speaker is criticizing the Committee on European Integration for not following the rules and not providing conclusions to the deputies. The tone is critical and slightly emotional, with phrases like \"\"frankly, it\\'s not clear\"\" and \"\"pure violation\"\". This suggests that the speaker is from the opposition.\", \"prediction\": \"opposition\"}'}}\n"
     ]
    },
    {
     "name": "stderr",
     "output_type": "stream",
     "text": [
      "Accuracy: 0.78:   1%|▏         | 9/670 [00:29<47:55,  4.35s/it]  "
     ]
    },
    {
     "name": "stdout",
     "output_type": "stream",
     "text": [
      "Error code: 400 - {'error': {'message': \"Failed to generate JSON. Please adjust your prompt. See 'failed_generation' for more details.\", 'type': 'invalid_request_error', 'code': 'json_validate_failed', 'failed_generation': '{\"reasoning\": \"The speaker is criticizing the Ukrainian government and Foreign Ministry for not doing enough to liberate Ukrainian political prisoners in Russia. The tone is emotional and patriotic, with phrases like \"\"Glory to Ukraine! The glory of the nation!\"\". The speaker also mentions that only the Radical Party faction in Parliament supports their cause, implying that they are in the opposition.\", \"prediction\": \"opposition\"}'}}\n",
      "Error code: 400 - {'error': {'message': \"Failed to generate JSON. Please adjust your prompt. See 'failed_generation' for more details.\", 'type': 'invalid_request_error', 'code': 'json_validate_failed', 'failed_generation': '{\"reasoning\": \"The speaker is criticizing the Ukrainian government and Foreign Ministry for not doing enough to liberate Ukrainian political prisoners in Russia. The tone is emotional and patriotic, with the speaker using phrases like \"\"Glory to Ukraine!\"\" and \"\"Glory of the nation!\"\", which suggests that the speaker is from the opposition.\", \"prediction\": \"opposition\"}'}}\n",
      "Error code: 400 - {'error': {'message': \"Failed to generate JSON. Please adjust your prompt. See 'failed_generation' for more details.\", 'type': 'invalid_request_error', 'code': 'json_validate_failed', 'failed_generation': '{\"reasoning\": \"The speaker is passionately advocating for the release of Ukrainian political prisoners in Russia, criticizing the Ukrainian government and Foreign Ministry for not doing enough to help them. The tone is emotional and nationalistic, with phrases like \"\"Glory to Ukraine! The glory of the nation!\"\", which suggests the speaker is from the opposition.\", \"prediction\": \"opposition\"}'}}\n",
      "Error code: 400 - {'error': {'message': \"Failed to generate JSON. Please adjust your prompt. See 'failed_generation' for more details.\", 'type': 'invalid_request_error', 'code': 'json_validate_failed', 'failed_generation': '{\"reasoning\": \"The speaker is emotionally addressing Ukrainian people, using phrases like \"\"Ukrainian people!\"\", \"\"Glory to Ukraine!\"\", \"\"Glory of the nation!\"\". The speaker is also criticizing the Ukrainian government and Foreign Ministry for not doing enough to liberate Ukrainian political prisoners in Russia. The tone is patriotic and outraged. This kind of emotional and critical speech is more typical for opposition.\", \"prediction\": \"opposition\"}'}}\n"
     ]
    },
    {
     "name": "stderr",
     "output_type": "stream",
     "text": [
      "Accuracy: 0.78:   1%|▏         | 10/670 [00:40<1:09:06,  6.28s/it]"
     ]
    },
    {
     "name": "stdout",
     "output_type": "stream",
     "text": [
      "Error code: 400 - {'error': {'message': \"Failed to generate JSON. Please adjust your prompt. See 'failed_generation' for more details.\", 'type': 'invalid_request_error', 'code': 'json_validate_failed', 'failed_generation': '{\"reasoning\": \"The speaker is emotional and critical of the Ukrainian government\\'s lack of action in freeing Ukrainian political prisoners held in Russia. The speaker also praises the Radical Party faction for their support. The tone is passionate and nationalistic, with the phrase \"\"Glory to Ukraine!\"\" at the end, which is a common Ukrainian nationalist slogan. This suggests that the speaker is from the opposition, possibly from the Radical Party.\", \"prediction\": \"opposition\"}'}}\n"
     ]
    },
    {
     "name": "stderr",
     "output_type": "stream",
     "text": [
      "Accuracy: 0.68:   4%|▍         | 26/670 [01:50<54:55,  5.12s/it]  "
     ]
    },
    {
     "name": "stdout",
     "output_type": "stream",
     "text": [
      "Error code: 400 - {'error': {'message': \"Failed to generate JSON. Please adjust your prompt. See 'failed_generation' for more details.\", 'type': 'invalid_request_error', 'code': 'json_validate_failed', 'failed_generation': '{\"reasoning\": \"The speaker is presenting an alternate bill, criticizing the existing one and proposing changes. The tone is assertive and critical, with a strong emphasis on the speaker\\'s faction\\'s position. The speaker is also using phrases like \"\"shameful agreements\"\" and \"\"anti-constitutional norm\"\", which suggests a strong opposition to the current state of affairs. Therefore, the speaker belongs to the opposition.\", \"prediction\": \"opposition\"}'}}\n"
     ]
    },
    {
     "name": "stderr",
     "output_type": "stream",
     "text": [
      "Accuracy: 0.57:   7%|▋         | 48/670 [03:59<33:38,  3.25s/it]  "
     ]
    },
    {
     "name": "stdout",
     "output_type": "stream",
     "text": [
      "Error code: 400 - {'error': {'message': \"Failed to generate JSON. Please adjust your prompt. See 'failed_generation' for more details.\", 'type': 'invalid_request_error', 'code': 'json_validate_failed', 'failed_generation': '{\"reasoning\": \"The speaker is sarcastic and ironic, using phrases like \"\"Ironman noticed\"\" and \"\"ninth place of war\"\". The tone is critical and mocking, suggesting that the speaker is from the opposition.\", \"prediction\": \"opposition\"}'}}\n",
      "Error code: 400 - {'error': {'message': \"Failed to generate JSON. Please adjust your prompt. See 'failed_generation' for more details.\", 'type': 'invalid_request_error', 'code': 'json_validate_failed', 'failed_generation': '{\"reasoning\": \"The speaker is sarcastic and ironic, using phrases like \"\"Ironman noticed\"\" and \"\"ninth place of war\"\". This tone is typical for opposition speakers, who often use irony and sarcasm to criticize the government\\'s actions. The speaker is also criticizing the government\\'s decision to provide benefits to the gaming business, which suggests that they are from the opposition.\", \"prediction\": \"opposition\"}'}}\n",
      "Error code: 400 - {'error': {'message': \"Failed to generate JSON. Please adjust your prompt. See 'failed_generation' for more details.\", 'type': 'invalid_request_error', 'code': 'json_validate_failed', 'failed_generation': '{\"reasoning\": \"The speaker is sarcastic and ironic in their speech, using phrases like \"\"Ironman\"\" and \"\"ninth place of war\"\". The tone is critical and dismissive towards the gaming business and its benefits. This kind of tone is more typical of opposition speeches, where they criticize the government\\'s decisions.\", \"prediction\": \"opposition\"}'}}\n"
     ]
    },
    {
     "name": "stderr",
     "output_type": "stream",
     "text": [
      "Accuracy: 0.64:  13%|█▎        | 89/670 [08:07<1:08:47,  7.10s/it]"
     ]
    },
    {
     "name": "stdout",
     "output_type": "stream",
     "text": [
      "Error code: 400 - {'error': {'message': \"Failed to generate JSON. Please adjust your prompt. See 'failed_generation' for more details.\", 'type': 'invalid_request_error', 'code': 'json_validate_failed', 'failed_generation': '{\"reasoning\": \"The speaker is criticizing the government and proposing concrete actions to overcome the crisis in Ukraine. The tone is critical and oppositional, the speaker is proposing bills and asking the government to take action. The speaker is also using strong language, calling the current situation a \"\"genocide policy\"\". This suggests that the speaker is from the opposition.\", \"prediction\": \"opposition\"}'}}\n"
     ]
    },
    {
     "name": "stderr",
     "output_type": "stream",
     "text": [
      "Accuracy: 0.65:  15%|█▍        | 100/670 [09:19<45:33,  4.80s/it] "
     ]
    },
    {
     "name": "stdout",
     "output_type": "stream",
     "text": [
      "Error code: 400 - {'error': {'message': \"Failed to generate JSON. Please adjust your prompt. See 'failed_generation' for more details.\", 'type': 'invalid_request_error', 'code': 'json_validate_failed', 'failed_generation': '{\"reasoning\": \"The speaker is from the Faction of the Fatherland, which is an opposition party. The tone of the speech is emotional and patriotic, the speaker is criticizing the government and Russia, and is calling for action from the Parliament. The speaker is also using phrases like \"\"Glory to Ukraine!\"\" which is a common phrase used by Ukrainian nationalists and opposition parties.\", \"prediction\": \"opposition\"}'}}\n"
     ]
    },
    {
     "name": "stderr",
     "output_type": "stream",
     "text": [
      "Accuracy: 0.64:  15%|█▌        | 103/670 [09:28<32:48,  3.47s/it]"
     ]
    },
    {
     "name": "stdout",
     "output_type": "stream",
     "text": [
      "Error code: 400 - {'error': {'message': \"Failed to generate JSON. Please adjust your prompt. See 'failed_generation' for more details.\", 'type': 'invalid_request_error', 'code': 'json_validate_failed', 'failed_generation': '{\"reasoning\": \"The speaker is strongly criticizing the government\\'s actions, specifically the Cabinet of Ministers, and the Ministry of Finance, accusing them of making changes to the Tax Code without proper authorization, and creating criteria for blocking tax slips that are too broad and can be used to target any business. The tone is very critical and emotional, with the speaker using phrases like \"\"this is death for our economy\"\". This kind of strong criticism suggests that the speaker is from the opposition.\", \"prediction\": \"opposition\"}'}}\n"
     ]
    },
    {
     "name": "stderr",
     "output_type": "stream",
     "text": [
      "Accuracy: 0.63:  16%|█▌        | 104/670 [09:34<37:59,  4.03s/it]"
     ]
    },
    {
     "name": "stdout",
     "output_type": "stream",
     "text": [
      "Error code: 400 - {'error': {'message': \"Failed to generate JSON. Please adjust your prompt. See 'failed_generation' for more details.\", 'type': 'invalid_request_error', 'code': 'json_validate_failed', 'failed_generation': '{\"reasoning\": \"The speaker is supporting a bill and is optimistic about its potential to improve Ukraine\\'s infrastructure. The tone is positive and encouraging, and the speaker is willing to work with others to improve the bill. The phrase \"\"Glory to Ukraine!\"\" is also a common phrase used by Ukrainian nationalists and politicians from the coalition.\", \"prediction\": \"coalition\"}'}}\n",
      "Error code: 400 - {'error': {'message': \"Failed to generate JSON. Please adjust your prompt. See 'failed_generation' for more details.\", 'type': 'invalid_request_error', 'code': 'json_validate_failed', 'failed_generation': '{\"reasoning\": \"The speaker is supporting a bill, praising its initiatives and suggesting improvements. The tone is positive and constructive, and the speaker is encouraging collaboration. The speaker also ends with a patriotic phrase \"\"Glory to Ukraine!\"\", which is often used by coalition members.\", \"prediction\": \"coalition\"}'}}\n"
     ]
    },
    {
     "name": "stderr",
     "output_type": "stream",
     "text": [
      "Accuracy: 0.64:  16%|█▌        | 106/670 [09:44<40:16,  4.29s/it]"
     ]
    },
    {
     "name": "stdout",
     "output_type": "stream",
     "text": [
      "Error code: 400 - {'error': {'message': \"Failed to generate JSON. Please adjust your prompt. See 'failed_generation' for more details.\", 'type': 'invalid_request_error', 'code': 'json_validate_failed', 'failed_generation': '{\"reasoning\": \"The speaker is addressing other members of the parliament, using a strong tone and criticizing the lack of action on a specific issue. The speaker is also accusing someone of being a \"\"political prostitute\"\" and asking someone (Andrew Volodymyrovich) to take action. This kind of language and tone is typical of opposition members, who often use strong rhetoric to criticize the government or other parties.\", \"prediction\": \"opposition\"}'}}\n",
      "Error code: 400 - {'error': {'message': \"Failed to generate JSON. Please adjust your prompt. See 'failed_generation' for more details.\", 'type': 'invalid_request_error', 'code': 'json_validate_failed', 'failed_generation': '{\"reasoning\": \"The speaker is addressing other MPs and urging them to support a law, criticizing those who don\\'t. The tone is emotional, critical, and slightly aggressive. The speaker is also accusing someone of being a \"\"political prostitute\"\". This kind of language and tone is typical of opposition MPs who are trying to expose what they see as wrongdoing or hypocrisy.\", \"prediction\": \"opposition\"}'}}\n"
     ]
    },
    {
     "name": "stderr",
     "output_type": "stream",
     "text": [
      "Accuracy: 0.64:  17%|█▋        | 116/670 [10:09<23:19,  2.53s/it]"
     ]
    },
    {
     "name": "stdout",
     "output_type": "stream",
     "text": [
      "Error code: 400 - {'error': {'message': \"Failed to generate JSON. Please adjust your prompt. See 'failed_generation' for more details.\", 'type': 'invalid_request_error', 'code': 'json_validate_failed', 'failed_generation': '{\"reasoning\": \"The speaker is criticizing the government\\'s priorities in funding, specifically the allocation of resources to the police and internal affairs, and comparing it to the underfunding of the Ukrainian army. The tone is critical and emotional, with a sense of urgency and concern for the country\\'s future. The speaker also uses rhetorical questions and phrases, such as \"\"Glory to Ukraine!\"\" which is a common phrase used by Ukrainian nationalists. This suggests that the speaker is from the opposition, specifically from the All-Ukrainian Freedom Union, a nationalist party.\", \"prediction\": \"opposition\"}'}}\n"
     ]
    },
    {
     "name": "stderr",
     "output_type": "stream",
     "text": [
      "Accuracy: 0.65:  18%|█▊        | 121/670 [10:23<22:19,  2.44s/it]"
     ]
    },
    {
     "name": "stdout",
     "output_type": "stream",
     "text": [
      "Error code: 400 - {'error': {'message': \"Failed to generate JSON. Please adjust your prompt. See 'failed_generation' for more details.\", 'type': 'invalid_request_error', 'code': 'json_validate_failed', 'failed_generation': '{\"reasoning\": \"The speaker is proposing a bill and asking colleagues to support it. The tone is positive and encouraging, the speaker is trying to persuade others to vote in favor of the bill. The language used is also quite optimistic, with phrases like \"\"a digital economy, another step\"\". This suggests that the speaker is from the coalition, as they are trying to promote a bill and are using a persuasive tone.\", \"prediction\": \"coalition\"}'}}\n",
      "Error code: 400 - {'error': {'message': \"Failed to generate JSON. Please adjust your prompt. See 'failed_generation' for more details.\", 'type': 'invalid_request_error', 'code': 'json_validate_failed', 'failed_generation': '{\"reasoning\": \"The speaker is proposing a bill and asking colleagues to support it. The tone is positive and encouraging, the speaker is trying to persuade others to vote in favor of the bill. The language used is also quite optimistic, with phrases like \"\"a digital economy, another step\"\". This suggests that the speaker is from the coalition, as they are promoting a bill and asking for support.\", \"prediction\": \"coalition\"}'}}\n"
     ]
    },
    {
     "name": "stderr",
     "output_type": "stream",
     "text": [
      "Accuracy: 0.65:  18%|█▊        | 122/670 [10:29<33:33,  3.67s/it]"
     ]
    },
    {
     "name": "stdout",
     "output_type": "stream",
     "text": [
      "Error code: 400 - {'error': {'message': \"Failed to generate JSON. Please adjust your prompt. See 'failed_generation' for more details.\", 'type': 'invalid_request_error', 'code': 'json_validate_failed', 'failed_generation': '{\"reasoning\": \"The speaker is addressing the parliament and the government, criticizing their actions and inactions, and demanding justice for the students and teachers of the Vinnick National Agrarian University. The tone is emotional and critical, with a sense of urgency and frustration. The speaker is also using patriotic language, ending with \"\"Glory to Ukraine!\"\", which suggests that the speaker is from the opposition.\", \"prediction\": \"opposition\"}'}}\n",
      "Error code: 400 - {'error': {'message': \"Failed to generate JSON. Please adjust your prompt. See 'failed_generation' for more details.\", 'type': 'invalid_request_error', 'code': 'json_validate_failed', 'failed_generation': '{\"reasoning\": \"The speaker is addressing the government and asking for action to resolve a specific issue at a university. The tone is critical of the government\\'s actions and inactions, and the speaker is advocating for the rights of students and teachers. The speech ends with a call to action and a patriotic phrase \"\"Glory to Ukraine!\"\". This suggests that the speaker is from the opposition.\", \"prediction\": \"opposition\"}'}}\n",
      "Error code: 400 - {'error': {'message': \"Failed to generate JSON. Please adjust your prompt. See 'failed_generation' for more details.\", 'type': 'invalid_request_error', 'code': 'json_validate_failed', 'failed_generation': '{\"reasoning\": \"The speaker is criticizing the government and the Ministry of Agrarian Policy for interfering with the election of a rector at the Vinnick National Agrarian University, and is calling for transparency and autonomy for the university. The speaker is also using patriotic language, such as \"\"Glory to Ukraine!\"\". This suggests that the speaker is from the opposition, as they are critical of the government and are advocating for change.\", \"prediction\": \"opposition\"}'}}\n"
     ]
    },
    {
     "name": "stderr",
     "output_type": "stream",
     "text": [
      "Accuracy: 0.64:  19%|█▉        | 129/670 [11:01<29:02,  3.22s/it]"
     ]
    },
    {
     "name": "stdout",
     "output_type": "stream",
     "text": [
      "Error code: 400 - {'error': {'message': \"Failed to generate JSON. Please adjust your prompt. See 'failed_generation' for more details.\", 'type': 'invalid_request_error', 'code': 'json_validate_failed', 'failed_generation': '{\"reasoning\": \"The speaker is addressing the Ukrainian people and colleagues, and is speaking in a passionate and emotional tone. The speaker is criticizing the government and oligarchs, and is calling for action to help the people. The phrase \"\"Glory to Ukraine!\"\" is also a strong indicator of a nationalist or oppositional stance.\", \"prediction\": \"opposition\"}'}}\n"
     ]
    },
    {
     "name": "stderr",
     "output_type": "stream",
     "text": [
      "Accuracy: 0.65:  20%|█▉        | 131/670 [11:15<43:24,  4.83s/it]"
     ]
    },
    {
     "name": "stdout",
     "output_type": "stream",
     "text": [
      "Error code: 400 - {'error': {'message': \"Failed to generate JSON. Please adjust your prompt. See 'failed_generation' for more details.\", 'type': 'invalid_request_error', 'code': 'json_validate_failed', 'failed_generation': '{\"reasoning\": \"The speaker is addressing the audience in a polite manner, using phrases like \"\"good afternoon, dear fellows\"\" and \"\"please be supportive\"\". The tone is cooperative and collaborative, suggesting that the speaker is part of the coalition.\", \"prediction\": \"coalition\"}'}}\n"
     ]
    },
    {
     "name": "stderr",
     "output_type": "stream",
     "text": [
      "Accuracy: 0.66:  21%|██        | 141/670 [12:21<1:18:10,  8.87s/it]"
     ]
    },
    {
     "name": "stdout",
     "output_type": "stream",
     "text": [
      "Error code: 400 - {'error': {'message': \"Failed to generate JSON. Please adjust your prompt. See 'failed_generation' for more details.\", 'type': 'invalid_request_error', 'code': 'json_validate_failed', 'failed_generation': '{\"reasoning\": \"The speaker is speaking in a very positive and optimistic tone, praising the government\\'s efforts towards European integration and calling for cooperation between political forces. The speech is full of phrases like \"\"strategic task\"\", \"\"great colleagues\"\", \"\"every reason to look forward\"\", \"\"political will\"\", \"\"bring together the political forces\"\", \"\"high standards of living\"\", \"\"fruitful cooperation\"\". This kind of language is typical of coalition speeches, where the goal is to promote unity and cooperation.\", \"prediction\": \"coalition\"}'}}\n"
     ]
    },
    {
     "name": "stderr",
     "output_type": "stream",
     "text": [
      "Accuracy: 0.66:  23%|██▎       | 155/670 [14:43<1:10:00,  8.16s/it]"
     ]
    },
    {
     "name": "stdout",
     "output_type": "stream",
     "text": [
      "Error code: 400 - {'error': {'message': \"Failed to generate JSON. Please adjust your prompt. See 'failed_generation' for more details.\", 'type': 'invalid_request_error', 'code': 'json_validate_failed', 'failed_generation': '{\"reasoning\": \"The speaker is criticizing a proposed formula and an article in a law, calling it \"\"discriminatory\"\". The tone is critical and opposing, suggesting that the speaker is from the opposition.\", \"prediction\": \"opposition\"}'}}\n",
      "Error code: 400 - {'error': {'message': \"Failed to generate JSON. Please adjust your prompt. See 'failed_generation' for more details.\", 'type': 'invalid_request_error', 'code': 'json_validate_failed', 'failed_generation': '{\"reasoning\": \"The speaker is criticizing a proposed formula and an article in a law, calling it \"\"discriminatory\"\". The tone is critical and opposing, suggesting that the speaker is from the opposition.\", \"prediction\": \"opposition\"}'}}\n",
      "Error code: 400 - {'error': {'message': \"Failed to generate JSON. Please adjust your prompt. See 'failed_generation' for more details.\", 'type': 'invalid_request_error', 'code': 'json_validate_failed', 'failed_generation': '{\"reasoning\": \"The speaker is criticizing a proposed formula and an article in a law, calling it \"\"discriminatory\"\". The tone is critical and opposing, suggesting that the speaker is from the opposition.\", \"prediction\": \"opposition\"}'}}\n"
     ]
    },
    {
     "name": "stderr",
     "output_type": "stream",
     "text": [
      "Accuracy: 0.65:  26%|██▌       | 172/670 [16:27<20:09,  2.43s/it]  "
     ]
    },
    {
     "name": "stdout",
     "output_type": "stream",
     "text": [
      "Error code: 400 - {'error': {'message': \"Failed to generate JSON. Please adjust your prompt. See 'failed_generation' for more details.\", 'type': 'invalid_request_error', 'code': 'json_validate_failed', 'failed_generation': '{\"reasoning\": \"The speaker is presenting a bill and explaining its benefits, using phrases like \"\"very important social function\"\", \"\"our country and our government\"\", and \"\"Please support the President and our constituents\"\". The tone is positive and encouraging, and the speaker is trying to persuade others to support the bill. This suggests that the speaker is from the coalition.\", \"prediction\": \"coalition\"}'}}\n",
      "Error code: 400 - {'error': {'message': \"Failed to generate JSON. Please adjust your prompt. See 'failed_generation' for more details.\", 'type': 'invalid_request_error', 'code': 'json_validate_failed', 'failed_generation': '{\"reasoning\": \"The speaker is presenting a bill and explaining its benefits, using phrases like \"\"the President of Ukraine defined it as urgent\"\" and \"\"Please support the President and our constituents\"\". The tone is positive and encouraging, and the speaker is trying to persuade others to support the bill. This suggests that the speaker is from the coalition.\", \"prediction\": \"coalition\"}'}}\n",
      "Error code: 400 - {'error': {'message': \"Failed to generate JSON. Please adjust your prompt. See 'failed_generation' for more details.\", 'type': 'invalid_request_error', 'code': 'json_validate_failed', 'failed_generation': '{\"reasoning\": \"The speaker is presenting a bill and explaining its benefits, using phrases like \"\"very important social function\"\", \"\"our country and our government\"\", and \"\"Please support the President and our constituents\"\". The tone is positive and encouraging, suggesting that the speaker is from the coalition.\", \"prediction\": \"coalition\"}'}}\n",
      "Error code: 400 - {'error': {'message': \"Failed to generate JSON. Please adjust your prompt. See 'failed_generation' for more details.\", 'type': 'invalid_request_error', 'code': 'json_validate_failed', 'failed_generation': '{\"reasoning\": \"The speaker is presenting a bill and explaining its benefits, using phrases like \"\"very important social function\"\", \"\"our country and our government\"\", and \"\"Please support the President and our constituents\"\". The tone is positive and encouraging, suggesting that the speaker is part of the coalition.\", \"prediction\": \"coalition\"}'}}\n"
     ]
    },
    {
     "name": "stderr",
     "output_type": "stream",
     "text": [
      "Accuracy: 0.67:  28%|██▊       | 187/670 [17:38<22:53,  2.84s/it]  "
     ]
    },
    {
     "name": "stdout",
     "output_type": "stream",
     "text": [
      "Error code: 400 - {'error': {'message': \"Failed to generate JSON. Please adjust your prompt. See 'failed_generation' for more details.\", 'type': 'invalid_request_error', 'code': 'json_validate_failed', 'failed_generation': '{\"reasoning\": \"The speaker is criticizing the government and the president for not doing enough to protect Ukraine from Russian aggression. The speaker is emotional and passionate, using phrases like \"\"Glory to Ukraine!\"\" and talking about the importance of unity and condemnation of Russian actions. This kind of criticism and emotional appeal is typical of opposition speeches.\", \"prediction\": \"opposition\"}'}}\n"
     ]
    },
    {
     "name": "stderr",
     "output_type": "stream",
     "text": [
      "Accuracy: 0.65:  29%|██▉       | 195/670 [18:41<1:20:43, 10.20s/it]"
     ]
    },
    {
     "name": "stdout",
     "output_type": "stream",
     "text": [
      "Error code: 400 - {'error': {'message': \"Failed to generate JSON. Please adjust your prompt. See 'failed_generation' for more details.\", 'type': 'invalid_request_error', 'code': 'json_validate_failed', 'failed_generation': '{\"reasoning\": \"The speaker is addressing colleagues, using a patriotic tone and emphasizing the importance of moral cleansing in politics. The speaker is also calling for action, urging colleagues to take a stand and make a decision. The use of phrases like \"\"Glory to Ukraine!\"\" and the emphasis on national pride suggest that the speaker is from the coalition.\", \"prediction\": \"coalition\"}'}}\n",
      "Error code: 400 - {'error': {'message': \"Failed to generate JSON. Please adjust your prompt. See 'failed_generation' for more details.\", 'type': 'invalid_request_error', 'code': 'json_validate_failed', 'failed_generation': '{\"reasoning\": \"The speaker is calling for radical actions, such as removing mandates from certain MPs, and is using strong language, like \"\"moral cleansing\"\". The tone is emotional and urgent, with a sense of urgency and a call to action. This kind of rhetoric is more typical of opposition politicians, who often try to mobilize public opinion and push for radical changes.\", \"prediction\": \"opposition\"}'}}\n"
     ]
    },
    {
     "name": "stderr",
     "output_type": "stream",
     "text": [
      "Accuracy: 0.67:  32%|███▏      | 214/670 [20:36<1:22:38, 10.87s/it]"
     ]
    },
    {
     "name": "stdout",
     "output_type": "stream",
     "text": [
      "Error code: 400 - {'error': {'message': \"Failed to generate JSON. Please adjust your prompt. See 'failed_generation' for more details.\", 'type': 'invalid_request_error', 'code': 'json_validate_failed', 'failed_generation': '{\"reasoning\": \"The speaker is praising the government\\'s document, calling it \"\"innovative and interesting\"\", and saying that it is \"\"clear and easy to understand\"\". The speaker also agrees with the government\\'s priorities and praises the Deputy Prime Minister\\'s presentation on European and Euro-Atlantic integration. The tone is positive and supportive, suggesting that the speaker is from the coalition.\", \"prediction\": \"coalition\"}'}}\n",
      "Error code: 400 - {'error': {'message': \"Failed to generate JSON. Please adjust your prompt. See 'failed_generation' for more details.\", 'type': 'invalid_request_error', 'code': 'json_validate_failed', 'failed_generation': '{\"reasoning\": \"The speaker is praising the government\\'s document, calling it \"\"innovative and interesting\"\", and saying that it is \"\"clear and easy to understand\"\". The tone is positive and supportive, with no criticism or opposition to the government\\'s proposal. This suggests that the speaker is part of the coalition.\", \"prediction\": \"coalition\"}'}}\n",
      "Error code: 400 - {'error': {'message': \"Failed to generate JSON. Please adjust your prompt. See 'failed_generation' for more details.\", 'type': 'invalid_request_error', 'code': 'json_validate_failed', 'failed_generation': '{\"reasoning\": \"The speaker is praising the government\\'s document, calling it \"\"innovative and interesting\"\", and defending it against potential criticism from the opposition. The tone is positive and supportive, suggesting that the speaker is a member of the coalition.\", \"prediction\": \"coalition\"}'}}\n",
      "Error code: 400 - {'error': {'message': \"Failed to generate JSON. Please adjust your prompt. See 'failed_generation' for more details.\", 'type': 'invalid_request_error', 'code': 'json_validate_failed', 'failed_generation': '{\"reasoning\": \"The speaker is praising the government\\'s document, calling it \"\"innovative and interesting\"\", and saying it\\'s \"\"clear and easy to understand\"\". They also mention that the document is \"\"human-centred\"\" and that it reflects the country\\'s needs. The tone is very positive and supportive, which suggests that the speaker is part of the coalition.\", \"prediction\": \"coalition\"}'}}\n"
     ]
    },
    {
     "name": "stderr",
     "output_type": "stream",
     "text": [
      "Accuracy: 0.67:  32%|███▏      | 215/670 [20:46<1:20:22, 10.60s/it]"
     ]
    },
    {
     "name": "stdout",
     "output_type": "stream",
     "text": [
      "Error code: 400 - {'error': {'message': \"Failed to generate JSON. Please adjust your prompt. See 'failed_generation' for more details.\", 'type': 'invalid_request_error', 'code': 'json_validate_failed', 'failed_generation': '{\"reasoning\": \"The speaker is praising a document presented by the government, using phrases like \"\"innovative and interesting\"\", \"\"clear and easy to understand\"\", and \"\"human-centred\"\". They also mention that the government has defined citizens\\' needs and priorities, and express support for the government\\'s activities. The tone is positive and supportive, which suggests that the speaker is part of the coalition.\", \"prediction\": \"coalition\"}'}}\n"
     ]
    },
    {
     "name": "stderr",
     "output_type": "stream",
     "text": [
      "Accuracy: 0.67:  34%|███▎      | 226/670 [21:37<25:52,  3.50s/it]  "
     ]
    },
    {
     "name": "stdout",
     "output_type": "stream",
     "text": [
      "Error code: 400 - {'error': {'message': \"Failed to generate JSON. Please adjust your prompt. See 'failed_generation' for more details.\", 'type': 'invalid_request_error', 'code': 'json_validate_failed', 'failed_generation': '{\"reasoning\": \"The speaker is addressing the Ukrainian people and National Deputies, proposing a set of economic and social policies to protect the population from poverty. The tone is critical of the current government\\'s policies and suggests alternative solutions. The speaker is part of the \"\"Will of the People\"\" MP group, which is likely an opposition party.\", \"prediction\": \"opposition\"}'}}\n",
      "Error code: 400 - {'error': {'message': \"Failed to generate JSON. Please adjust your prompt. See 'failed_generation' for more details.\", 'type': 'invalid_request_error', 'code': 'json_validate_failed', 'failed_generation': '{\"reasoning\": \"The speaker is addressing the Ukrainian people and National Deputies, proposing a set of economic and social policies to protect the population from poverty. The tone is critical of the current government\\'s policies and suggests alternative solutions. The speaker is part of the \"\"Will of the People\"\" MP group, which is likely an opposition party.\", \"prediction\": \"opposition\"}'}}\n"
     ]
    },
    {
     "name": "stderr",
     "output_type": "stream",
     "text": [
      "Accuracy: 0.68:  37%|███▋      | 246/670 [23:15<1:14:42, 10.57s/it]"
     ]
    },
    {
     "name": "stdout",
     "output_type": "stream",
     "text": [
      "Error code: 400 - {'error': {'message': \"Failed to generate JSON. Please adjust your prompt. See 'failed_generation' for more details.\", 'type': 'invalid_request_error', 'code': 'json_validate_failed', 'failed_generation': '{\"reasoning\": \"The speaker is criticizing the government and the current state of the judicial system, accusing them of corruption and dependence on authority. The tone is critical and oppositional, with phrases like \"\"will be forced to make decisions that do not meet the law\"\" and \"\"there will be no justice\"\". This suggests that the speaker is from the opposition.\", \"prediction\": \"opposition\"}'}}\n"
     ]
    },
    {
     "name": "stderr",
     "output_type": "stream",
     "text": [
      "Accuracy: 0.68:  37%|███▋      | 249/670 [23:22<36:01,  5.13s/it]  "
     ]
    },
    {
     "name": "stdout",
     "output_type": "stream",
     "text": [
      "Error code: 400 - {'error': {'message': \"Failed to generate JSON. Please adjust your prompt. See 'failed_generation' for more details.\", 'type': 'invalid_request_error', 'code': 'json_validate_failed', 'failed_generation': '{\"reasoning\": \"The speaker is criticizing a bill and the committee that proposed it, accusing them of trying to privatize the Odessa Film Studio. The speaker is passionate and emotional, using phrases like \"\"our offspring, the people of Ukraine and Ukrainian culture\"\". The tone is confrontational and critical, suggesting that the speaker is from the opposition.\", \"prediction\": \"opposition\"}'}}\n",
      "Error code: 400 - {'error': {'message': \"Failed to generate JSON. Please adjust your prompt. See 'failed_generation' for more details.\", 'type': 'invalid_request_error', 'code': 'json_validate_failed', 'failed_generation': '{\"reasoning\": \"The speaker is criticizing a bill and the committee that proposed it, accusing them of trying to privatize the Odessa Film Studio. The speaker is emotional and passionate about the issue, using phrases like \"\"our offspring, the people of Ukraine and Ukrainian culture\"\". The tone is confrontational and critical, suggesting that the speaker is from the opposition.\", \"prediction\": \"opposition\"}'}}\n"
     ]
    },
    {
     "name": "stderr",
     "output_type": "stream",
     "text": [
      "Accuracy: 0.68:  39%|███▊      | 259/670 [25:01<1:15:09, 10.97s/it]"
     ]
    },
    {
     "name": "stdout",
     "output_type": "stream",
     "text": [
      "Error code: 400 - {'error': {'message': \"Failed to generate JSON. Please adjust your prompt. See 'failed_generation' for more details.\", 'type': 'invalid_request_error', 'code': 'json_validate_failed', 'failed_generation': '{\"reasoning\": \"The speaker is urging colleagues to support a bill, calling it \"\"technical\"\" and necessary for aligning Ukrainian legislation with international standards. The tone is persuasive and slightly critical towards potential opponents of the bill. The speaker\\'s confidence and call to action suggest they are part of the coalition.\", \"prediction\": \"coalition\"}'}}\n"
     ]
    },
    {
     "name": "stderr",
     "output_type": "stream",
     "text": [
      "Accuracy: 0.68:  39%|███▉      | 264/670 [25:11<23:08,  3.42s/it]  "
     ]
    },
    {
     "name": "stdout",
     "output_type": "stream",
     "text": [
      "Error code: 400 - {'error': {'message': \"Failed to generate JSON. Please adjust your prompt. See 'failed_generation' for more details.\", 'type': 'invalid_request_error', 'code': 'json_validate_failed', 'failed_generation': '{\"reasoning\": \"The speaker is proposing a decision to the Supreme Council of Ukraine and is very enthusiastic about it, using phrases like \"\"we continue to make history\"\" and \"\"I am proud to represent it\"\". The tone is very positive and encouraging, urging colleagues to support the decision. This suggests that the speaker is from the coalition party, as they are promoting a decision and trying to persuade others to support it.\", \"prediction\": \"coalition\"}'}}\n",
      "Error code: 400 - {'error': {'message': \"Failed to generate JSON. Please adjust your prompt. See 'failed_generation' for more details.\", 'type': 'invalid_request_error', 'code': 'json_validate_failed', 'failed_generation': '{\"reasoning\": \"The speaker is proposing a decision to the Supreme Council of Ukraine and is very enthusiastic about it, using phrases like \"\"we continue to make history\"\" and \"\"I am proud to represent it\"\". The tone is very positive and encouraging, suggesting that the speaker is from the coalition party.\", \"prediction\": \"coalition\"}'}}\n"
     ]
    },
    {
     "name": "stderr",
     "output_type": "stream",
     "text": [
      "Accuracy: 0.69:  40%|████      | 270/670 [26:07<54:07,  8.12s/it]  "
     ]
    },
    {
     "name": "stdout",
     "output_type": "stream",
     "text": [
      "Error code: 400 - {'error': {'message': \"Failed to generate JSON. Please adjust your prompt. See 'failed_generation' for more details.\", 'type': 'invalid_request_error', 'code': 'json_validate_failed', 'failed_generation': '{\"reasoning\": \"The speaker is addressing the parliament, using a strong and emotional tone, criticizing the actions of other deputies and accusing them of harming Ukraine. The speaker is also using patriotic phrases like \"\"Glory to Ukraine!\"\". This kind of rhetoric is typical for opposition politicians.\", \"prediction\": \"opposition\"}'}}\n"
     ]
    },
    {
     "name": "stderr",
     "output_type": "stream",
     "text": [
      "Accuracy: 0.69:  41%|████      | 273/670 [26:16<29:34,  4.47s/it]"
     ]
    },
    {
     "name": "stdout",
     "output_type": "stream",
     "text": [
      "Error code: 400 - {'error': {'message': \"Failed to generate JSON. Please adjust your prompt. See 'failed_generation' for more details.\", 'type': 'invalid_request_error', 'code': 'json_validate_failed', 'failed_generation': '{\"reasoning\": \"The speaker is trying to persuade others to support their proposal, using phrases like \"\"I\\'m asking you to put aside some of your personal interests\"\" and \"\"think about the interests of Ukrainian citizens\"\". This suggests that the speaker is in the opposition, trying to convince the majority to adopt their point of view.\", \"prediction\": \"opposition\"}'}}\n"
     ]
    },
    {
     "name": "stderr",
     "output_type": "stream",
     "text": [
      "Accuracy: 0.69:  47%|████▋     | 315/670 [28:38<12:12,  2.06s/it]  "
     ]
    },
    {
     "name": "stdout",
     "output_type": "stream",
     "text": [
      "Error code: 400 - {'error': {'message': \"Failed to generate JSON. Please adjust your prompt. See 'failed_generation' for more details.\", 'type': 'invalid_request_error', 'code': 'json_validate_failed', 'failed_generation': '{\"reasoning\": \"The speaker is criticizing the bill and the committee, questioning the quality of the bill and proposing amendments. The tone is critical and oppositional, and the speaker is trying to persuade colleagues to support their amendment. The speaker also uses strong language, calling the law \"\"anti-national\"\" and \"\"unnecessary\"\". This suggests that the speaker is from the opposition.\", \"prediction\": \"opposition\"}'}}\n",
      "Error code: 400 - {'error': {'message': \"Failed to generate JSON. Please adjust your prompt. See 'failed_generation' for more details.\", 'type': 'invalid_request_error', 'code': 'json_validate_failed', 'failed_generation': '{\"reasoning\": \"The speaker is criticizing the bill and the committee, questioning the quality of the bill and proposing amendments to remove certain powers from the State Department. The tone is critical and oppositional, and the speaker is from the \"\"The Fatherland\"\" faction, which is an opposition party. \", \"prediction\": \"opposition\"}'}}\n",
      "Error code: 400 - {'error': {'message': \"Failed to generate JSON. Please adjust your prompt. See 'failed_generation' for more details.\", 'type': 'invalid_request_error', 'code': 'json_validate_failed', 'failed_generation': '{\"reasoning\": \"The speaker is criticizing the committee for accepting 700 amendments to the bill, implying that the bill is of poor quality. He also proposes his own amendment, which would remove powers from the State Department in the field of land relations. The speaker\\'s tone is critical and questioning, and he calls the law \"\"anti-national\"\" and \"\"unnecessary\"\". This suggests that the speaker is from the opposition.\", \"prediction\": \"opposition\"}'}}\n",
      "Error code: 400 - {'error': {'message': \"Failed to generate JSON. Please adjust your prompt. See 'failed_generation' for more details.\", 'type': 'invalid_request_error', 'code': 'json_validate_failed', 'failed_generation': '{\"reasoning\": \"The speaker is critical of the bill, questioning the quality of the bill that needs 700 amendments, and is proposing his own amendment to remove powers from the State Department in the field of land relations. The tone is critical and oppositional, and the speaker calls the law \"\"anti-national\"\". This suggests that the speaker is from the opposition.\", \"prediction\": \"opposition\"}'}}\n"
     ]
    },
    {
     "name": "stderr",
     "output_type": "stream",
     "text": [
      "Accuracy: 0.69:  47%|████▋     | 316/670 [29:48<2:12:11, 22.41s/it]"
     ]
    },
    {
     "name": "stdout",
     "output_type": "stream",
     "text": [
      "Error code: 400 - {'error': {'message': \"Failed to generate JSON. Please adjust your prompt. See 'failed_generation' for more details.\", 'type': 'invalid_request_error', 'code': 'json_validate_failed', 'failed_generation': '{\"reasoning\": \"The speaker is a member of the \"\"The Fatherland\"\" faction and is strongly criticizing the bill, calling it \"\"anti-national\"\" and \"\"unnecessary\"\". They are also questioning the quality of the bill and proposing amendments to change it. This tone and language are typical of opposition politicians.\", \"prediction\": \"opposition\"}'}}\n"
     ]
    },
    {
     "name": "stderr",
     "output_type": "stream",
     "text": [
      "Accuracy: 0.70:  61%|██████▏   | 411/670 [38:12<13:01,  3.02s/it]  "
     ]
    },
    {
     "name": "stdout",
     "output_type": "stream",
     "text": [
      "Error code: 400 - {'error': {'message': \"Failed to generate JSON. Please adjust your prompt. See 'failed_generation' for more details.\", 'type': 'invalid_request_error', 'code': 'json_validate_failed', 'failed_generation': '{\"reasoning\": \"The speaker addresses others as \"\"colleagues, brothers\"\", which suggests a sense of camaraderie and shared goals. The speaker also ends with a patriotic phrase \"\"Glory to Ukraine!\"\", which is often used by Ukrainian nationalists. The tone is more emotional and less formal than usual parliamentary speeches. This suggests that the speaker is from the coalition, which often uses more emotional and patriotic rhetoric.\", \"prediction\": \"coalition\"}'}}\n",
      "Error code: 400 - {'error': {'message': \"Failed to generate JSON. Please adjust your prompt. See 'failed_generation' for more details.\", 'type': 'invalid_request_error', 'code': 'json_validate_failed', 'failed_generation': '{\"reasoning\": \"The speaker addresses colleagues as \"\"brothers\"\", which suggests a sense of camaraderie and shared goals. The speaker also ends with \"\"Glory to Ukraine!\"\", which is a patriotic phrase often used by Ukrainian nationalists. The tone is also somewhat critical, but in a constructive way, suggesting that the speaker is trying to improve the situation rather than simply oppose it. All these cues suggest that the speaker is from the coalition.\", \"prediction\": \"coalition\"}'}}\n",
      "Error code: 400 - {'error': {'message': \"Failed to generate JSON. Please adjust your prompt. See 'failed_generation' for more details.\", 'type': 'invalid_request_error', 'code': 'json_validate_failed', 'failed_generation': '{\"reasoning\": \"The speaker addresses colleagues as \"\"brothers\"\", which suggests a sense of camaraderie and shared goals. The tone is informative and cautionary, rather than confrontational or critical. The speaker is concerned with ensuring that legal procedures are followed, but does not express opposition to the government or its actions. The final phrase \"\"Glory to Ukraine!\"\" is a patriotic expression commonly used by Ukrainian nationalists. Based on these cues, it is likely that the speaker is from the coalition.\", \"prediction\": \"coalition\"}'}}\n",
      "Error code: 400 - {'error': {'message': \"Failed to generate JSON. Please adjust your prompt. See 'failed_generation' for more details.\", 'type': 'invalid_request_error', 'code': 'json_validate_failed', 'failed_generation': '{\"reasoning\": \"The speaker addresses colleagues and brothers, which suggests a sense of camaraderie and shared purpose. The tone is informative and cautionary, urging colleagues to ensure that legal procedures are followed. The final phrase \"\"Glory to Ukraine!\"\" is a well-known Ukrainian nationalist slogan, often associated with nationalist and patriotic groups. This suggests that the speaker is likely from the coalition, which often includes nationalist and patriotic elements.\", \"prediction\": \"coalition\"}'}}\n"
     ]
    },
    {
     "name": "stderr",
     "output_type": "stream",
     "text": [
      "Accuracy: 0.70:  63%|██████▎   | 420/670 [39:11<48:30, 11.64s/it]"
     ]
    },
    {
     "name": "stdout",
     "output_type": "stream",
     "text": [
      "Error code: 400 - {'error': {'message': \"Failed to generate JSON. Please adjust your prompt. See 'failed_generation' for more details.\", 'type': 'invalid_request_error', 'code': 'json_validate_failed', 'failed_generation': '{\"reasoning\": \"The speaker is very emotional and critical towards the majority, using strong words like \"\"shame\"\", \"\"disgusting\"\". The speaker is also proposing amendments and criticizing the majority\\'s decisions, which suggests that the speaker is from the opposition.\", \"prediction\": \"opposition\"}'}}\n",
      "Error code: 400 - {'error': {'message': \"Failed to generate JSON. Please adjust your prompt. See 'failed_generation' for more details.\", 'type': 'invalid_request_error', 'code': 'json_validate_failed', 'failed_generation': '{\"reasoning\": \"The speaker is very emotional and critical towards the majority, using strong words like \"\"shame\"\", \"\"disgusting\"\". The speaker is also proposing amendments and criticizing the majority\\'s decisions, which suggests that the speaker is from the opposition.\", \"prediction\": \"opposition\"}'}}\n",
      "Error code: 400 - {'error': {'message': \"Failed to generate JSON. Please adjust your prompt. See 'failed_generation' for more details.\", 'type': 'invalid_request_error', 'code': 'json_validate_failed', 'failed_generation': '{\"reasoning\": \"The speaker is very emotional and critical towards the majority, using phrases like \"\"Shame! Well, that\\'s disgusting!\"\" and addressing the chairman in a confrontational manner. The speaker is also proposing amendments to a bill and trying to persuade the majority to support them. This emotional and critical tone suggests that the speaker is from the opposition.\", \"prediction\": \"opposition\"}'}}\n",
      "Error code: 400 - {'error': {'message': \"Failed to generate JSON. Please adjust your prompt. See 'failed_generation' for more details.\", 'type': 'invalid_request_error', 'code': 'json_validate_failed', 'failed_generation': '{\"reasoning\": \"The speaker is very emotional and critical towards the majority, using strong words like \"\"Shame!\"\", \"\"Disgusting!\"\". The speaker is also very passionate about the issue, using phrases like \"\"I hope that now the MPs have enough courage and conscience\"\". The tone is confrontational and critical, which suggests that the speaker belongs to the opposition.\", \"prediction\": \"opposition\"}'}}\n"
     ]
    },
    {
     "name": "stderr",
     "output_type": "stream",
     "text": [
      "Accuracy: 0.70:  63%|██████▎   | 421/670 [39:19<44:24, 10.70s/it]"
     ]
    },
    {
     "name": "stdout",
     "output_type": "stream",
     "text": [
      "Error code: 400 - {'error': {'message': \"Failed to generate JSON. Please adjust your prompt. See 'failed_generation' for more details.\", 'type': 'invalid_request_error', 'code': 'json_validate_failed', 'failed_generation': '{\"reasoning\": \"The speaker is emotional, criticizing the ruling party and using strong language (\"Shame!\", \"Disgusting!\"), which is typical of opposition rhetoric. The speaker also proposes amendments to a bill, arguing for more funding for healthcare workers and vaccinated people, and is critical of the government\\'s allocation of funds.\", \"prediction\": \"opposition\"}'}}\n"
     ]
    },
    {
     "name": "stderr",
     "output_type": "stream",
     "text": [
      "Accuracy: 0.71:  67%|██████▋   | 451/670 [41:53<38:17, 10.49s/it]"
     ]
    },
    {
     "name": "stdout",
     "output_type": "stream",
     "text": [
      "Error code: 400 - {'error': {'message': \"Failed to generate JSON. Please adjust your prompt. See 'failed_generation' for more details.\", 'type': 'invalid_request_error', 'code': 'json_validate_failed', 'failed_generation': '{\"reasoning\": \"The speaker is criticizing the Ministry of Finance and the DFS for their inaction in controlling the import of technical perfumery spirits and not supporting the domestic alcohol industry. The tone is aggressive and confrontational, with a rhetorical question \"\"Who do you work for?\"\". This kind of criticism and tone is typical of opposition members.\", \"prediction\": \"opposition\"}'}}\n",
      "Error code: 400 - {'error': {'message': \"Failed to generate JSON. Please adjust your prompt. See 'failed_generation' for more details.\", 'type': 'invalid_request_error', 'code': 'json_validate_failed', 'failed_generation': '{\"reasoning\": \"The speaker is criticizing the Ministry of Finance and the DFS for their inaction in controlling the import of technical perfumery spirits and not supporting the domestic alcohol industry. The tone is confrontational and emotional, with a rhetorical question \"\"Who do you work for?\"\". This kind of criticism and emotional tone is typical of opposition members.\", \"prediction\": \"opposition\"}'}}\n"
     ]
    },
    {
     "name": "stderr",
     "output_type": "stream",
     "text": [
      "Accuracy: 0.70:  69%|██████▉   | 461/670 [42:21<09:42,  2.79s/it]"
     ]
    },
    {
     "name": "stdout",
     "output_type": "stream",
     "text": [
      "Error code: 400 - {'error': {'message': \"Failed to generate JSON. Please adjust your prompt. See 'failed_generation' for more details.\", 'type': 'invalid_request_error', 'code': 'json_validate_failed', 'failed_generation': '{\"reasoning\": \"The speaker addresses the President, fellow Members, and uses phrases like \"\"my fellow Members\"\" and \"\"dear colleagues\"\", which suggests a sense of camaraderie and belonging. The speaker is also urging others to support a proposal, which implies that they are part of the coalition or majority.\", \"prediction\": \"coalition\"}'}}\n"
     ]
    },
    {
     "name": "stderr",
     "output_type": "stream",
     "text": [
      "Accuracy: 0.70:  76%|███████▌  | 506/670 [48:33<14:29,  5.30s/it]  "
     ]
    },
    {
     "name": "stdout",
     "output_type": "stream",
     "text": [
      "Error code: 400 - {'error': {'message': \"Failed to generate JSON. Please adjust your prompt. See 'failed_generation' for more details.\", 'type': 'invalid_request_error', 'code': 'json_validate_failed', 'failed_generation': '{\"reasoning\": \"The speaker is calling for support for environmental laws and criticizes the lack of attention to environmental issues. The tone is emotional and passionate, with a sense of urgency. The speaker also ends with a patriotic phrase \"\"Hail Ukraine!\"\", which suggests that they are part of the coalition.\", \"prediction\": \"coalition\"}'}}\n",
      "Error code: 400 - {'error': {'message': \"Failed to generate JSON. Please adjust your prompt. See 'failed_generation' for more details.\", 'type': 'invalid_request_error', 'code': 'json_validate_failed', 'failed_generation': '{\"reasoning\": \"The speaker is calling for support for environmental laws and criticizes the lack of attention to environmental issues. The tone is emotional and passionate, with a sense of urgency. The speaker also ends with a patriotic phrase \"\"Hail Ukraine!\"\", which suggests that they are part of the coalition.\", \"prediction\": \"coalition\"}'}}\n",
      "Error code: 400 - {'error': {'message': \"Failed to generate JSON. Please adjust your prompt. See 'failed_generation' for more details.\", 'type': 'invalid_request_error', 'code': 'json_validate_failed', 'failed_generation': '{\"reasoning\": \"The speaker is calling for support for environmental laws and criticizes the lack of attention to environmental issues. The tone is emotional and passionate, with a sense of urgency. The speaker also ends with a patriotic phrase \"\"Hail Ukraine!\"\" which is often used by coalition politicians. Therefore, the speaker is likely from the coalition.\", \"prediction\": \"coalition\"}'}}\n",
      "Error code: 400 - {'error': {'message': \"Failed to generate JSON. Please adjust your prompt. See 'failed_generation' for more details.\", 'type': 'invalid_request_error', 'code': 'json_validate_failed', 'failed_generation': '{\"reasoning\": \"The speaker is very passionate and enthusiastic, using phrases like \"\"Hail Ukraine!\"\" and \"\"my friends\"\". They are also very critical of the current state of environmental policies, calling it a \"\"disaster\"\". The tone is emotional and persuasive, which suggests that the speaker is from the opposition, trying to convince others to support their cause.\", \"prediction\": \"opposition\"}'}}\n"
     ]
    },
    {
     "name": "stderr",
     "output_type": "stream",
     "text": [
      "Accuracy: 0.70:  76%|███████▋  | 511/670 [48:49<07:51,  2.97s/it]"
     ]
    },
    {
     "name": "stdout",
     "output_type": "stream",
     "text": [
      "Error code: 400 - {'error': {'message': \"Failed to generate JSON. Please adjust your prompt. See 'failed_generation' for more details.\", 'type': 'invalid_request_error', 'code': 'json_validate_failed', 'failed_generation': '{\"reasoning\": \"The speaker is from the opposition faction \"\"The Opposition Platform for Life\"\". He is criticizing the government and the majority faction, accusing them of not properly investigating a crime in Odessa in 2014. He is also asking for a moment of silence to honor the victims. The tone is critical and emotional, which is typical of opposition speeches.\", \"prediction\": \"opposition\"}'}}\n"
     ]
    },
    {
     "name": "stderr",
     "output_type": "stream",
     "text": [
      "Accuracy: 0.71:  81%|████████▏ | 545/670 [50:52<03:31,  1.70s/it]"
     ]
    },
    {
     "name": "stdout",
     "output_type": "stream",
     "text": [
      "Error code: 400 - {'error': {'message': \"Failed to generate JSON. Please adjust your prompt. See 'failed_generation' for more details.\", 'type': 'invalid_request_error', 'code': 'json_validate_failed', 'failed_generation': '{\"reasoning\": \"The speaker is supporting a bill and explaining its benefits, using phrases like \"\"will provide a legislative basis\"\" and \"\"will significantly enhance the capacity\"\". The tone is positive and encouraging, and the speaker announces that their faction will vote in favour of the bill. This suggests that the speaker is from the coalition.\", \"prediction\": \"coalition\"}'}}\n"
     ]
    },
    {
     "name": "stderr",
     "output_type": "stream",
     "text": [
      "Accuracy: 0.71:  84%|████████▎ | 561/670 [51:36<07:53,  4.34s/it]"
     ]
    },
    {
     "name": "stdout",
     "output_type": "stream",
     "text": [
      "Error code: 400 - {'error': {'message': \"Failed to generate JSON. Please adjust your prompt. See 'failed_generation' for more details.\", 'type': 'invalid_request_error', 'code': 'json_validate_failed', 'failed_generation': '{\"reasoning\": \"The speaker is addressing Mrs. Oksana, which suggests a respectful tone. The speaker is also asking colleagues to reject a certain amendment, which implies that they are not in the majority. The speaker is also using phrases like \"\"State discredit\"\", which implies a critical tone towards the government. Therefore, the speaker is likely from the opposition.\", \"prediction\": \"opposition\"}'}}\n",
      "Error code: 400 - {'error': {'message': \"Failed to generate JSON. Please adjust your prompt. See 'failed_generation' for more details.\", 'type': 'invalid_request_error', 'code': 'json_validate_failed', 'failed_generation': '{\"reasoning\": \"The speaker is addressing Mrs. Oksana, which suggests a respectful tone. The speaker is also asking colleagues to reject an amendment, which implies that they are not in the majority. The speaker is also using phrases like \"\"State discredit\"\", which implies a critical tone towards the government. Therefore, the speaker is likely from the opposition.\", \"prediction\": \"opposition\"}'}}\n"
     ]
    },
    {
     "name": "stderr",
     "output_type": "stream",
     "text": [
      "Accuracy: 0.71:  88%|████████▊ | 588/670 [55:40<10:04,  7.38s/it]"
     ]
    },
    {
     "name": "stdout",
     "output_type": "stream",
     "text": [
      "Error code: 400 - {'error': {'message': \"Failed to generate JSON. Please adjust your prompt. See 'failed_generation' for more details.\", 'type': 'invalid_request_error', 'code': 'json_validate_failed', 'failed_generation': '{\"reasoning\": \"The speaker is strongly opposing the bill, calling it \"\"very dangerous\"\" and \"\"harmful\"\". They are proposing amendments to make the bill less harmful, but ultimately want the bill to be rejected. The speaker is also calling for a nationwide referendum on the bill, which suggests they are not part of the ruling coalition. The tone is critical and urgent, which is typical of opposition speeches.\", \"prediction\": \"opposition\"}'}}\n",
      "Error code: 400 - {'error': {'message': \"Failed to generate JSON. Please adjust your prompt. See 'failed_generation' for more details.\", 'type': 'invalid_request_error', 'code': 'json_validate_failed', 'failed_generation': '{\"reasoning\": \"The speaker strongly opposes the bill, calling it \"\"very dangerous\"\" and \"\"harmful\"\". They propose amendments to make the bill less harmful, and even suggest a nationwide referendum on the issue. The tone is critical and urgent, with a focus on protecting citizens, families, and children. This suggests that the speaker is from the opposition.\", \"prediction\": \"opposition\"}'}}\n",
      "Error code: 400 - {'error': {'message': \"Failed to generate JSON. Please adjust your prompt. See 'failed_generation' for more details.\", 'type': 'invalid_request_error', 'code': 'json_validate_failed', 'failed_generation': '{\"reasoning\": \"The speaker strongly opposes the bill, calling it \"\"very dangerous\"\" and \"\"harmful\"\". They also mention that their faction insists on a nationwide referendum, which suggests that they are not part of the majority. The tone is critical and urgent, with the speaker trying to persuade others to reject the bill or at least make significant changes.\", \"prediction\": \"opposition\"}'}}\n",
      "Error code: 400 - {'error': {'message': \"Failed to generate JSON. Please adjust your prompt. See 'failed_generation' for more details.\", 'type': 'invalid_request_error', 'code': 'json_validate_failed', 'failed_generation': '{\"reasoning\": \"The speaker strongly opposes the bill, calling it \"\"dangerous\"\" and demanding that it be rejected. They also propose several amendments to mitigate the harm they believe the bill will cause. The speaker\\'s tone is critical and urgent, and they appeal to the majority MPs to listen to their concerns. This suggests that the speaker is from the opposition.\", \"prediction\": \"opposition\"}'}}\n"
     ]
    },
    {
     "name": "stderr",
     "output_type": "stream",
     "text": [
      "Accuracy: 0.71:  88%|████████▊ | 589/670 [55:50<10:50,  8.03s/it]"
     ]
    },
    {
     "name": "stdout",
     "output_type": "stream",
     "text": [
      "Error code: 400 - {'error': {'message': \"Failed to generate JSON. Please adjust your prompt. See 'failed_generation' for more details.\", 'type': 'invalid_request_error', 'code': 'json_validate_failed', 'failed_generation': '{\"reasoning\": \"The speaker is strongly opposing a bill, calling it \"\"dangerous\"\" and \"\"harmful\"\", and advocating for its rejection. They also propose amendments to make the bill \"\"less dangerous\"\". The tone is critical and warning, and the speaker appeals to the majority MPs to listen to their concerns. This kind of opposition to the bill and attempts to modify it suggest that the speaker is from the opposition.\", \"prediction\": \"opposition\"}'}}\n"
     ]
    },
    {
     "name": "stderr",
     "output_type": "stream",
     "text": [
      "Accuracy: 0.71:  88%|████████▊ | 590/670 [55:52<08:15,  6.20s/it]"
     ]
    },
    {
     "name": "stdout",
     "output_type": "stream",
     "text": [
      "Error code: 400 - {'error': {'message': \"Failed to generate JSON. Please adjust your prompt. See 'failed_generation' for more details.\", 'type': 'invalid_request_error', 'code': 'json_validate_failed', 'failed_generation': '{\"reasoning\": \"The speaker is trying to persuade colleagues to support a draft, using phrases like \"\"I\\'m begging you to support me\"\". The tone is polite and conciliatory, and the speaker is trying to reassure colleagues that the draft is purely technical and not politically motivated. This suggests that the speaker is from the coalition.\", \"prediction\": \"coalition\"}'}}\n"
     ]
    },
    {
     "name": "stderr",
     "output_type": "stream",
     "text": [
      "Accuracy: 0.71:  89%|████████▊ | 593/670 [56:02<05:21,  4.18s/it]"
     ]
    },
    {
     "name": "stdout",
     "output_type": "stream",
     "text": [
      "Error code: 400 - {'error': {'message': \"Failed to generate JSON. Please adjust your prompt. See 'failed_generation' for more details.\", 'type': 'invalid_request_error', 'code': 'json_validate_failed', 'failed_generation': '{\"reasoning\": \"The speaker is criticizing the President and the bill, using strong language like \"\"disgraceful phenomenon\"\" and \"\"disgrace\"\". The speaker is also questioning the President\\'s actions and motives, implying that the President is not acting in good faith. This kind of criticism and skepticism towards the government is typical of opposition speeches.\", \"prediction\": \"opposition\"}'}}\n",
      "Error code: 400 - {'error': {'message': \"Failed to generate JSON. Please adjust your prompt. See 'failed_generation' for more details.\", 'type': 'invalid_request_error', 'code': 'json_validate_failed', 'failed_generation': '{\"reasoning\": \"The speaker is criticizing the President and the bill, accusing them of being \"\"disgraceful\"\". The tone is confrontational and critical, suggesting that the speaker is from the opposition.\", \"prediction\": \"opposition\"}'}}\n",
      "Error code: 400 - {'error': {'message': \"Failed to generate JSON. Please adjust your prompt. See 'failed_generation' for more details.\", 'type': 'invalid_request_error', 'code': 'json_validate_failed', 'failed_generation': '{\"reasoning\": \"The speaker is questioning and criticizing the President\\'s actions and the bill, using strong words like \"\"disgraceful phenomenon\"\" and \"\"disgrace\"\". The tone is confrontational and accusatory. This suggests that the speaker is from the opposition.\", \"prediction\": \"opposition\"}'}}\n",
      "Error code: 400 - {'error': {'message': \"Failed to generate JSON. Please adjust your prompt. See 'failed_generation' for more details.\", 'type': 'invalid_request_error', 'code': 'json_validate_failed', 'failed_generation': '{\"reasoning\": \"The speaker is critical of the President and the bill, using phrases like \"\"disgraceful phenomenon\"\" and \"\"disgrace\"\". The speaker also implies that the President\\'s Office has undue influence over the bill and that the President\\'s veto is questionable. This kind of criticism and skepticism towards the ruling power suggests that the speaker is from the opposition.\", \"prediction\": \"opposition\"}'}}\n"
     ]
    },
    {
     "name": "stderr",
     "output_type": "stream",
     "text": [
      "Accuracy: 0.71:  91%|█████████ | 609/670 [57:07<04:17,  4.22s/it]"
     ]
    },
    {
     "name": "stdout",
     "output_type": "stream",
     "text": [
      "Error code: 400 - {'error': {'message': \"Failed to generate JSON. Please adjust your prompt. See 'failed_generation' for more details.\", 'type': 'invalid_request_error', 'code': 'json_validate_failed', 'failed_generation': '{\"reasoning\": \"The speaker addresses colleagues, uses phrases like \"\"my friends\"\" and \"\"thank you\"\", which suggests a friendly and respectful tone. The speaker is trying to persuade others to adopt a law, which implies that they are part of the coalition.\", \"prediction\": \"coalition\"}'}}\n"
     ]
    },
    {
     "name": "stderr",
     "output_type": "stream",
     "text": [
      "Accuracy: 0.71:  98%|█████████▊| 654/670 [1:00:13<01:57,  7.32s/it]"
     ]
    },
    {
     "name": "stdout",
     "output_type": "stream",
     "text": [
      "Error code: 400 - {'error': {'message': \"Failed to generate JSON. Please adjust your prompt. See 'failed_generation' for more details.\", 'type': 'invalid_request_error', 'code': 'json_validate_failed', 'failed_generation': '{\"reasoning\": \"The speaker is criticizing the current state of Ukraine, the judicial system, and the government. The tone is critical and demanding, with a sense of urgency. The speaker is proposing radical reforms and institutional changes, and is pushing for the adoption of various bills. The language used is strong and emotive, with phrases like \"\"a parallel world\"\", \"\"a chasm\"\", and \"\"a disgrace to the leadership of the state\"\". This kind of language is typical of opposition politicians.\", \"prediction\": \"opposition\"}'}}\n"
     ]
    },
    {
     "name": "stderr",
     "output_type": "stream",
     "text": [
      "Accuracy: 0.71:  98%|█████████▊| 656/670 [1:00:23<01:23,  5.93s/it]"
     ]
    },
    {
     "name": "stdout",
     "output_type": "stream",
     "text": [
      "Error code: 400 - {'error': {'message': \"Failed to generate JSON. Please adjust your prompt. See 'failed_generation' for more details.\", 'type': 'invalid_request_error', 'code': 'json_validate_failed', 'failed_generation': '{\"reasoning\": \"The speaker is very critical of the government and the ruling party, accusing them of betraying Ukraine\\'s national interests and serving foreign interests. The tone is very aggressive and emotional, with personal attacks on the head of the government. The speaker also uses strong language, calling the government \"\"marauders and robbers\"\". This kind of rhetoric is typical of opposition politicians.\", \"prediction\": \"opposition\"}'}}\n",
      "Error code: 400 - {'error': {'message': \"Failed to generate JSON. Please adjust your prompt. See 'failed_generation' for more details.\", 'type': 'invalid_request_error', 'code': 'json_validate_failed', 'failed_generation': '{\"reasoning\": \"The speaker is very critical of the government and the ruling party, accusing them of betraying Ukraine\\'s national interests and serving foreign interests. The tone is aggressive and emotional, with personal attacks on the government officials. The speaker also uses strong language, calling them \"\"marauders and robbers\"\". This kind of rhetoric is typical of opposition politicians.\", \"prediction\": \"opposition\"}'}}\n",
      "Error code: 400 - {'error': {'message': \"Failed to generate JSON. Please adjust your prompt. See 'failed_generation' for more details.\", 'type': 'invalid_request_error', 'code': 'json_validate_failed', 'failed_generation': '{\"reasoning\": \"The speaker is very critical of the government and the ruling party, accusing them of betraying Ukraine\\'s national interests. The tone is aggressive and emotional, with personal attacks on the head of the government. The speaker also uses strong language, calling the government \"\"marauders, robbers\"\". This kind of rhetoric is typical of opposition politicians.\", \"prediction\": \"opposition\"}'}}\n",
      "Error code: 400 - {'error': {'message': \"Failed to generate JSON. Please adjust your prompt. See 'failed_generation' for more details.\", 'type': 'invalid_request_error', 'code': 'json_validate_failed', 'failed_generation': '{\"reasoning\": \"The speaker is very critical of the government and the ruling party, using strong language to accuse them of betraying Ukraine\\'s national interests. The speaker also mentions specific policies and laws that they disagree with, and implies that the government is corrupt and only interested in personal gain. The tone is confrontational and emotional, with the speaker using phrases like \"\"marauders and robbers\"\". This kind of language is typical of opposition politicians.\", \"prediction\": \"opposition\"}'}}\n"
     ]
    },
    {
     "name": "stderr",
     "output_type": "stream",
     "text": [
      "Accuracy: 0.71:  98%|█████████▊| 657/670 [1:00:37<01:50,  8.49s/it]"
     ]
    },
    {
     "name": "stdout",
     "output_type": "stream",
     "text": [
      "Error code: 400 - {'error': {'message': \"Failed to generate JSON. Please adjust your prompt. See 'failed_generation' for more details.\", 'type': 'invalid_request_error', 'code': 'json_validate_failed', 'failed_generation': '{\"reasoning\": \"The speaker is calling for support for a draft decision, which was developed by a party and signed by all faction heads. The tone is emotional and passionate, with strong criticism towards Russia and Putin. The speaker is using strong language, calling Russia a \"\"terrorist state\"\". This kind of rhetoric is typical for opposition politicians, who often use strong language to criticize the government or other countries.\", \"prediction\": \"opposition\"}'}}\n"
     ]
    },
    {
     "name": "stderr",
     "output_type": "stream",
     "text": [
      "Accuracy: 0.71: 100%|█████████▉| 669/670 [1:01:24<00:04,  4.22s/it]"
     ]
    },
    {
     "name": "stdout",
     "output_type": "stream",
     "text": [
      "Error code: 429 - {'error': {'message': 'Rate limit reached for model `llama3-70b-8192` in organization `org_01hxy93jbdfyjv7ffybcry6r6c` on tokens per minute (TPM): Limit 6000, Used 0, Requested ~6112. Please try again in 1.12s. Visit https://console.groq.com/docs/rate-limits for more information.', 'type': 'tokens', 'code': 'rate_limit_exceeded'}}\n",
      "Error code: 429 - {'error': {'message': 'Rate limit reached for model `llama3-70b-8192` in organization `org_01hxy93jbdfyjv7ffybcry6r6c` on tokens per minute (TPM): Limit 6000, Used 0, Requested ~6112. Please try again in 1.12s. Visit https://console.groq.com/docs/rate-limits for more information.', 'type': 'tokens', 'code': 'rate_limit_exceeded'}}\n",
      "Error code: 429 - {'error': {'message': 'Rate limit reached for model `llama3-70b-8192` in organization `org_01hxy93jbdfyjv7ffybcry6r6c` on tokens per minute (TPM): Limit 6000, Used 0, Requested ~6112. Please try again in 1.12s. Visit https://console.groq.com/docs/rate-limits for more information.', 'type': 'tokens', 'code': 'rate_limit_exceeded'}}\n",
      "Error code: 429 - {'error': {'message': 'Rate limit reached for model `llama3-70b-8192` in organization `org_01hxy93jbdfyjv7ffybcry6r6c` on tokens per minute (TPM): Limit 6000, Used 0, Requested ~6112. Please try again in 1.12s. Visit https://console.groq.com/docs/rate-limits for more information.', 'type': 'tokens', 'code': 'rate_limit_exceeded'}}\n"
     ]
    },
    {
     "name": "stderr",
     "output_type": "stream",
     "text": [
      "Accuracy: 0.71: 100%|██████████| 670/670 [1:02:17<00:00,  5.58s/it]"
     ]
    },
    {
     "name": "stdout",
     "output_type": "stream",
     "text": [
      "Error code: 429 - {'error': {'message': 'Rate limit reached for model `llama3-70b-8192` in organization `org_01hxy93jbdfyjv7ffybcry6r6c` on tokens per minute (TPM): Limit 6000, Used 0, Requested ~6112. Please try again in 1.12s. Visit https://console.groq.com/docs/rate-limits for more information.', 'type': 'tokens', 'code': 'rate_limit_exceeded'}}\n"
     ]
    },
    {
     "name": "stderr",
     "output_type": "stream",
     "text": [
      "\n"
     ]
    }
   ],
   "source": [
    "NUM_SAMPLES = 670   # in order to compare with 0-shot learning\n",
    "# NUM_SAMPLES = int(data.shape[0] * 0.2)  # 20% of the data\n",
    "error_counter = 0\n",
    "\n",
    "for index, entry in (tqdm_bar := tqdm(data.iloc[:NUM_SAMPLES].iterrows(), total=NUM_SAMPLES)):\n",
    "    text = entry['text']\n",
    "    response = get_response_few_shot(text, few_shots_data)\n",
    "    if not response:\n",
    "        error_counter += 1\n",
    "        continue\n",
    "    if response['prediction'] not in ['coalition', 'opposition']:\n",
    "        error_counter += 1\n",
    "        continue\n",
    "    data.loc[index, 'prediction'] = response['prediction']\n",
    "    data.loc[index, 'reasoning'] = response['reasoning']\n",
    "    data.loc[index, 'labeled_prediction'] = int(data.loc[index, 'prediction'] == 'opposition')\n",
    "\n",
    "    # Update true/false count to see in the progress bar \n",
    "    data_subset = data.loc[:index].dropna(subset=['labeled_prediction', 'prediction'])\n",
    "    distribution = (data_subset['labeled_prediction'] == data_subset['label']).value_counts(normalize=True)\n",
    "    tqdm_bar.set_description(f\"Accuracy: {distribution.get(True, 0):.2f}\")"
   ]
  },
  {
   "cell_type": "code",
   "execution_count": 18,
   "metadata": {},
   "outputs": [
    {
     "name": "stdout",
     "output_type": "stream",
     "text": [
      "Accuracy: 0.71\n",
      "Errors: 6\n"
     ]
    }
   ],
   "source": [
    "data_subset = data.dropna(subset=['labeled_prediction', 'prediction'])\n",
    "distribution = (data_subset['labeled_prediction'] == data_subset['label']).value_counts(normalize=True)\n",
    "print(f\"Accuracy: {distribution.get(True, 0):.2f}\")\n",
    "print(f'Errors:', error_counter)"
   ]
  },
  {
   "cell_type": "code",
   "execution_count": 20,
   "metadata": {},
   "outputs": [],
   "source": [
    "# save the results into a csv file\n",
    "import os \n",
    "\n",
    "FOLDER_PATH = 'results'\n",
    "\n",
    "if not os.path.exists(FOLDER_PATH):\n",
    "    os.makedirs(FOLDER_PATH)\n",
    "\n",
    "data.to_csv('results/power-ua-results-curated.tsv', sep='\\t')"
   ]
  }
 ],
 "metadata": {
  "kernelspec": {
   "display_name": "uuenv",
   "language": "python",
   "name": "python3"
  },
  "language_info": {
   "codemirror_mode": {
    "name": "ipython",
    "version": 3
   },
   "file_extension": ".py",
   "mimetype": "text/x-python",
   "name": "python",
   "nbconvert_exporter": "python",
   "pygments_lexer": "ipython3",
   "version": "3.12.1"
  }
 },
 "nbformat": 4,
 "nbformat_minor": 2
}
