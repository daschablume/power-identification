{
 "cells": [
  {
   "cell_type": "markdown",
   "metadata": {},
   "source": [
    "Before staring working with groq, register on the website and receive your own unike API key. "
   ]
  },
  {
   "cell_type": "code",
   "execution_count": 20,
   "metadata": {},
   "outputs": [],
   "source": [
    "from groq_api import KEY\n",
    "from groq import Groq\n",
    "import numpy as np\n",
    "import pandas as pd\n",
    "\n",
    "from tqdm import tqdm\n",
    "\n",
    "\n",
    "CLIENT = Groq(api_key=KEY)\n",
    "PATH = 'data/power/power-ua-train.tsv'\n"
   ]
  },
  {
   "cell_type": "markdown",
   "metadata": {},
   "source": [
    "Read csv file as a pandas dataframe, set index to the index from the csv file, add \"prediction\" and \"reasoning\" columns.\n",
    "Lastly, shaffle the data (by sampling all the rows in random order), setting random state for reproducibility."
   ]
  },
  {
   "cell_type": "code",
   "execution_count": 12,
   "metadata": {},
   "outputs": [
    {
     "data": {
      "text/html": [
       "<div>\n",
       "<style scoped>\n",
       "    .dataframe tbody tr th:only-of-type {\n",
       "        vertical-align: middle;\n",
       "    }\n",
       "\n",
       "    .dataframe tbody tr th {\n",
       "        vertical-align: top;\n",
       "    }\n",
       "\n",
       "    .dataframe thead th {\n",
       "        text-align: right;\n",
       "    }\n",
       "</style>\n",
       "<table border=\"1\" class=\"dataframe\">\n",
       "  <thead>\n",
       "    <tr style=\"text-align: right;\">\n",
       "      <th></th>\n",
       "      <th>speaker</th>\n",
       "      <th>sex</th>\n",
       "      <th>text</th>\n",
       "      <th>text_en</th>\n",
       "      <th>label</th>\n",
       "      <th>prediction</th>\n",
       "      <th>reasoning</th>\n",
       "      <th>labeled_prediction</th>\n",
       "    </tr>\n",
       "    <tr>\n",
       "      <th>id</th>\n",
       "      <th></th>\n",
       "      <th></th>\n",
       "      <th></th>\n",
       "      <th></th>\n",
       "      <th></th>\n",
       "      <th></th>\n",
       "      <th></th>\n",
       "      <th></th>\n",
       "    </tr>\n",
       "  </thead>\n",
       "  <tbody>\n",
       "    <tr>\n",
       "      <th>ua05796</th>\n",
       "      <td>d18023ad9b6df26ee266bb01fc4c822a</td>\n",
       "      <td>M</td>\n",
       "      <td>Олександр Шевченко, фракція \"&lt;PARTY&gt;\". Ратифік...</td>\n",
       "      <td>Alexander Shevchenko, Freedom faction. Ratific...</td>\n",
       "      <td>1</td>\n",
       "      <td>NaN</td>\n",
       "      <td>NaN</td>\n",
       "      <td>NaN</td>\n",
       "    </tr>\n",
       "    <tr>\n",
       "      <th>ua07362</th>\n",
       "      <td>bea4118a3082afea430ffe03d4343b76</td>\n",
       "      <td>M</td>\n",
       "      <td>Шановний пане Голово, шановні колеги, дозвольт...</td>\n",
       "      <td>Dear Mr. Head, honourable colleagues, let me i...</td>\n",
       "      <td>0</td>\n",
       "      <td>NaN</td>\n",
       "      <td>NaN</td>\n",
       "      <td>NaN</td>\n",
       "    </tr>\n",
       "    <tr>\n",
       "      <th>ua10560</th>\n",
       "      <td>b07c8d09c03a6a3222057c300c84e9fe</td>\n",
       "      <td>M</td>\n",
       "      <td>Олег Купрієнко, &lt;PARTY&gt;. А ще порядок в Україн...</td>\n",
       "      <td>Oleg Kuprienko, Oleg Laska Radical Party. And ...</td>\n",
       "      <td>1</td>\n",
       "      <td>NaN</td>\n",
       "      <td>NaN</td>\n",
       "      <td>NaN</td>\n",
       "    </tr>\n",
       "    <tr>\n",
       "      <th>ua10327</th>\n",
       "      <td>93a1d11f680ed07b734319a5fae11cee</td>\n",
       "      <td>F</td>\n",
       "      <td>По-перше, що стосується військового госпіталю,...</td>\n",
       "      <td>First of all, it's about a military hospital i...</td>\n",
       "      <td>0</td>\n",
       "      <td>NaN</td>\n",
       "      <td>NaN</td>\n",
       "      <td>NaN</td>\n",
       "    </tr>\n",
       "    <tr>\n",
       "      <th>ua15066</th>\n",
       "      <td>e7d36da025052d2213a757d55deeb1d1</td>\n",
       "      <td>M</td>\n",
       "      <td>Шановна президія! Шановні народні депутати! Ре...</td>\n",
       "      <td>Honorable Predestination! Dear National Deputi...</td>\n",
       "      <td>0</td>\n",
       "      <td>NaN</td>\n",
       "      <td>NaN</td>\n",
       "      <td>NaN</td>\n",
       "    </tr>\n",
       "  </tbody>\n",
       "</table>\n",
       "</div>"
      ],
      "text/plain": [
       "                                  speaker sex  \\\n",
       "id                                              \n",
       "ua05796  d18023ad9b6df26ee266bb01fc4c822a   M   \n",
       "ua07362  bea4118a3082afea430ffe03d4343b76   M   \n",
       "ua10560  b07c8d09c03a6a3222057c300c84e9fe   M   \n",
       "ua10327  93a1d11f680ed07b734319a5fae11cee   F   \n",
       "ua15066  e7d36da025052d2213a757d55deeb1d1   M   \n",
       "\n",
       "                                                      text  \\\n",
       "id                                                           \n",
       "ua05796  Олександр Шевченко, фракція \"<PARTY>\". Ратифік...   \n",
       "ua07362  Шановний пане Голово, шановні колеги, дозвольт...   \n",
       "ua10560  Олег Купрієнко, <PARTY>. А ще порядок в Україн...   \n",
       "ua10327  По-перше, що стосується військового госпіталю,...   \n",
       "ua15066  Шановна президія! Шановні народні депутати! Ре...   \n",
       "\n",
       "                                                   text_en  label  prediction  \\\n",
       "id                                                                              \n",
       "ua05796  Alexander Shevchenko, Freedom faction. Ratific...      1         NaN   \n",
       "ua07362  Dear Mr. Head, honourable colleagues, let me i...      0         NaN   \n",
       "ua10560  Oleg Kuprienko, Oleg Laska Radical Party. And ...      1         NaN   \n",
       "ua10327  First of all, it's about a military hospital i...      0         NaN   \n",
       "ua15066  Honorable Predestination! Dear National Deputi...      0         NaN   \n",
       "\n",
       "         reasoning  labeled_prediction  \n",
       "id                                      \n",
       "ua05796        NaN                 NaN  \n",
       "ua07362        NaN                 NaN  \n",
       "ua10560        NaN                 NaN  \n",
       "ua10327        NaN                 NaN  \n",
       "ua15066        NaN                 NaN  "
      ]
     },
     "execution_count": 12,
     "metadata": {},
     "output_type": "execute_result"
    }
   ],
   "source": [
    "data = pd.read_csv(PATH, sep='\\t', index_col=0)\n",
    "# set object column dtype full of nans\n",
    "data['prediction'] = np.nan\n",
    "data['reasoning'] = np.nan\n",
    "data['labeled_prediction'] = np.nan\n",
    "data = data.sample(frac=1, random_state=42)\n",
    "data.head()\n"
   ]
  },
  {
   "cell_type": "code",
   "execution_count": 13,
   "metadata": {},
   "outputs": [
    {
     "name": "stdout",
     "output_type": "stream",
     "text": [
      "Size of data:  11324\n"
     ]
    }
   ],
   "source": [
    "print('Size of data: ', data.shape[0])"
   ]
  },
  {
   "cell_type": "code",
   "execution_count": null,
   "metadata": {},
   "outputs": [],
   "source": [
    "PROMPT = '''You are an expert in Ukrainian political life and parlamentary debates in the 2012-2024 years. Help me identify whether this speech was held by coalition or opposition. First reason about the text and try to find helpful cues. Then provide a final answer. Formulate your response in JSON using the following format: {\"reasoning\": \"...\", \"prediction\": \"coalition or opposition\"}. Make sure to return proper JSON, e.g. don't add superfluous single quotation marks in the end. Don't use any other words in the response, except for \"coalition\" or \"opposition\".'''"
   ]
  },
  {
   "cell_type": "code",
   "execution_count": 14,
   "metadata": {},
   "outputs": [],
   "source": [
    "import json\n",
    "\n",
    "\n",
    "def get_response(text):\n",
    "    messages=[\n",
    "            {\n",
    "                \"role\": \"system\",\n",
    "                \"content\": PROMPT,\n",
    "            },\n",
    "            {\n",
    "                \"role\": \"user\",\n",
    "                \"content\": text,\n",
    "            },\n",
    "        ]\n",
    "    for i in range(5):\n",
    "        try:\n",
    "            chat_completion = CLIENT.chat.completions.create(\n",
    "                messages=messages,\n",
    "                model=\"llama3-70b-8192\",\n",
    "                response_format={\"type\": \"json_object\"},\n",
    "                temperature=0.2 * i,             \n",
    "            )\n",
    "            response_content = chat_completion.choices[0].message.content\n",
    "            response = json.loads(response_content)\n",
    "            return response\n",
    "        except Exception as e:\n",
    "            print(e)\n",
    "            break\n",
    "    else:\n",
    "        return None"
   ]
  },
  {
   "cell_type": "markdown",
   "metadata": {},
   "source": [
    "In order to get examples for a few-shot learning, get a few correctly classified answers from LLama3 and then provide the reasoning in those answers as a prompt to the model."
   ]
  },
  {
   "cell_type": "code",
   "execution_count": 19,
   "metadata": {},
   "outputs": [
    {
     "name": "stderr",
     "output_type": "stream",
     "text": [
      "  0%|          | 0/10 [00:00<?, ?it/s]"
     ]
    },
    {
     "name": "stderr",
     "output_type": "stream",
     "text": [
      "Accuracy: 0.50 Errors: error_counter=0: 100%|██████████| 10/10 [00:14<00:00,  1.41s/it]\n"
     ]
    }
   ],
   "source": [
    "NUM_SAMPLES = 10\n",
    "error_counter = 0\n",
    "\n",
    "for index, entry in (tqdm_bar := tqdm(data.iloc[:NUM_SAMPLES].iterrows(), total=NUM_SAMPLES)):\n",
    "    text = entry['text']\n",
    "    response = get_response(text)\n",
    "    if not response:\n",
    "        error_counter += 1\n",
    "        continue\n",
    "    data.loc[index, 'prediction'] = response['prediction']\n",
    "    data.loc[index, 'reasoning'] = response['reasoning']\n",
    "    if response['prediction'] not in ['coalition', 'opposition']:\n",
    "        tqdm_bar.set_description(f\"Error: {response['prediction']}\")\n",
    "    data.loc[index, 'labeled_prediction'] = int(data.loc[index, 'prediction'] == 'opposition')\n",
    "    # Update true/false count to see in the progress bar \n",
    "    data_subset = data.loc[:index].dropna(subset=['labeled_prediction', 'prediction'])\n",
    "    distribution = (data_subset['labeled_prediction'] == data_subset['label']).value_counts(normalize=True)\n",
    "    tqdm_bar.set_description(\n",
    "        f\"Accuracy: {distribution.get(True, 0):.2f}\" \n",
    "        f\" Errors: {error_counter=}\"\n",
    "    )"
   ]
  },
  {
   "cell_type": "code",
   "execution_count": 6,
   "metadata": {},
   "outputs": [
    {
     "data": {
      "text/html": [
       "<div>\n",
       "<style scoped>\n",
       "    .dataframe tbody tr th:only-of-type {\n",
       "        vertical-align: middle;\n",
       "    }\n",
       "\n",
       "    .dataframe tbody tr th {\n",
       "        vertical-align: top;\n",
       "    }\n",
       "\n",
       "    .dataframe thead th {\n",
       "        text-align: right;\n",
       "    }\n",
       "</style>\n",
       "<table border=\"1\" class=\"dataframe\">\n",
       "  <thead>\n",
       "    <tr style=\"text-align: right;\">\n",
       "      <th></th>\n",
       "      <th>speaker</th>\n",
       "      <th>sex</th>\n",
       "      <th>text</th>\n",
       "      <th>text_en</th>\n",
       "      <th>label</th>\n",
       "      <th>prediction</th>\n",
       "      <th>reasoning</th>\n",
       "      <th>labeled_prediction</th>\n",
       "      <th>json_response</th>\n",
       "    </tr>\n",
       "    <tr>\n",
       "      <th>id</th>\n",
       "      <th></th>\n",
       "      <th></th>\n",
       "      <th></th>\n",
       "      <th></th>\n",
       "      <th></th>\n",
       "      <th></th>\n",
       "      <th></th>\n",
       "      <th></th>\n",
       "      <th></th>\n",
       "    </tr>\n",
       "  </thead>\n",
       "  <tbody>\n",
       "    <tr>\n",
       "      <th>ua07362</th>\n",
       "      <td>bea4118a3082afea430ffe03d4343b76</td>\n",
       "      <td>M</td>\n",
       "      <td>Шановний пане Голово, шановні колеги, дозвольт...</td>\n",
       "      <td>Dear Mr. Head, honourable colleagues, let me i...</td>\n",
       "      <td>0</td>\n",
       "      <td>coalition</td>\n",
       "      <td>The speech is likely to be held by a coalition...</td>\n",
       "      <td>0.0</td>\n",
       "      <td>{\"reasoning\": \"The speech is likely to be held...</td>\n",
       "    </tr>\n",
       "    <tr>\n",
       "      <th>ua10560</th>\n",
       "      <td>b07c8d09c03a6a3222057c300c84e9fe</td>\n",
       "      <td>M</td>\n",
       "      <td>Олег Купрієнко, &lt;PARTY&gt;. А ще порядок в Україн...</td>\n",
       "      <td>Oleg Kuprienko, Oleg Laska Radical Party. And ...</td>\n",
       "      <td>1</td>\n",
       "      <td>opposition</td>\n",
       "      <td>The speaker is demanding that the parliament c...</td>\n",
       "      <td>1.0</td>\n",
       "      <td>{\"reasoning\": \"The speaker is demanding that t...</td>\n",
       "    </tr>\n",
       "    <tr>\n",
       "      <th>ua15066</th>\n",
       "      <td>e7d36da025052d2213a757d55deeb1d1</td>\n",
       "      <td>M</td>\n",
       "      <td>Шановна президія! Шановні народні депутати! Ре...</td>\n",
       "      <td>Honorable Predestination! Dear National Deputi...</td>\n",
       "      <td>0</td>\n",
       "      <td>coalition</td>\n",
       "      <td>The speech is formal and objective, presenting...</td>\n",
       "      <td>0.0</td>\n",
       "      <td>{\"reasoning\": \"The speech is formal and object...</td>\n",
       "    </tr>\n",
       "    <tr>\n",
       "      <th>ua15462</th>\n",
       "      <td>ef4246303aea1a72eb0a68db8ef502c5</td>\n",
       "      <td>M</td>\n",
       "      <td>Шановний Руслан Олексійович, ви збирали, ви зб...</td>\n",
       "      <td>Dear Ruslan Alexiyovich, you've gathered, you'...</td>\n",
       "      <td>1</td>\n",
       "      <td>opposition</td>\n",
       "      <td>The speaker is criticizing the Committee on Eu...</td>\n",
       "      <td>1.0</td>\n",
       "      <td>{\"reasoning\": \"The speaker is criticizing the ...</td>\n",
       "    </tr>\n",
       "  </tbody>\n",
       "</table>\n",
       "</div>"
      ],
      "text/plain": [
       "                                  speaker sex  \\\n",
       "id                                              \n",
       "ua07362  bea4118a3082afea430ffe03d4343b76   M   \n",
       "ua10560  b07c8d09c03a6a3222057c300c84e9fe   M   \n",
       "ua15066  e7d36da025052d2213a757d55deeb1d1   M   \n",
       "ua15462  ef4246303aea1a72eb0a68db8ef502c5   M   \n",
       "\n",
       "                                                      text  \\\n",
       "id                                                           \n",
       "ua07362  Шановний пане Голово, шановні колеги, дозвольт...   \n",
       "ua10560  Олег Купрієнко, <PARTY>. А ще порядок в Україн...   \n",
       "ua15066  Шановна президія! Шановні народні депутати! Ре...   \n",
       "ua15462  Шановний Руслан Олексійович, ви збирали, ви зб...   \n",
       "\n",
       "                                                   text_en  label  prediction  \\\n",
       "id                                                                              \n",
       "ua07362  Dear Mr. Head, honourable colleagues, let me i...      0   coalition   \n",
       "ua10560  Oleg Kuprienko, Oleg Laska Radical Party. And ...      1  opposition   \n",
       "ua15066  Honorable Predestination! Dear National Deputi...      0   coalition   \n",
       "ua15462  Dear Ruslan Alexiyovich, you've gathered, you'...      1  opposition   \n",
       "\n",
       "                                                 reasoning  \\\n",
       "id                                                           \n",
       "ua07362  The speech is likely to be held by a coalition...   \n",
       "ua10560  The speaker is demanding that the parliament c...   \n",
       "ua15066  The speech is formal and objective, presenting...   \n",
       "ua15462  The speaker is criticizing the Committee on Eu...   \n",
       "\n",
       "         labeled_prediction                                      json_response  \n",
       "id                                                                              \n",
       "ua07362                 0.0  {\"reasoning\": \"The speech is likely to be held...  \n",
       "ua10560                 1.0  {\"reasoning\": \"The speaker is demanding that t...  \n",
       "ua15066                 0.0  {\"reasoning\": \"The speech is formal and object...  \n",
       "ua15462                 1.0  {\"reasoning\": \"The speaker is criticizing the ...  "
      ]
     },
     "execution_count": 6,
     "metadata": {},
     "output_type": "execute_result"
    }
   ],
   "source": [
    "filtered_data = data[data['label'] == data['labeled_prediction']][:4]\n",
    "filtered_data[\"json_response\"] = filtered_data.apply(lambda x: f'{{\"reasoning\": \"{x.reasoning}\", \"prediction\": \"{x.prediction}\"}}', axis=1)\n",
    "filtered_data"
   ]
  },
  {
   "cell_type": "code",
   "execution_count": 7,
   "metadata": {},
   "outputs": [],
   "source": [
    "def get_response_few_shot(text, few_shots_data):\n",
    "    messages = [\n",
    "        {\n",
    "            \"role\": \"system\",\n",
    "            \"content\": PROMPT\n",
    "        },\n",
    "    ]\n",
    "    for _, row in few_shots_data.iterrows():\n",
    "        messages.append({\"role\": \"user\", \"content\": row.text})\n",
    "        messages.append({\"role\": \"assistant\", \"content\": row.json_response})\n",
    "\n",
    "    messages.append({\"role\": \"user\", \"content\": text})\n",
    "    \n",
    "    for i in range(5):\n",
    "        try:\n",
    "            \n",
    "            chat_completion = CLIENT.chat.completions.create(\n",
    "                messages=messages,\n",
    "                model=\"llama3-70b-8192\",\n",
    "                response_format={\"type\": \"json_object\"},\n",
    "                temperature=0.2 * i,             \n",
    "            )\n",
    "            response_content = chat_completion.choices[0].message.content\n",
    "            response = json.loads(response_content)\n",
    "            return response\n",
    "        except Exception as e:\n",
    "            print(e)\n",
    "            continue\n",
    "    else:\n",
    "        return None\n"
   ]
  },
  {
   "cell_type": "code",
   "execution_count": 8,
   "metadata": {},
   "outputs": [
    {
     "name": "stderr",
     "output_type": "stream",
     "text": [
      "  0%|          | 0/670 [00:00<?, ?it/s]"
     ]
    },
    {
     "name": "stderr",
     "output_type": "stream",
     "text": [
      "Accuracy: 0.65:  32%|███▏      | 216/670 [30:38<35:46,  4.73s/it]  "
     ]
    },
    {
     "name": "stdout",
     "output_type": "stream",
     "text": [
      "Error code: 429 - {'error': {'message': 'Rate limit reached for model `llama3-70b-8192` in organization `org_01hyxq37sqedzv9mxk1rtkzebz` on tokens per minute (TPM): Limit 6000, Used 0, Requested ~6187. Please try again in 1.87s. Visit https://console.groq.com/docs/rate-limits for more information.', 'type': 'tokens', 'code': 'rate_limit_exceeded'}}\n",
      "Error code: 429 - {'error': {'message': 'Rate limit reached for model `llama3-70b-8192` in organization `org_01hyxq37sqedzv9mxk1rtkzebz` on tokens per minute (TPM): Limit 6000, Used 0, Requested ~6187. Please try again in 1.87s. Visit https://console.groq.com/docs/rate-limits for more information.', 'type': 'tokens', 'code': 'rate_limit_exceeded'}}\n",
      "Error code: 429 - {'error': {'message': 'Rate limit reached for model `llama3-70b-8192` in organization `org_01hyxq37sqedzv9mxk1rtkzebz` on tokens per minute (TPM): Limit 6000, Used 0, Requested ~6187. Please try again in 1.87s. Visit https://console.groq.com/docs/rate-limits for more information.', 'type': 'tokens', 'code': 'rate_limit_exceeded'}}\n",
      "Error code: 429 - {'error': {'message': 'Rate limit reached for model `llama3-70b-8192` in organization `org_01hyxq37sqedzv9mxk1rtkzebz` on tokens per minute (TPM): Limit 6000, Used 0, Requested ~6187. Please try again in 1.87s. Visit https://console.groq.com/docs/rate-limits for more information.', 'type': 'tokens', 'code': 'rate_limit_exceeded'}}\n"
     ]
    },
    {
     "name": "stderr",
     "output_type": "stream",
     "text": [
      "Accuracy: 0.65:  32%|███▏      | 217/670 [31:05<1:26:45, 11.49s/it]"
     ]
    },
    {
     "name": "stdout",
     "output_type": "stream",
     "text": [
      "Error code: 429 - {'error': {'message': 'Rate limit reached for model `llama3-70b-8192` in organization `org_01hyxq37sqedzv9mxk1rtkzebz` on tokens per minute (TPM): Limit 6000, Used 0, Requested ~6187. Please try again in 1.87s. Visit https://console.groq.com/docs/rate-limits for more information.', 'type': 'tokens', 'code': 'rate_limit_exceeded'}}\n"
     ]
    },
    {
     "name": "stderr",
     "output_type": "stream",
     "text": [
      "Accuracy: 0.67:  56%|█████▌    | 373/670 [48:33<10:42,  2.16s/it]  "
     ]
    },
    {
     "name": "stdout",
     "output_type": "stream",
     "text": [
      "Error code: 400 - {'error': {'message': \"Failed to generate JSON. Please adjust your prompt. See 'failed_generation' for more details.\", 'type': 'invalid_request_error', 'code': 'json_validate_failed', 'failed_generation': \"It seems like you're asking about the context of the speeches I analyzed earlier. Based on the content of the speeches, it appears that they are related to the Ukrainian parliament (Verkhovna Rada) and do not specifically mention Ivano-Frankivsk region or city.\\n\\nHowever, I can try to provide some general information. Ivano-Frankivsk is a city in western Ukraine, and it is indeed a city of regional importance. The city has a complex history, and during World War II, it was occupied by Nazi Germany, and some Ukrainian nationalists, including Stepan Bandera, cooperated with the German authorities.\\n\\nRegarding the Pantheon, there is a Memorial Complex in Ivano-Frankivsk that honors Ukrainian nationalists, including Stepan Bandera and Roman Shukhevych, who were involved in the Ukrainian nationalist movement during World War II. However, it's essential to note that the Ukrainian nationalist movement during World War II was complex and had different factions, some of which collaborated with the Nazi regime.\\n\\nIt's difficult to say whether Chertkov, a small town, can be compared to Ivano-Frankivsk, a larger city with a more complex history. Both have their unique characteristics, and it's challenging to make a direct comparison.\\n\\nPlease let me know if you have any further questions or if there's anything else I can help you with!\"}}\n",
      "Error code: 400 - {'error': {'message': \"Failed to generate JSON. Please adjust your prompt. See 'failed_generation' for more details.\", 'type': 'invalid_request_error', 'code': 'json_validate_failed', 'failed_generation': \"It seems like you're asking about the context of the speeches I analyzed earlier. The speeches appear to be from the Ukrainian Parliament (Verkhovna Rada) and do not seem to be related to a specific region like Ivano-Frankivsk. The topics discussed in the speeches are more related to national-level politics, legislation, and parliamentary procedures.\\n\\nRegarding your question about the Pantheon, it's possible that you're referring to the Ukrainian National Liberation Movement Pantheon, which is a memorial complex in Lviv, Ukraine. The Pantheon honors Ukrainian nationalists and independence fighters, including Stepan Bandera and Roman Shukhevych, among others. However, I'm not aware of any direct connection between the speeches I analyzed and the Pantheon or the Collaborant movement.\\n\\nIf you could provide more context or clarify your question, I'd be happy to try and assist you further!\"}}\n",
      "Error code: 400 - {'error': {'message': \"Failed to generate JSON. Please adjust your prompt. See 'failed_generation' for more details.\", 'type': 'invalid_request_error', 'code': 'json_validate_failed', 'failed_generation': \"It seems like you're asking about the context of the speeches I analyzed earlier. It appears that you're referring to a different topic, specifically about Ivano-Frankivsk region and the possibility of a city being granted regional importance.\\n\\nTo answer your question, Ivano-Frankivsk is a city in western Ukraine, and it's the administrative center of Ivano-Frankivsk Oblast. The city has a rich history and cultural heritage, including a Pantheon dedicated to Ukrainian national heroes like Stepan Bandera and Roman Shukhevych, who were involved in the Ukrainian nationalist movement during World War II.\\n\\nRegarding the comparison between Chertkov and Ivano-Frankivsk, it's true that Ivano-Frankivsk has a more prominent historical and cultural significance, with many memorials and monuments dedicated to Ukrainian national heroes. However, without more context, it's difficult to say whether Chertkov is being considered for regional importance or what the specific proposal entails.\\n\\nIf you have more information or clarification about the proposal, I'd be happy to try and help you further!\"}}\n",
      "Error code: 400 - {'error': {'message': \"Failed to generate JSON. Please adjust your prompt. See 'failed_generation' for more details.\", 'type': 'invalid_request_error', 'code': 'json_validate_failed', 'failed_generation': \"It seems like you're asking about Ivano-Frankivsk region and city, not related to the previous conversation about Ukrainian parliament speeches.\\n\\nTo answer your question, Ivano-Frankivsk is a city in western Ukraine, and it is indeed a city of regional importance. The city has a complex history, and during World War II, it was occupied by Nazi Germany, and some Ukrainian nationalists, including Stepan Bandera, cooperated with the German authorities.\\n\\nRegarding the Pantheon, you're likely referring to the Museum of Liberation Struggle in Ivano-Frankivsk, which is dedicated to the Ukrainian national liberation movement. The museum complex includes a pantheon of Ukrainian national heroes, including Stepan Bandera, Roman Shukhevych, and others who fought for Ukrainian independence.\\n\\nIt's worth noting that the legacy of Ukrainian nationalism during World War II is a sensitive topic, and opinions about the role of Ukrainian nationalists during that period vary widely. While some Ukrainians view them as heroes who fought for independence, others criticize their collaboration with the Nazi regime.\\n\\nComparing Chertkov to Ivano-Frankivsk is not entirely fair, as Ivano-Frankivsk is a larger city with a richer history and cultural significance. However, both cities have their own unique characteristics, and Chertkov has its own historical importance in the context of Ukrainian history.\"}}\n"
     ]
    },
    {
     "name": "stderr",
     "output_type": "stream",
     "text": [
      "Accuracy: 0.67:  56%|█████▌    | 374/670 [48:45<24:31,  4.97s/it]"
     ]
    },
    {
     "name": "stdout",
     "output_type": "stream",
     "text": [
      "Error code: 400 - {'error': {'message': \"Failed to generate JSON. Please adjust your prompt. See 'failed_generation' for more details.\", 'type': 'invalid_request_error', 'code': 'json_validate_failed', 'failed_generation': \"I think there might be some confusion here. The conversation we had earlier was about Ukrainian parliamentary debates, and now you're asking about Ivano-Frankivsk region and some specific cities and historical figures. It seems like we've jumped to a different topic.\\n\\nTo answer your question, Ivano-Frankivsk is a city in western Ukraine and is indeed a city of regional importance. As for the Pantheon, I'm not aware of a specific Pantheon on the territory of UN-OPA (which I assume stands for Ukrainian National Liberation Army) that honors figures like Bandera and Shuhevich, who were Ukrainian nationalists involved in the Ukrainian independence movement during World War II. However, there are monuments and memorials dedicated to these figures in various cities across Ukraine, including Ivano-Frankivsk.\\n\\nRegarding the comparison between Chertkov and Ivano-Frankivsk, it's true that Ivano-Frankivsk has a richer history and more significant cultural and historical landmarks, including memorials and museums dedicated to Ukrainian national heroes and historical events.\\n\\nPlease clarify if you'd like more information on this topic or if there's anything else I can help you with!\"}}\n"
     ]
    },
    {
     "name": "stderr",
     "output_type": "stream",
     "text": [
      "Accuracy: 0.69:  89%|████████▉ | 599/670 [1:20:13<05:17,  4.47s/it]"
     ]
    },
    {
     "name": "stdout",
     "output_type": "stream",
     "text": [
      "Error code: 429 - {'error': {'message': 'Rate limit reached for model `llama3-70b-8192` in organization `org_01hyxq37sqedzv9mxk1rtkzebz` on tokens per minute (TPM): Limit 6000, Used 0, Requested ~6165. Please try again in 1.65s. Visit https://console.groq.com/docs/rate-limits for more information.', 'type': 'tokens', 'code': 'rate_limit_exceeded'}}\n",
      "Error code: 429 - {'error': {'message': 'Rate limit reached for model `llama3-70b-8192` in organization `org_01hyxq37sqedzv9mxk1rtkzebz` on tokens per minute (TPM): Limit 6000, Used 0, Requested ~6165. Please try again in 1.65s. Visit https://console.groq.com/docs/rate-limits for more information.', 'type': 'tokens', 'code': 'rate_limit_exceeded'}}\n",
      "Error code: 429 - {'error': {'message': 'Rate limit reached for model `llama3-70b-8192` in organization `org_01hyxq37sqedzv9mxk1rtkzebz` on tokens per minute (TPM): Limit 6000, Used 0, Requested ~6165. Please try again in 1.65s. Visit https://console.groq.com/docs/rate-limits for more information.', 'type': 'tokens', 'code': 'rate_limit_exceeded'}}\n",
      "Error code: 429 - {'error': {'message': 'Rate limit reached for model `llama3-70b-8192` in organization `org_01hyxq37sqedzv9mxk1rtkzebz` on tokens per minute (TPM): Limit 6000, Used 0, Requested ~6165. Please try again in 1.65s. Visit https://console.groq.com/docs/rate-limits for more information.', 'type': 'tokens', 'code': 'rate_limit_exceeded'}}\n"
     ]
    },
    {
     "name": "stderr",
     "output_type": "stream",
     "text": [
      "Accuracy: 0.69:  90%|████████▉ | 600/670 [1:20:51<16:58, 14.56s/it]"
     ]
    },
    {
     "name": "stdout",
     "output_type": "stream",
     "text": [
      "Error code: 429 - {'error': {'message': 'Rate limit reached for model `llama3-70b-8192` in organization `org_01hyxq37sqedzv9mxk1rtkzebz` on tokens per minute (TPM): Limit 6000, Used 0, Requested ~6165. Please try again in 1.65s. Visit https://console.groq.com/docs/rate-limits for more information.', 'type': 'tokens', 'code': 'rate_limit_exceeded'}}\n"
     ]
    },
    {
     "name": "stderr",
     "output_type": "stream",
     "text": [
      "Accuracy: 0.69: 100%|█████████▉| 669/670 [1:31:13<00:06,  6.98s/it]"
     ]
    },
    {
     "name": "stdout",
     "output_type": "stream",
     "text": [
      "Error code: 429 - {'error': {'message': 'Rate limit reached for model `llama3-70b-8192` in organization `org_01hyxq37sqedzv9mxk1rtkzebz` on tokens per minute (TPM): Limit 6000, Used 0, Requested ~7436. Please try again in 14.36s. Visit https://console.groq.com/docs/rate-limits for more information.', 'type': 'tokens', 'code': 'rate_limit_exceeded'}}\n",
      "Error code: 429 - {'error': {'message': 'Rate limit reached for model `llama3-70b-8192` in organization `org_01hyxq37sqedzv9mxk1rtkzebz` on tokens per minute (TPM): Limit 6000, Used 0, Requested ~7436. Please try again in 14.36s. Visit https://console.groq.com/docs/rate-limits for more information.', 'type': 'tokens', 'code': 'rate_limit_exceeded'}}\n",
      "Error code: 429 - {'error': {'message': 'Rate limit reached for model `llama3-70b-8192` in organization `org_01hyxq37sqedzv9mxk1rtkzebz` on tokens per minute (TPM): Limit 6000, Used 0, Requested ~7436. Please try again in 14.36s. Visit https://console.groq.com/docs/rate-limits for more information.', 'type': 'tokens', 'code': 'rate_limit_exceeded'}}\n",
      "Error code: 429 - {'error': {'message': 'Rate limit reached for model `llama3-70b-8192` in organization `org_01hyxq37sqedzv9mxk1rtkzebz` on tokens per minute (TPM): Limit 6000, Used 0, Requested ~7436. Please try again in 14.36s. Visit https://console.groq.com/docs/rate-limits for more information.', 'type': 'tokens', 'code': 'rate_limit_exceeded'}}\n"
     ]
    },
    {
     "name": "stderr",
     "output_type": "stream",
     "text": [
      "Accuracy: 0.69: 100%|██████████| 670/670 [1:34:05<00:00,  8.43s/it]"
     ]
    },
    {
     "name": "stdout",
     "output_type": "stream",
     "text": [
      "Error code: 429 - {'error': {'message': 'Rate limit reached for model `llama3-70b-8192` in organization `org_01hyxq37sqedzv9mxk1rtkzebz` on tokens per minute (TPM): Limit 6000, Used 0, Requested ~7436. Please try again in 14.36s. Visit https://console.groq.com/docs/rate-limits for more information.', 'type': 'tokens', 'code': 'rate_limit_exceeded'}}\n"
     ]
    },
    {
     "name": "stderr",
     "output_type": "stream",
     "text": [
      "\n"
     ]
    }
   ],
   "source": [
    "NUM_SAMPLES = 670  # in order to compare with 0-shot learning\n",
    "# NUM_SAMPLES = int(data.shape[0] * 0.2)  # 20% of the data\n",
    "error_counter = 0\n",
    "\n",
    "for index, entry in (tqdm_bar := tqdm(data.iloc[:NUM_SAMPLES].iterrows(), total=NUM_SAMPLES)):\n",
    "    text = entry['text']\n",
    "    response = get_response_few_shot(text, filtered_data)\n",
    "    if not response:\n",
    "        error_counter += 1\n",
    "        continue\n",
    "    if response['prediction'] not in ['coalition', 'opposition']:\n",
    "        error_counter += 1\n",
    "        continue\n",
    "\n",
    "    data.loc[index, 'prediction'] = response['prediction']\n",
    "    data.loc[index, 'reasoning'] = response['reasoning']\n",
    "    data.loc[index, 'labeled_prediction'] = int(data.loc[index, 'prediction'] == 'opposition')\n",
    "\n",
    "    # Update true/false count to see in the progress bar \n",
    "    data_subset = data.loc[:index].dropna(subset=['labeled_prediction', 'prediction'])\n",
    "    distribution = (data_subset['labeled_prediction'] == data_subset['label']).value_counts(normalize=True)\n",
    "    tqdm_bar.set_description(f\"Accuracy: {distribution.get(True, 0):.2f}\")"
   ]
  },
  {
   "cell_type": "code",
   "execution_count": 9,
   "metadata": {},
   "outputs": [
    {
     "name": "stdout",
     "output_type": "stream",
     "text": [
      "Accuracy: 0.69\n",
      "Errors: 4\n"
     ]
    }
   ],
   "source": [
    "data_subset = data.dropna(subset=['labeled_prediction', 'prediction'])\n",
    "distribution = (data_subset['labeled_prediction'] == data_subset['label']).value_counts(normalize=True)\n",
    "print(f\"Accuracy: {distribution.get(True, 0):.2f}\")\n",
    "print(f'Errors:', error_counter)"
   ]
  },
  {
   "cell_type": "code",
   "execution_count": 12,
   "metadata": {},
   "outputs": [],
   "source": [
    "import os \n",
    "\n",
    "FOLDER_PATH = 'results'\n",
    "FILE_PATH = 'results/power-ua-results-few.tsv'\n",
    "\n",
    "if not os.path.exists(FOLDER_PATH):\n",
    "    os.makedirs(FOLDER_PATH)\n",
    "\n",
    "data.to_csv(FILE_PATH, sep='\\t')"
   ]
  }
 ],
 "metadata": {
  "kernelspec": {
   "display_name": "uuenv",
   "language": "python",
   "name": "python3"
  },
  "language_info": {
   "codemirror_mode": {
    "name": "ipython",
    "version": 3
   },
   "file_extension": ".py",
   "mimetype": "text/x-python",
   "name": "python",
   "nbconvert_exporter": "python",
   "pygments_lexer": "ipython3",
   "version": "3.12.1"
  }
 },
 "nbformat": 4,
 "nbformat_minor": 2
}
